{
 "cells": [
  {
   "cell_type": "markdown",
   "id": "e22f1975-d183-4986-aca1-705f71fa9d30",
   "metadata": {},
   "source": [
    "# TMDB Dataset Investigation -Judah Sleibi "
   ]
  },
  {
   "cell_type": "markdown",
   "id": "ff271ed2-16f8-453b-b28c-72cd677b304f",
   "metadata": {},
   "source": [
    "## Importing used libraries: "
   ]
  },
  {
   "cell_type": "code",
   "execution_count": 3,
   "id": "1e41a97d-1f8f-4c22-8779-15994fd40f5e",
   "metadata": {},
   "outputs": [],
   "source": [
    "# Import used libraries\n",
    "import pandas as pd\n",
    "import numpy as np\n",
    "import json\n",
    "import matplotlib.pyplot as plt\n",
    "import missingno as misgo\n",
    "import seaborn as sns"
   ]
  },
  {
   "cell_type": "markdown",
   "id": "2ed09cc6-0d05-4b0f-aa2e-7bbacc4c7c3d",
   "metadata": {},
   "source": [
    "## Dataset reading: "
   ]
  },
  {
   "cell_type": "code",
   "execution_count": 5,
   "id": "4ca4940d-228d-4240-8531-c968f1138eec",
   "metadata": {},
   "outputs": [
    {
     "data": {
      "text/html": [
       "<div>\n",
       "<style scoped>\n",
       "    .dataframe tbody tr th:only-of-type {\n",
       "        vertical-align: middle;\n",
       "    }\n",
       "\n",
       "    .dataframe tbody tr th {\n",
       "        vertical-align: top;\n",
       "    }\n",
       "\n",
       "    .dataframe thead th {\n",
       "        text-align: right;\n",
       "    }\n",
       "</style>\n",
       "<table border=\"1\" class=\"dataframe\">\n",
       "  <thead>\n",
       "    <tr style=\"text-align: right;\">\n",
       "      <th></th>\n",
       "      <th>id</th>\n",
       "      <th>imdb_id</th>\n",
       "      <th>popularity</th>\n",
       "      <th>budget</th>\n",
       "      <th>revenue</th>\n",
       "      <th>original_title</th>\n",
       "      <th>cast</th>\n",
       "      <th>homepage</th>\n",
       "      <th>director</th>\n",
       "      <th>tagline</th>\n",
       "      <th>...</th>\n",
       "      <th>overview</th>\n",
       "      <th>runtime</th>\n",
       "      <th>genres</th>\n",
       "      <th>production_companies</th>\n",
       "      <th>release_date</th>\n",
       "      <th>vote_count</th>\n",
       "      <th>vote_average</th>\n",
       "      <th>release_year</th>\n",
       "      <th>budget_adj</th>\n",
       "      <th>revenue_adj</th>\n",
       "    </tr>\n",
       "  </thead>\n",
       "  <tbody>\n",
       "    <tr>\n",
       "      <th>0</th>\n",
       "      <td>135397</td>\n",
       "      <td>tt0369610</td>\n",
       "      <td>32.985763</td>\n",
       "      <td>150000000</td>\n",
       "      <td>1513528810</td>\n",
       "      <td>Jurassic World</td>\n",
       "      <td>Chris Pratt|Bryce Dallas Howard|Irrfan Khan|Vi...</td>\n",
       "      <td>http://www.jurassicworld.com/</td>\n",
       "      <td>Colin Trevorrow</td>\n",
       "      <td>The park is open.</td>\n",
       "      <td>...</td>\n",
       "      <td>Twenty-two years after the events of Jurassic ...</td>\n",
       "      <td>124</td>\n",
       "      <td>Action|Adventure|Science Fiction|Thriller</td>\n",
       "      <td>Universal Studios|Amblin Entertainment|Legenda...</td>\n",
       "      <td>6/9/15</td>\n",
       "      <td>5562</td>\n",
       "      <td>6.5</td>\n",
       "      <td>2015</td>\n",
       "      <td>1.379999e+08</td>\n",
       "      <td>1.392446e+09</td>\n",
       "    </tr>\n",
       "    <tr>\n",
       "      <th>1</th>\n",
       "      <td>76341</td>\n",
       "      <td>tt1392190</td>\n",
       "      <td>28.419936</td>\n",
       "      <td>150000000</td>\n",
       "      <td>378436354</td>\n",
       "      <td>Mad Max: Fury Road</td>\n",
       "      <td>Tom Hardy|Charlize Theron|Hugh Keays-Byrne|Nic...</td>\n",
       "      <td>http://www.madmaxmovie.com/</td>\n",
       "      <td>George Miller</td>\n",
       "      <td>What a Lovely Day.</td>\n",
       "      <td>...</td>\n",
       "      <td>An apocalyptic story set in the furthest reach...</td>\n",
       "      <td>120</td>\n",
       "      <td>Action|Adventure|Science Fiction|Thriller</td>\n",
       "      <td>Village Roadshow Pictures|Kennedy Miller Produ...</td>\n",
       "      <td>5/13/15</td>\n",
       "      <td>6185</td>\n",
       "      <td>7.1</td>\n",
       "      <td>2015</td>\n",
       "      <td>1.379999e+08</td>\n",
       "      <td>3.481613e+08</td>\n",
       "    </tr>\n",
       "    <tr>\n",
       "      <th>2</th>\n",
       "      <td>262500</td>\n",
       "      <td>tt2908446</td>\n",
       "      <td>13.112507</td>\n",
       "      <td>110000000</td>\n",
       "      <td>295238201</td>\n",
       "      <td>Insurgent</td>\n",
       "      <td>Shailene Woodley|Theo James|Kate Winslet|Ansel...</td>\n",
       "      <td>http://www.thedivergentseries.movie/#insurgent</td>\n",
       "      <td>Robert Schwentke</td>\n",
       "      <td>One Choice Can Destroy You</td>\n",
       "      <td>...</td>\n",
       "      <td>Beatrice Prior must confront her inner demons ...</td>\n",
       "      <td>119</td>\n",
       "      <td>Adventure|Science Fiction|Thriller</td>\n",
       "      <td>Summit Entertainment|Mandeville Films|Red Wago...</td>\n",
       "      <td>3/18/15</td>\n",
       "      <td>2480</td>\n",
       "      <td>6.3</td>\n",
       "      <td>2015</td>\n",
       "      <td>1.012000e+08</td>\n",
       "      <td>2.716190e+08</td>\n",
       "    </tr>\n",
       "  </tbody>\n",
       "</table>\n",
       "<p>3 rows × 21 columns</p>\n",
       "</div>"
      ],
      "text/plain": [
       "       id    imdb_id  popularity     budget     revenue      original_title  \\\n",
       "0  135397  tt0369610   32.985763  150000000  1513528810      Jurassic World   \n",
       "1   76341  tt1392190   28.419936  150000000   378436354  Mad Max: Fury Road   \n",
       "2  262500  tt2908446   13.112507  110000000   295238201           Insurgent   \n",
       "\n",
       "                                                cast  \\\n",
       "0  Chris Pratt|Bryce Dallas Howard|Irrfan Khan|Vi...   \n",
       "1  Tom Hardy|Charlize Theron|Hugh Keays-Byrne|Nic...   \n",
       "2  Shailene Woodley|Theo James|Kate Winslet|Ansel...   \n",
       "\n",
       "                                         homepage          director  \\\n",
       "0                   http://www.jurassicworld.com/   Colin Trevorrow   \n",
       "1                     http://www.madmaxmovie.com/     George Miller   \n",
       "2  http://www.thedivergentseries.movie/#insurgent  Robert Schwentke   \n",
       "\n",
       "                      tagline  ...  \\\n",
       "0           The park is open.  ...   \n",
       "1          What a Lovely Day.  ...   \n",
       "2  One Choice Can Destroy You  ...   \n",
       "\n",
       "                                            overview runtime  \\\n",
       "0  Twenty-two years after the events of Jurassic ...     124   \n",
       "1  An apocalyptic story set in the furthest reach...     120   \n",
       "2  Beatrice Prior must confront her inner demons ...     119   \n",
       "\n",
       "                                      genres  \\\n",
       "0  Action|Adventure|Science Fiction|Thriller   \n",
       "1  Action|Adventure|Science Fiction|Thriller   \n",
       "2         Adventure|Science Fiction|Thriller   \n",
       "\n",
       "                                production_companies release_date vote_count  \\\n",
       "0  Universal Studios|Amblin Entertainment|Legenda...       6/9/15       5562   \n",
       "1  Village Roadshow Pictures|Kennedy Miller Produ...      5/13/15       6185   \n",
       "2  Summit Entertainment|Mandeville Films|Red Wago...      3/18/15       2480   \n",
       "\n",
       "   vote_average  release_year    budget_adj   revenue_adj  \n",
       "0           6.5          2015  1.379999e+08  1.392446e+09  \n",
       "1           7.1          2015  1.379999e+08  3.481613e+08  \n",
       "2           6.3          2015  1.012000e+08  2.716190e+08  \n",
       "\n",
       "[3 rows x 21 columns]"
      ]
     },
     "execution_count": 5,
     "metadata": {},
     "output_type": "execute_result"
    }
   ],
   "source": [
    "# Load the dataset from CSV file\n",
    "Dataframe = pd.read_csv('tmdb-movies.csv')\n",
    "Dataframe.head(3)"
   ]
  },
  {
   "cell_type": "code",
   "execution_count": 6,
   "id": "40c063ec-7f20-49ae-843b-7553cb545780",
   "metadata": {},
   "outputs": [
    {
     "data": {
      "text/plain": [
       "(10866, 21)"
      ]
     },
     "execution_count": 6,
     "metadata": {},
     "output_type": "execute_result"
    }
   ],
   "source": [
    "# Get the shape of the dataset (rows, columns)\n",
    "Dataframe.shape"
   ]
  },
  {
   "cell_type": "markdown",
   "id": "795839d3-b74a-4b41-9adc-86a4a1b65b46",
   "metadata": {},
   "source": [
    "## Introduction and Description of the Data\n",
    "This dataset provides information about movies from the TMDb _The Movie Database_, including various features related to each film, such as budget, revenue, cast, director, popularity, etc. The dataset consists of 10,866 entries and 21 columns."
   ]
  },
  {
   "cell_type": "markdown",
   "id": "a0c199f2-2567-4c8c-9e7a-505e8838b7e8",
   "metadata": {},
   "source": [
    "## Dataset Overview\n",
    "1. **id** - Unique identifier for the movie.\n",
    "2. **imdb_id** - IMDb identifier for the movie.\n",
    "3. **popularity** - Numeric score indicating movie popularity.\n",
    "4. **budget** - Production budget (in USD).\n",
    "5. **revenue** - Total revenue generated (in USD).\n",
    "6. **original_title** - Original title of the movie.\n",
    "7. **cast** - List of main actors.\n",
    "8. **homepage** - Official website (if available).\n",
    "9. **director** - Director's name.\n",
    "10. **tagline** - Promotional tagline.\n",
    "11. **keywords** - Keywords associated with the movie.\n",
    "12. **overview** - Short summary of the movie.\n",
    "13. **runtime** - Duration (in minutes).\n",
    "14. **genres** - Movie genres (e.g., Action, Comedy).\n",
    "15. **production_companies** - Companies involved in production.\n",
    "16. **release_date** - Movie’s release date.\n",
    "17. **vote_count** - Number of votes received.\n",
    "18. **vote_average** - Average rating.\n",
    "19. **release_year** - Year of release.\n",
    "20. **budget_adj** - Budget adjusted for inflation.\n",
    "21. **revenue_adj** - Revenue adjusted for inflation."
   ]
  },
  {
   "cell_type": "markdown",
   "id": "efbe4e14-bfab-42f6-8b84-b7b5183589c7",
   "metadata": {},
   "source": [
    "## Checking dataset entries, null values counts and types:"
   ]
  },
  {
   "cell_type": "code",
   "execution_count": 10,
   "id": "fc697c3b-a5e0-44c7-a601-f5ecbddfaf04",
   "metadata": {},
   "outputs": [
    {
     "name": "stdout",
     "output_type": "stream",
     "text": [
      "<class 'pandas.core.frame.DataFrame'>\n",
      "RangeIndex: 10866 entries, 0 to 10865\n",
      "Data columns (total 21 columns):\n",
      " #   Column                Non-Null Count  Dtype  \n",
      "---  ------                --------------  -----  \n",
      " 0   id                    10866 non-null  int64  \n",
      " 1   imdb_id               10856 non-null  object \n",
      " 2   popularity            10866 non-null  float64\n",
      " 3   budget                10866 non-null  int64  \n",
      " 4   revenue               10866 non-null  int64  \n",
      " 5   original_title        10866 non-null  object \n",
      " 6   cast                  10790 non-null  object \n",
      " 7   homepage              2936 non-null   object \n",
      " 8   director              10822 non-null  object \n",
      " 9   tagline               8042 non-null   object \n",
      " 10  keywords              9373 non-null   object \n",
      " 11  overview              10862 non-null  object \n",
      " 12  runtime               10866 non-null  int64  \n",
      " 13  genres                10843 non-null  object \n",
      " 14  production_companies  9836 non-null   object \n",
      " 15  release_date          10866 non-null  object \n",
      " 16  vote_count            10866 non-null  int64  \n",
      " 17  vote_average          10866 non-null  float64\n",
      " 18  release_year          10866 non-null  int64  \n",
      " 19  budget_adj            10866 non-null  float64\n",
      " 20  revenue_adj           10866 non-null  float64\n",
      "dtypes: float64(4), int64(6), object(11)\n",
      "memory usage: 1.7+ MB\n"
     ]
    }
   ],
   "source": [
    "# Summary information about the dataset\n",
    "Dataframe.info()"
   ]
  },
  {
   "cell_type": "code",
   "execution_count": 11,
   "id": "1649482c-2961-4499-8482-3d28094469da",
   "metadata": {},
   "outputs": [
    {
     "data": {
      "image/png": "[encoded data removed]",
      "text/plain": [
       "<Figure size 2500x1000 with 3 Axes>"
      ]
     },
     "metadata": {},
     "output_type": "display_data"
    }
   ],
   "source": [
    "# Visualizing missing values in the dataset\n",
    "misgo.bar(Dataframe, color='#01394c')\n",
    "plt.tight_layout()"
   ]
  },
  {
   "cell_type": "markdown",
   "id": "3ec54380-1aef-4cb1-92ed-bb89a57fe727",
   "metadata": {},
   "source": [
    "### id column: "
   ]
  },
  {
   "cell_type": "markdown",
   "id": "f720fcda-f238-4bb8-a109-454775d2fa12",
   "metadata": {},
   "source": [
    "Starting with renaming the column name. "
   ]
  },
  {
   "cell_type": "code",
   "execution_count": 14,
   "id": "00a575c5-e7dc-4bc1-b21f-1a9e67272f3d",
   "metadata": {},
   "outputs": [],
   "source": [
    "# Renaming column with new meaningful name\n",
    "Dataframe.rename(columns={'id': 'ID'}, inplace=True)"
   ]
  },
  {
   "cell_type": "markdown",
   "id": "614b3414-60e5-47c8-8bec-148dff57053a",
   "metadata": {},
   "source": [
    "Inspecting the first five rows of the column: "
   ]
  },
  {
   "cell_type": "code",
   "execution_count": 16,
   "id": "5de3cd2d-c6bb-412f-a649-08c3374cb994",
   "metadata": {},
   "outputs": [
    {
     "data": {
      "text/plain": [
       "0    135397\n",
       "1     76341\n",
       "2    262500\n",
       "3    140607\n",
       "4    168259\n",
       "Name: ID, dtype: int64"
      ]
     },
     "execution_count": 16,
     "metadata": {},
     "output_type": "execute_result"
    }
   ],
   "source": [
    "# Displaying the first five rows of the dataframe\n",
    "Dataframe['ID'].head(5)"
   ]
  },
  {
   "cell_type": "code",
   "execution_count": 17,
   "id": "6e5ea362-90f0-4d81-8d64-b2f890cccf28",
   "metadata": {},
   "outputs": [
    {
     "data": {
      "text/plain": [
       "count     10866.000000\n",
       "mean      66064.177434\n",
       "std       92130.136561\n",
       "min           5.000000\n",
       "25%       10596.250000\n",
       "50%       20669.000000\n",
       "75%       75610.000000\n",
       "max      417859.000000\n",
       "Name: ID, dtype: float64"
      ]
     },
     "execution_count": 17,
     "metadata": {},
     "output_type": "execute_result"
    }
   ],
   "source": [
    "# Generating statistical description \n",
    "Dataframe['ID'].describe()"
   ]
  },
  {
   "cell_type": "markdown",
   "id": "7b0aed48-5f77-4b99-b834-f0d60dd0bbb3",
   "metadata": {},
   "source": [
    "The maximum value of Budget column is **417859.000000** which is smaller than 2^32 **429 496 7296**, so instead of using the float64 for storing we can use float32 minimizing the memory storage.   "
   ]
  },
  {
   "cell_type": "code",
   "execution_count": 19,
   "id": "8ae915d0-4c3c-46c0-b24a-1d4c809bdd25",
   "metadata": {},
   "outputs": [],
   "source": [
    "# Changing the type of the data from float64 into float32 saving more memory\n",
    "Dataframe['ID'] = Dataframe['ID'].astype('float32')"
   ]
  },
  {
   "cell_type": "markdown",
   "id": "7b451be1-7450-49b9-bc41-bf43b1a105b8",
   "metadata": {},
   "source": [
    "Checking for null or missing values:"
   ]
  },
  {
   "cell_type": "code",
   "execution_count": 21,
   "id": "42bb5c1c-9aa3-45ac-b5b5-7e781bd6d428",
   "metadata": {},
   "outputs": [
    {
     "name": "stdout",
     "output_type": "stream",
     "text": [
      "Number of null values: 0\n"
     ]
    }
   ],
   "source": [
    "# Number of null values\n",
    "print(\"Number of null values: \" +str(Dataframe['ID'].isna().sum()))"
   ]
  },
  {
   "cell_type": "code",
   "execution_count": 22,
   "id": "d6c3d1c2-e452-4648-86c0-c698972e1601",
   "metadata": {},
   "outputs": [],
   "source": [
    "# Histogram function to avoid repetition : \n",
    "def plot_histogram(data, column_name, bins=10, color='#01394c', title='Histogram', xlabel='Value', ylabel='Frequency'):\n",
    "    \n",
    "    plt.figure(figsize=(10, 7))\n",
    "    plt.hist(data[column_name], bins=bins, color=color)\n",
    "    plt.title(title)\n",
    "    plt.xlabel(xlabel)\n",
    "    plt.ylabel(ylabel)\n",
    "    plt.show()\n"
   ]
  },
  {
   "cell_type": "markdown",
   "id": "6e668c0b-f2d4-4649-964e-5eaac028bcf3",
   "metadata": {},
   "source": [
    "Plotting the data as histogram to observe the distribution: "
   ]
  },
  {
   "cell_type": "code",
   "execution_count": 24,
   "id": "5929a07f-2c7d-4f13-b1bf-e9b0c93504a0",
   "metadata": {},
   "outputs": [
    {
     "data": {
      "image/png": "[encoded data removed]",
      "text/plain": [
       "<Figure size 1000x700 with 1 Axes>"
      ]
     },
     "metadata": {},
     "output_type": "display_data"
    }
   ],
   "source": [
    "# Plotting the histogram\n",
    "plot_histogram(Dataframe, 'ID', bins=15, title='Histogram of ID Data', xlabel='ID', ylabel='Frequency')"
   ]
  },
  {
   "cell_type": "markdown",
   "id": "bbaca0ec-2ba1-406e-935b-24410a5eca56",
   "metadata": {},
   "source": [
    "Results explained:\n",
    "1. The histogram is right-skewed, meaning most of the data are concentrated in the lower range, while fewer values extend towards the higher range."
   ]
  },
  {
   "cell_type": "markdown",
   "id": "9b089c7a-117c-4d21-9d3e-0f569cdea5ba",
   "metadata": {},
   "source": [
    "### imdb_id column: "
   ]
  },
  {
   "cell_type": "code",
   "execution_count": 27,
   "id": "f10e4149-914f-4a03-9a2e-6505661de160",
   "metadata": {},
   "outputs": [],
   "source": [
    "# Renaming column with new meaningful name\n",
    "Dataframe.rename(columns={'imdb_id': 'IMDB ID'}, inplace=True)"
   ]
  },
  {
   "cell_type": "markdown",
   "id": "99cca445-e4f8-4a49-b054-902670f925dd",
   "metadata": {},
   "source": [
    "Inspecting the first five rows of the column: "
   ]
  },
  {
   "cell_type": "code",
   "execution_count": 29,
   "id": "6224348e-e335-4789-a73a-bba970eb21db",
   "metadata": {},
   "outputs": [
    {
     "data": {
      "text/plain": [
       "0    tt0369610\n",
       "1    tt1392190\n",
       "2    tt2908446\n",
       "3    tt2488496\n",
       "4    tt2820852\n",
       "Name: IMDB ID, dtype: object"
      ]
     },
     "execution_count": 29,
     "metadata": {},
     "output_type": "execute_result"
    }
   ],
   "source": [
    "# Displaying the first five rows of the dataframe\n",
    "Dataframe['IMDB ID'].head(5)"
   ]
  },
  {
   "cell_type": "markdown",
   "id": "ab33c5bf-a36c-4e70-917f-f4a85625662f",
   "metadata": {},
   "source": [
    "Extracting numbers from the invalid data"
   ]
  },
  {
   "cell_type": "code",
   "execution_count": 31,
   "id": "0c62474d-fbc9-4412-89d9-004cfcbb4b1a",
   "metadata": {},
   "outputs": [],
   "source": [
    "# Extracting int values form strings \n",
    "Dataframe['IMDB ID'] = Dataframe['IMDB ID'].str.extract(r'(\\d+)')"
   ]
  },
  {
   "cell_type": "markdown",
   "id": "c8aee558-876d-4ef3-b181-0cd06f461845",
   "metadata": {},
   "source": [
    "Inspecting the first five rows of the column: "
   ]
  },
  {
   "cell_type": "code",
   "execution_count": 33,
   "id": "99309c52-200b-4789-b940-43e3d8a93016",
   "metadata": {},
   "outputs": [
    {
     "data": {
      "text/plain": [
       "0    0369610\n",
       "1    1392190\n",
       "2    2908446\n",
       "3    2488496\n",
       "4    2820852\n",
       "Name: IMDB ID, dtype: object"
      ]
     },
     "execution_count": 33,
     "metadata": {},
     "output_type": "execute_result"
    }
   ],
   "source": [
    "# Displaying the first five rows of the dataframe\n",
    "Dataframe['IMDB ID'].head(5)"
   ]
  },
  {
   "cell_type": "code",
   "execution_count": 34,
   "id": "233d6d62-c9ea-4d47-86b7-32594aeaf518",
   "metadata": {},
   "outputs": [],
   "source": [
    "# Changing the type of the data into float64\n",
    "Dataframe['IMDB ID'] = Dataframe['IMDB ID'].astype('float64')"
   ]
  },
  {
   "cell_type": "code",
   "execution_count": 35,
   "id": "48db6bc6-94ba-4413-953e-533a1768f0ef",
   "metadata": {},
   "outputs": [
    {
     "data": {
      "text/plain": [
       "count    1.085600e+04\n",
       "mean     9.414629e+05\n",
       "std      1.042664e+06\n",
       "min      3.542300e+04\n",
       "25%      1.126902e+05\n",
       "50%      4.200355e+05\n",
       "75%      1.558814e+06\n",
       "max      6.019206e+06\n",
       "Name: IMDB ID, dtype: float64"
      ]
     },
     "execution_count": 35,
     "metadata": {},
     "output_type": "execute_result"
    }
   ],
   "source": [
    "# Generating statistical description \n",
    "Dataframe['IMDB ID'].describe()"
   ]
  },
  {
   "cell_type": "markdown",
   "id": "34a22add-792e-4332-b880-43a5dd0b1e84",
   "metadata": {},
   "source": [
    "The maximum value of IMDB ID column is **6019206** which is smaller than 2^32 **429 496 7296**, so instead of using the float64 for storing we can use float32 minimizing the memory storage.   "
   ]
  },
  {
   "cell_type": "code",
   "execution_count": 37,
   "id": "a07d045b-6efd-4440-a491-d7e5cebf1424",
   "metadata": {},
   "outputs": [],
   "source": [
    "# Changing the type of the data from float64 into float32 saving more memory\n",
    "Dataframe['IMDB ID'] = Dataframe['IMDB ID'].astype('float32')"
   ]
  },
  {
   "cell_type": "markdown",
   "id": "1a40a0ba-fa1e-4b2f-b4f4-291905031392",
   "metadata": {},
   "source": [
    "Checking for null or missing values:"
   ]
  },
  {
   "cell_type": "code",
   "execution_count": 39,
   "id": "3bbb2e08-6d3f-4ab4-a851-e0ea4540ea4e",
   "metadata": {},
   "outputs": [
    {
     "name": "stdout",
     "output_type": "stream",
     "text": [
      "Number of null values: 10\n"
     ]
    }
   ],
   "source": [
    "# Number of null values\n",
    "print(\"Number of null values: \" +str(Dataframe['IMDB ID'].isna().sum()))"
   ]
  },
  {
   "cell_type": "markdown",
   "id": "bb233dc3-26f0-4781-9afd-15a512bdd80d",
   "metadata": {},
   "source": [
    "Plotting the data as histogram to observe the distribution: "
   ]
  },
  {
   "cell_type": "code",
   "execution_count": 41,
   "id": "42b908ab-cd5e-4137-ab8d-70ee77008538",
   "metadata": {},
   "outputs": [
    {
     "data": {
      "image/png": "[encoded data removed]",
      "text/plain": [
       "<Figure size 1000x700 with 1 Axes>"
      ]
     },
     "metadata": {},
     "output_type": "display_data"
    }
   ],
   "source": [
    "# Plotting the histogram\n",
    "plot_histogram(Dataframe, 'IMDB ID', bins=15, title='Histogram of IMDB ID Data', xlabel='IMDB ID', ylabel='Frequency')"
   ]
  },
  {
   "cell_type": "markdown",
   "id": "6f727e54-077a-4809-bf22-cfeb6304b8fc",
   "metadata": {},
   "source": [
    "Results explained:\n",
    "1. The histogram is highly right-skewed.\n",
    "2. Most values are at the lower range, while fewer values extend to the higher range."
   ]
  },
  {
   "cell_type": "markdown",
   "id": "36215f30-c4d7-44c6-b99e-14fe1a111aa2",
   "metadata": {},
   "source": [
    "## popularity column: "
   ]
  },
  {
   "cell_type": "code",
   "execution_count": 44,
   "id": "e7ae830a-fba6-4217-a43c-6f1f24396675",
   "metadata": {},
   "outputs": [],
   "source": [
    "# Renaming column with new meaningful name\n",
    "Dataframe.rename(columns={'popularity': 'Popularity'}, inplace=True)"
   ]
  },
  {
   "cell_type": "code",
   "execution_count": 45,
   "id": "30244e83-9188-4382-9a83-b806ae2f1435",
   "metadata": {},
   "outputs": [
    {
     "data": {
      "text/plain": [
       "0    32.985763\n",
       "1    28.419936\n",
       "2    13.112507\n",
       "3    11.173104\n",
       "4     9.335014\n",
       "Name: Popularity, dtype: float64"
      ]
     },
     "execution_count": 45,
     "metadata": {},
     "output_type": "execute_result"
    }
   ],
   "source": [
    "# Displaying the first five rows of the dataframe\n",
    "Dataframe['Popularity'].head(5)"
   ]
  },
  {
   "cell_type": "code",
   "execution_count": 46,
   "id": "e2b21c9b-67fd-4adc-b09f-31540a4e8776",
   "metadata": {},
   "outputs": [
    {
     "data": {
      "text/plain": [
       "count    10866.000000\n",
       "mean         0.646441\n",
       "std          1.000185\n",
       "min          0.000065\n",
       "25%          0.207583\n",
       "50%          0.383856\n",
       "75%          0.713817\n",
       "max         32.985763\n",
       "Name: Popularity, dtype: float64"
      ]
     },
     "execution_count": 46,
     "metadata": {},
     "output_type": "execute_result"
    }
   ],
   "source": [
    "# Generating statistical description\n",
    "Dataframe['Popularity'].describe()"
   ]
  },
  {
   "cell_type": "markdown",
   "id": "01d37d4d-6f5f-413c-aef7-ccc251b4ce67",
   "metadata": {},
   "source": [
    "The maximum value of Popularity column is **32.985763** which is smaller than 2^32 **429 496 7296**, so instead of using the float64 for storing we can use float16 minimizing the memory storage.   "
   ]
  },
  {
   "cell_type": "code",
   "execution_count": 48,
   "id": "821371f5-efe3-4418-80a3-b13e2bccf859",
   "metadata": {},
   "outputs": [],
   "source": [
    "# Changing the type of the data from float64 into float16 saving more memory\n",
    "Dataframe['Popularity'] = Dataframe['Popularity'].astype('float16')"
   ]
  },
  {
   "cell_type": "markdown",
   "id": "1902c9a1-2b1f-4f38-91c1-7941145e0d7d",
   "metadata": {},
   "source": [
    "Checking for null or missing values:"
   ]
  },
  {
   "cell_type": "code",
   "execution_count": 50,
   "id": "bddf3484-8cc5-4291-adac-c4829aa2c64a",
   "metadata": {},
   "outputs": [
    {
     "name": "stdout",
     "output_type": "stream",
     "text": [
      "Number of null values: 0\n"
     ]
    }
   ],
   "source": [
    "# Number of null values\n",
    "print(\"Number of null values: \" +str(Dataframe['Popularity'].isna().sum()))"
   ]
  },
  {
   "cell_type": "markdown",
   "id": "a40e44cd-cef5-4677-9d89-d9e0c516ad3f",
   "metadata": {},
   "source": [
    "Plotting the data as histogram to observe the distribution: "
   ]
  },
  {
   "cell_type": "code",
   "execution_count": 52,
   "id": "f1609c9d-ba87-4f84-be2f-ca0a6e973ce2",
   "metadata": {},
   "outputs": [
    {
     "data": {
      "image/png": "[encoded data removed]",
      "text/plain": [
       "<Figure size 1000x700 with 1 Axes>"
      ]
     },
     "metadata": {},
     "output_type": "display_data"
    }
   ],
   "source": [
    "# Plotting the histogram\n",
    "plot_histogram(Dataframe, 'Popularity', bins=15, title='Histogram of Popularity Data', xlabel='Popularity', ylabel='Frequency')"
   ]
  },
  {
   "cell_type": "markdown",
   "id": "9e65ebdd-f606-4758-8ff7-4642a3a654ee",
   "metadata": {},
   "source": [
    "Results explained:\n",
    "1. The data appears to be highly right-skewed.\n",
    "2. Most of the values are concentrated near zero, with a few extreme values extending further along the x-axis.\n",
    "3. There are very few data points beyond a popularity score of 5 meaning that only a small number of movies have high popularity."
   ]
  },
  {
   "cell_type": "markdown",
   "id": "525f87e3-ecae-4d5d-bc5e-259a24032130",
   "metadata": {},
   "source": [
    "### budget column:"
   ]
  },
  {
   "cell_type": "markdown",
   "id": "50d9aaa6-5024-4370-883b-4d459d70af1d",
   "metadata": {},
   "source": [
    "Starting with renaming the column name. "
   ]
  },
  {
   "cell_type": "code",
   "execution_count": 56,
   "id": "90e52803-1f3d-4061-8194-30af4d365767",
   "metadata": {},
   "outputs": [],
   "source": [
    "# Renaming column with new meaningful name\n",
    "Dataframe.rename(columns={'budget': 'Budget'}, inplace=True)"
   ]
  },
  {
   "cell_type": "markdown",
   "id": "e2ec81e3-9f2b-4431-9503-9de4b3558faa",
   "metadata": {},
   "source": [
    "Inspecting the first five rows of the column: "
   ]
  },
  {
   "cell_type": "code",
   "execution_count": 58,
   "id": "f22ae274-c112-431e-9271-3013f762d9f7",
   "metadata": {},
   "outputs": [
    {
     "data": {
      "text/plain": [
       "0    150000000\n",
       "1    150000000\n",
       "2    110000000\n",
       "3    200000000\n",
       "4    190000000\n",
       "Name: Budget, dtype: int64"
      ]
     },
     "execution_count": 58,
     "metadata": {},
     "output_type": "execute_result"
    }
   ],
   "source": [
    "# Displaying the first five rows of the dataframe\n",
    "Dataframe['Budget'].head(5)"
   ]
  },
  {
   "cell_type": "markdown",
   "id": "eebc0dac-cd15-4a09-a94b-4d718df119c4",
   "metadata": {},
   "source": [
    "Creating descriptive statistics about the feature: "
   ]
  },
  {
   "cell_type": "code",
   "execution_count": 60,
   "id": "67b9b814-edcc-4226-aa20-bc4afb2da293",
   "metadata": {},
   "outputs": [
    {
     "data": {
      "text/plain": [
       "count    1.086600e+04\n",
       "mean     1.462570e+07\n",
       "std      3.091321e+07\n",
       "min      0.000000e+00\n",
       "25%      0.000000e+00\n",
       "50%      0.000000e+00\n",
       "75%      1.500000e+07\n",
       "max      4.250000e+08\n",
       "Name: Budget, dtype: float64"
      ]
     },
     "execution_count": 60,
     "metadata": {},
     "output_type": "execute_result"
    }
   ],
   "source": [
    "# Generating statistical description \n",
    "Dataframe['Budget'].describe()"
   ]
  },
  {
   "cell_type": "markdown",
   "id": "764e4ea2-73a9-4c89-baf1-d8eb67a7d473",
   "metadata": {},
   "source": [
    "The maximum value of Budget column is **425 000 000** which is smaller than 2^32 **429 496 7296**, so instead of using the int64 for storing we can use int32 minimizing the memory storage.   "
   ]
  },
  {
   "cell_type": "code",
   "execution_count": 62,
   "id": "a8b6abe7-0066-460f-8985-635252b732d1",
   "metadata": {},
   "outputs": [],
   "source": [
    "# Changing the type of the data from int64 into uint32 saving more memory\n",
    "Dataframe['Budget'] = Dataframe['Budget'].astype('uint32')"
   ]
  },
  {
   "cell_type": "markdown",
   "id": "b2e33468-b75a-4249-bd4a-5329f236441a",
   "metadata": {},
   "source": [
    "Checking for null or missing values:"
   ]
  },
  {
   "cell_type": "code",
   "execution_count": 64,
   "id": "ef62e66c-e9be-41de-b61f-009b20a08ec8",
   "metadata": {},
   "outputs": [
    {
     "name": "stdout",
     "output_type": "stream",
     "text": [
      "Number of null values: 0\n"
     ]
    }
   ],
   "source": [
    "# Number of null values\n",
    "print(\"Number of null values: \" +str(Dataframe['Budget'].isna().sum()))"
   ]
  },
  {
   "cell_type": "markdown",
   "id": "43dd2f94-9a91-4f2d-86e2-6a675375c151",
   "metadata": {},
   "source": [
    "Plotting the data as histogram to observe the distribution: "
   ]
  },
  {
   "cell_type": "code",
   "execution_count": 66,
   "id": "6e967529-cbcb-4577-81c0-9edfcf908464",
   "metadata": {},
   "outputs": [
    {
     "data": {
      "image/png": "[encoded data removed]",
      "text/plain": [
       "<Figure size 1000x700 with 1 Axes>"
      ]
     },
     "metadata": {},
     "output_type": "display_data"
    }
   ],
   "source": [
    "# Plotting the histogram\n",
    "plot_histogram(Dataframe, 'Budget', bins=15, title='Histogram of Budget', xlabel='Budget', ylabel='Frequency')"
   ]
  },
  {
   "cell_type": "markdown",
   "id": "629c35cc-d259-485a-9c7e-fe1179851194",
   "metadata": {},
   "source": [
    "Results explained:\n",
    "1. The budget data is highly positively skewed where most movies have very low budgets, while a few have extremely high budgets.\n",
    "2.  A small number of movies have a very high budgets."
   ]
  },
  {
   "cell_type": "markdown",
   "id": "29dca2e7-6e44-4e45-9f60-b4a7b36888a0",
   "metadata": {},
   "source": [
    "### revenue column: "
   ]
  },
  {
   "cell_type": "markdown",
   "id": "5a318229-c07c-479a-b1bc-4daede2d30b0",
   "metadata": {},
   "source": [
    "Starting with renaming the column."
   ]
  },
  {
   "cell_type": "code",
   "execution_count": 70,
   "id": "e78e4c45-a2c2-42cb-b6c8-747cc2b244f7",
   "metadata": {},
   "outputs": [],
   "source": [
    "# Renaming column with new meaningful name\n",
    "Dataframe.rename(columns={'revenue': 'Revenue'}, inplace=True)"
   ]
  },
  {
   "cell_type": "markdown",
   "id": "feab3d3a-a87c-4f77-b9e9-a9c703502bfa",
   "metadata": {},
   "source": [
    "Inspecting the first five rows of the column:"
   ]
  },
  {
   "cell_type": "code",
   "execution_count": 72,
   "id": "54ff9070-d265-403b-b7c9-21b669dc56a7",
   "metadata": {},
   "outputs": [
    {
     "data": {
      "text/plain": [
       "0    1513528810\n",
       "1     378436354\n",
       "2     295238201\n",
       "3    2068178225\n",
       "4    1506249360\n",
       "Name: Revenue, dtype: int64"
      ]
     },
     "execution_count": 72,
     "metadata": {},
     "output_type": "execute_result"
    }
   ],
   "source": [
    "# Displaying the first five rows of the dataframe\n",
    "Dataframe['Revenue'].head(5)"
   ]
  },
  {
   "cell_type": "markdown",
   "id": "f79810f8-a80c-4ceb-b037-5472b0a45f2f",
   "metadata": {},
   "source": [
    "Creating descriptive statistics about the feature:"
   ]
  },
  {
   "cell_type": "code",
   "execution_count": 74,
   "id": "8e3d7baf-5744-47f0-9bb3-866994e9a293",
   "metadata": {},
   "outputs": [
    {
     "data": {
      "text/plain": [
       "count    1.086600e+04\n",
       "mean     3.982332e+07\n",
       "std      1.170035e+08\n",
       "min      0.000000e+00\n",
       "25%      0.000000e+00\n",
       "50%      0.000000e+00\n",
       "75%      2.400000e+07\n",
       "max      2.781506e+09\n",
       "Name: Revenue, dtype: float64"
      ]
     },
     "execution_count": 74,
     "metadata": {},
     "output_type": "execute_result"
    }
   ],
   "source": [
    "# Generating statistical description \n",
    "Dataframe['Revenue'].describe()"
   ]
  },
  {
   "cell_type": "markdown",
   "id": "38fface3-8ccc-4494-983f-1899a3293c46",
   "metadata": {},
   "source": [
    "Checking unique and missing entries: "
   ]
  },
  {
   "cell_type": "code",
   "execution_count": 76,
   "id": "1ef76da4-8263-4478-b827-a07a89215b1f",
   "metadata": {},
   "outputs": [
    {
     "name": "stdout",
     "output_type": "stream",
     "text": [
      "Number of null values: 0\n"
     ]
    }
   ],
   "source": [
    "# Number of null values\n",
    "print(\"Number of null values: \" +str(Dataframe['Revenue'].isna().sum()))"
   ]
  },
  {
   "cell_type": "code",
   "execution_count": 77,
   "id": "7d2e3e76-7634-4a1e-a1f5-bb57feed31a9",
   "metadata": {},
   "outputs": [
    {
     "name": "stdout",
     "output_type": "stream",
     "text": [
      "Unique entries count: 4702\n"
     ]
    }
   ],
   "source": [
    "# Number of unique values\n",
    "print(\"Unique entries count: \" + str(len(Dataframe['Revenue'].unique())))"
   ]
  },
  {
   "cell_type": "markdown",
   "id": "b048f9a3-57ad-47b8-b757-63cec119fdc4",
   "metadata": {},
   "source": [
    "The maximum value of Revenue column is **278 1506 000** which is smaller than 2^32 **429 4967 296**, so instead of using the float64 for storing we can use float32 minimizing the memory storage."
   ]
  },
  {
   "cell_type": "code",
   "execution_count": 79,
   "id": "c6934b5b-1ce6-4ba3-b624-b9a97bd5cbf3",
   "metadata": {},
   "outputs": [],
   "source": [
    "# Changing the type of the data from float64 into float32 saving more memory\n",
    "Dataframe['Revenue'] = Dataframe['Revenue'].astype('float32')"
   ]
  },
  {
   "cell_type": "markdown",
   "id": "fcece89a-9294-4918-861b-7aef85749845",
   "metadata": {},
   "source": [
    "Plotting the data as histogram to observe the distribution: "
   ]
  },
  {
   "cell_type": "code",
   "execution_count": 81,
   "id": "8af9d8e9-570d-4a5d-be78-893e5d1296cd",
   "metadata": {},
   "outputs": [
    {
     "data": {
      "image/png": "[encoded data removed]",
      "text/plain": [
       "<Figure size 1000x700 with 1 Axes>"
      ]
     },
     "metadata": {},
     "output_type": "display_data"
    }
   ],
   "source": [
    "# Plotting the histogram\n",
    "plot_histogram(Dataframe, 'Revenue', bins=15, title='Histogram of Revenue', xlabel='Revenue', ylabel='Frequency')"
   ]
  },
  {
   "cell_type": "markdown",
   "id": "62378e6c-8197-4b93-adaf-71a6a751ed9f",
   "metadata": {},
   "source": [
    "Results explained:\n",
    "1. most movies have low revenues, while a few have extremely high revenues.\n",
    "2. A small number of movies have very high revenues."
   ]
  },
  {
   "cell_type": "markdown",
   "id": "e605556c-8917-4cd6-a61a-210433b1532e",
   "metadata": {},
   "source": [
    "### original_title column: "
   ]
  },
  {
   "cell_type": "markdown",
   "id": "8a31e2e5-6305-4663-99c5-70f5bdd02c2f",
   "metadata": {},
   "source": [
    "Starting with renaming the column."
   ]
  },
  {
   "cell_type": "code",
   "execution_count": 85,
   "id": "ff734704-c881-4ed2-b9b1-ee591b3db345",
   "metadata": {},
   "outputs": [],
   "source": [
    "# Renaming column with new meaningful name\n",
    "Dataframe.rename(columns={'original_title': 'Original title'}, inplace=True)"
   ]
  },
  {
   "cell_type": "markdown",
   "id": "fcc111db-76c4-4ff2-ad16-3f4da17d2941",
   "metadata": {},
   "source": [
    "Inspecting the first five rows of the column:"
   ]
  },
  {
   "cell_type": "code",
   "execution_count": 87,
   "id": "573e7ce8-846e-4dca-8a22-fe3579baae2d",
   "metadata": {},
   "outputs": [
    {
     "data": {
      "text/plain": [
       "0                  Jurassic World\n",
       "1              Mad Max: Fury Road\n",
       "2                       Insurgent\n",
       "3    Star Wars: The Force Awakens\n",
       "4                       Furious 7\n",
       "Name: Original title, dtype: object"
      ]
     },
     "execution_count": 87,
     "metadata": {},
     "output_type": "execute_result"
    }
   ],
   "source": [
    "# Displaying the first five rows of the dataframe\n",
    "Dataframe['Original title'].head(5)"
   ]
  },
  {
   "cell_type": "markdown",
   "id": "15c5ad18-2502-42e4-b32f-771cc79ddf36",
   "metadata": {},
   "source": [
    "Creating descriptive statistics about the feature:"
   ]
  },
  {
   "cell_type": "code",
   "execution_count": 89,
   "id": "79fe99bb-4375-42ac-8fb3-edaf956b520e",
   "metadata": {},
   "outputs": [
    {
     "data": {
      "text/plain": [
       "count      10866\n",
       "unique     10571\n",
       "top       Hamlet\n",
       "freq           4\n",
       "Name: Original title, dtype: object"
      ]
     },
     "execution_count": 89,
     "metadata": {},
     "output_type": "execute_result"
    }
   ],
   "source": [
    "# Generating statistical description \n",
    "Dataframe['Original title'].describe()"
   ]
  },
  {
   "cell_type": "markdown",
   "id": "8b18f1c4-eb9d-47b4-8f89-b64cdd9dc289",
   "metadata": {},
   "source": [
    "Checking unique and missing entries: "
   ]
  },
  {
   "cell_type": "code",
   "execution_count": 91,
   "id": "e1be1caa-38a0-4fb8-9cdf-92bedf366f76",
   "metadata": {},
   "outputs": [
    {
     "name": "stdout",
     "output_type": "stream",
     "text": [
      "Number of null values: 0\n"
     ]
    }
   ],
   "source": [
    "# Number of null values\n",
    "print(\"Number of null values: \" +str(Dataframe['Original title'].isna().sum()))"
   ]
  },
  {
   "cell_type": "code",
   "execution_count": 92,
   "id": "57d7a936-0dd6-42a4-9ea4-7a9ff4919611",
   "metadata": {},
   "outputs": [
    {
     "name": "stdout",
     "output_type": "stream",
     "text": [
      "Unique entries count: 10571\n"
     ]
    }
   ],
   "source": [
    "# Number of unique values\n",
    "print(\"Unique entries count: \" + str(len(Dataframe['Original title'].unique())))"
   ]
  },
  {
   "cell_type": "code",
   "execution_count": 93,
   "id": "3f951936-1b2f-4b73-971f-dec7fbf854eb",
   "metadata": {},
   "outputs": [],
   "source": [
    "# Changing the type of the data into string to save more memory\n",
    "Dataframe['Original title'] = Dataframe['Original title'].astype('str')"
   ]
  },
  {
   "cell_type": "markdown",
   "id": "ed4bcb6b-bfac-4a5c-9462-1d2ccf9e3cbd",
   "metadata": {},
   "source": [
    "### cast column: "
   ]
  },
  {
   "cell_type": "markdown",
   "id": "ad618311-1d8a-4515-a830-4701dfa19d9e",
   "metadata": {},
   "source": [
    "Starting with renaming the column."
   ]
  },
  {
   "cell_type": "code",
   "execution_count": 96,
   "id": "eaf5dfd0-500a-416e-9124-be6ebe0e5500",
   "metadata": {},
   "outputs": [],
   "source": [
    "# Renaming column with new meaningful name\n",
    "Dataframe.rename(columns={'cast': 'Cast'}, inplace=True)"
   ]
  },
  {
   "cell_type": "markdown",
   "id": "e88fee1a-8b25-42ed-99fe-99b747eee110",
   "metadata": {},
   "source": [
    "Inspecting the first five rows of the column:"
   ]
  },
  {
   "cell_type": "code",
   "execution_count": 98,
   "id": "57fe2e26-66e6-4417-9805-9c154a668e29",
   "metadata": {},
   "outputs": [
    {
     "data": {
      "text/plain": [
       "0    Chris Pratt|Bryce Dallas Howard|Irrfan Khan|Vi...\n",
       "1    Tom Hardy|Charlize Theron|Hugh Keays-Byrne|Nic...\n",
       "2    Shailene Woodley|Theo James|Kate Winslet|Ansel...\n",
       "3    Harrison Ford|Mark Hamill|Carrie Fisher|Adam D...\n",
       "4    Vin Diesel|Paul Walker|Jason Statham|Michelle ...\n",
       "Name: Cast, dtype: object"
      ]
     },
     "execution_count": 98,
     "metadata": {},
     "output_type": "execute_result"
    }
   ],
   "source": [
    "# Displaying the first five rows of the dataframe\n",
    "Dataframe['Cast'].head(5)"
   ]
  },
  {
   "cell_type": "markdown",
   "id": "a1584efd-0c18-4cd1-a6dd-094c7d7084f3",
   "metadata": {},
   "source": [
    "Creating descriptive statistics about the feature:"
   ]
  },
  {
   "cell_type": "code",
   "execution_count": 100,
   "id": "845e125c-d354-482f-9b35-207a1de42686",
   "metadata": {},
   "outputs": [
    {
     "data": {
      "text/plain": [
       "count          10790\n",
       "unique         10719\n",
       "top       Louis C.K.\n",
       "freq               6\n",
       "Name: Cast, dtype: object"
      ]
     },
     "execution_count": 100,
     "metadata": {},
     "output_type": "execute_result"
    }
   ],
   "source": [
    "# Generating statistical description \n",
    "Dataframe['Cast'].describe()"
   ]
  },
  {
   "cell_type": "markdown",
   "id": "974df4fb-561f-4b85-bac3-80c5268d81f2",
   "metadata": {},
   "source": [
    "Checking unique and missing entries: "
   ]
  },
  {
   "cell_type": "code",
   "execution_count": 102,
   "id": "b259749b-c8f0-4356-96fc-35444b44eedd",
   "metadata": {},
   "outputs": [
    {
     "name": "stdout",
     "output_type": "stream",
     "text": [
      "Number of null values: 76\n"
     ]
    }
   ],
   "source": [
    "# Number of null values\n",
    "print(\"Number of null values: \" +str(Dataframe['Cast'].isna().sum()))"
   ]
  },
  {
   "cell_type": "code",
   "execution_count": 103,
   "id": "3eb8c6ec-b515-487c-aa87-7426c7d268b6",
   "metadata": {},
   "outputs": [
    {
     "name": "stdout",
     "output_type": "stream",
     "text": [
      "Unique entries count: 10720\n"
     ]
    }
   ],
   "source": [
    "# Number of unique values\n",
    "print(\"Unique entries count: \" + str(len(Dataframe['Cast'].unique())))"
   ]
  },
  {
   "cell_type": "code",
   "execution_count": 104,
   "id": "aab282ac-07ba-487a-88a3-80ef7f19702f",
   "metadata": {},
   "outputs": [],
   "source": [
    "# Changing the type of the data into string saving more memory\n",
    "Dataframe['Cast'] = Dataframe['Cast'].astype('str')"
   ]
  },
  {
   "cell_type": "markdown",
   "id": "45e0c77b-6251-4289-8ec6-37b0ac01a98d",
   "metadata": {},
   "source": [
    "### homepage column: "
   ]
  },
  {
   "cell_type": "markdown",
   "id": "54daf864-5b1a-46f0-a7f4-d82e33d660ec",
   "metadata": {},
   "source": [
    "Starting with renaming the column."
   ]
  },
  {
   "cell_type": "code",
   "execution_count": 107,
   "id": "57fab164-1177-42b3-98b3-39e9d82dae7e",
   "metadata": {},
   "outputs": [],
   "source": [
    "# Renaming column with new meaningful name\n",
    "Dataframe.rename(columns={'homepage': 'Homepage URL'}, inplace=True)"
   ]
  },
  {
   "cell_type": "markdown",
   "id": "d43b3728-4cb4-4cce-a231-1df21c6d09cf",
   "metadata": {},
   "source": [
    "Inspecting the first five rows of the column:"
   ]
  },
  {
   "cell_type": "code",
   "execution_count": 109,
   "id": "74ba84c0-e5b7-48d9-83f9-ab9d22849134",
   "metadata": {},
   "outputs": [
    {
     "data": {
      "text/plain": [
       "0                        http://www.jurassicworld.com/\n",
       "1                          http://www.madmaxmovie.com/\n",
       "2       http://www.thedivergentseries.movie/#insurgent\n",
       "3    http://www.starwars.com/films/star-wars-episod...\n",
       "4                             http://www.furious7.com/\n",
       "Name: Homepage URL, dtype: object"
      ]
     },
     "execution_count": 109,
     "metadata": {},
     "output_type": "execute_result"
    }
   ],
   "source": [
    "# Displaying the first five rows of the dataframe\n",
    "Dataframe['Homepage URL'].head(5)"
   ]
  },
  {
   "cell_type": "markdown",
   "id": "3c746ca8-4736-4ed1-8c03-9cef9ca7b800",
   "metadata": {},
   "source": [
    "Creating descriptive statistics about the feature:"
   ]
  },
  {
   "cell_type": "code",
   "execution_count": 111,
   "id": "02e6b4c0-a0e2-43ac-a435-fa9590e39c2d",
   "metadata": {},
   "outputs": [
    {
     "data": {
      "text/plain": [
       "count                                 2936\n",
       "unique                                2896\n",
       "top       http://www.thehungergames.movie/\n",
       "freq                                     4\n",
       "Name: Homepage URL, dtype: object"
      ]
     },
     "execution_count": 111,
     "metadata": {},
     "output_type": "execute_result"
    }
   ],
   "source": [
    "# Generating statistical description \n",
    "Dataframe['Homepage URL'].describe()"
   ]
  },
  {
   "cell_type": "markdown",
   "id": "3f80b9dd-e802-48b5-81fc-8b4a625155e4",
   "metadata": {},
   "source": [
    "Checking unique and missing entries: "
   ]
  },
  {
   "cell_type": "code",
   "execution_count": 113,
   "id": "43981b4a-a6b2-45e2-87ad-f61f1ff1266c",
   "metadata": {},
   "outputs": [
    {
     "name": "stdout",
     "output_type": "stream",
     "text": [
      "Number of null values: 7930\n"
     ]
    }
   ],
   "source": [
    "# Number of null values\n",
    "print(\"Number of null values: \" +str(Dataframe['Homepage URL'].isna().sum()))"
   ]
  },
  {
   "cell_type": "code",
   "execution_count": 114,
   "id": "90b475fb-bc80-4ed1-8d58-2ce58820552a",
   "metadata": {},
   "outputs": [
    {
     "name": "stdout",
     "output_type": "stream",
     "text": [
      "Unique entries count: 2897\n"
     ]
    }
   ],
   "source": [
    "# Number of unique values\n",
    "print(\"Unique entries count: \" + str(len(Dataframe['Homepage URL'].unique())))"
   ]
  },
  {
   "cell_type": "code",
   "execution_count": 115,
   "id": "d8d9f917-da98-4dc7-ac60-c36d015a485c",
   "metadata": {},
   "outputs": [],
   "source": [
    "# Changing the type of the data into string saving more memory\n",
    "Dataframe['Homepage URL'] = Dataframe['Homepage URL'].astype('str')"
   ]
  },
  {
   "cell_type": "markdown",
   "id": "fa7420a6-ea69-4435-b01f-79f094284135",
   "metadata": {},
   "source": [
    "### director column: "
   ]
  },
  {
   "cell_type": "markdown",
   "id": "781ee5c5-58aa-4c8c-b646-1d9a814a88e9",
   "metadata": {},
   "source": [
    "Starting with renaming the column."
   ]
  },
  {
   "cell_type": "code",
   "execution_count": 118,
   "id": "3368d6a1-6807-420a-98ec-166aa5c252da",
   "metadata": {},
   "outputs": [],
   "source": [
    "# Renaming column with new meaningful name\n",
    "Dataframe.rename(columns={'director': 'Director'}, inplace=True)"
   ]
  },
  {
   "cell_type": "markdown",
   "id": "4005a602-53db-4f2e-8ca5-5d455e0e3f78",
   "metadata": {},
   "source": [
    "Inspecting the first five rows of the column:"
   ]
  },
  {
   "cell_type": "code",
   "execution_count": 120,
   "id": "5348fd1d-555a-4628-8829-331b14e8e3dc",
   "metadata": {},
   "outputs": [
    {
     "data": {
      "text/plain": [
       "0     Colin Trevorrow\n",
       "1       George Miller\n",
       "2    Robert Schwentke\n",
       "3         J.J. Abrams\n",
       "4           James Wan\n",
       "Name: Director, dtype: object"
      ]
     },
     "execution_count": 120,
     "metadata": {},
     "output_type": "execute_result"
    }
   ],
   "source": [
    "# Displaying the first five rows of the dataframe\n",
    "Dataframe['Director'].head(5)"
   ]
  },
  {
   "cell_type": "markdown",
   "id": "fbd3a744-5745-49ad-8939-a7baf071f878",
   "metadata": {},
   "source": [
    "Creating descriptive statistics about the feature:"
   ]
  },
  {
   "cell_type": "code",
   "execution_count": 122,
   "id": "5f5eb6de-1831-4f88-85de-015e939c1a48",
   "metadata": {},
   "outputs": [
    {
     "data": {
      "text/plain": [
       "count           10822\n",
       "unique           5067\n",
       "top       Woody Allen\n",
       "freq               45\n",
       "Name: Director, dtype: object"
      ]
     },
     "execution_count": 122,
     "metadata": {},
     "output_type": "execute_result"
    }
   ],
   "source": [
    "# Generating statistical description \n",
    "Dataframe['Director'].describe()"
   ]
  },
  {
   "cell_type": "markdown",
   "id": "4320e149-3a93-4168-831e-f657c9c8d841",
   "metadata": {},
   "source": [
    "Checking unique and missing entries: "
   ]
  },
  {
   "cell_type": "code",
   "execution_count": 124,
   "id": "d13264b7-f04e-42ca-9869-fc148aeb9bbe",
   "metadata": {},
   "outputs": [
    {
     "name": "stdout",
     "output_type": "stream",
     "text": [
      "Number of null values: 44\n"
     ]
    }
   ],
   "source": [
    "# Number of null values\n",
    "print(\"Number of null values: \" +str(Dataframe['Director'].isna().sum()))"
   ]
  },
  {
   "cell_type": "code",
   "execution_count": 125,
   "id": "a043204d-afa0-400e-8e28-4b54541ab564",
   "metadata": {},
   "outputs": [
    {
     "name": "stdout",
     "output_type": "stream",
     "text": [
      "Unique entries count: 5068\n"
     ]
    }
   ],
   "source": [
    "# Number of unique values\n",
    "print(\"Unique entries count: \" + str(len(Dataframe['Director'].unique())))"
   ]
  },
  {
   "cell_type": "code",
   "execution_count": 126,
   "id": "8d9e54cc-a5ec-4fcd-a276-02a69d3ec34a",
   "metadata": {},
   "outputs": [],
   "source": [
    "# Changing the type of the data into string saving more memory\n",
    "Dataframe['Director'] = Dataframe['Director'].astype('str')"
   ]
  },
  {
   "cell_type": "markdown",
   "id": "215381a5-3bfc-4384-8e8f-d7198e302732",
   "metadata": {},
   "source": [
    "### tagline column: "
   ]
  },
  {
   "cell_type": "markdown",
   "id": "d6796c50-8a88-4b68-941d-dc52941de7d6",
   "metadata": {},
   "source": [
    "Starting with renaming the column."
   ]
  },
  {
   "cell_type": "code",
   "execution_count": 129,
   "id": "12367aa8-f920-44e8-af20-f93cf014b76c",
   "metadata": {},
   "outputs": [],
   "source": [
    "# Renaming column with new meaningful name\n",
    "Dataframe.rename(columns={'tagline': 'Tag line'}, inplace=True)"
   ]
  },
  {
   "cell_type": "markdown",
   "id": "01aa20a6-5f4e-47ea-9636-757890476032",
   "metadata": {},
   "source": [
    "Inspecting the first five rows of the column:"
   ]
  },
  {
   "cell_type": "code",
   "execution_count": 131,
   "id": "14abdd47-ae71-474d-9142-0777d639e0e0",
   "metadata": {},
   "outputs": [
    {
     "data": {
      "text/plain": [
       "0                The park is open.\n",
       "1               What a Lovely Day.\n",
       "2       One Choice Can Destroy You\n",
       "3    Every generation has a story.\n",
       "4              Vengeance Hits Home\n",
       "Name: Tag line, dtype: object"
      ]
     },
     "execution_count": 131,
     "metadata": {},
     "output_type": "execute_result"
    }
   ],
   "source": [
    "# Displaying the first five rows of the dataframe\n",
    "Dataframe['Tag line'].head(5)"
   ]
  },
  {
   "cell_type": "markdown",
   "id": "c1862792-ea0b-4c29-90c6-ae3121591b80",
   "metadata": {},
   "source": [
    "Creating descriptive statistics about the feature:"
   ]
  },
  {
   "cell_type": "code",
   "execution_count": 133,
   "id": "2f0206fe-0cf6-44bf-a064-5ba0b199607d",
   "metadata": {},
   "outputs": [
    {
     "data": {
      "text/plain": [
       "count                       8042\n",
       "unique                      7997\n",
       "top       Based on a true story.\n",
       "freq                           5\n",
       "Name: Tag line, dtype: object"
      ]
     },
     "execution_count": 133,
     "metadata": {},
     "output_type": "execute_result"
    }
   ],
   "source": [
    "# Generating statistical description \n",
    "Dataframe['Tag line'].describe()"
   ]
  },
  {
   "cell_type": "markdown",
   "id": "5bc9c784-412c-44da-b61c-20b20500be47",
   "metadata": {},
   "source": [
    "Checking unique and missing entries:"
   ]
  },
  {
   "cell_type": "code",
   "execution_count": 135,
   "id": "e73e12a0-01d9-47c0-a6b2-dab8a41d22ab",
   "metadata": {},
   "outputs": [
    {
     "name": "stdout",
     "output_type": "stream",
     "text": [
      "Number of null values: 2824\n"
     ]
    }
   ],
   "source": [
    "# Number of null values\n",
    "print(\"Number of null values: \" +str(Dataframe['Tag line'].isna().sum()))"
   ]
  },
  {
   "cell_type": "code",
   "execution_count": 136,
   "id": "f2720fbc-149c-455d-9928-b56a22b96358",
   "metadata": {},
   "outputs": [
    {
     "name": "stdout",
     "output_type": "stream",
     "text": [
      "Unique entries count: 7998\n"
     ]
    }
   ],
   "source": [
    "# Number of unique values\n",
    "print(\"Unique entries count: \" + str(len(Dataframe['Tag line'].unique())))"
   ]
  },
  {
   "cell_type": "code",
   "execution_count": 137,
   "id": "e4a1ed15-c1f5-4afc-9c9c-0d9d012f4566",
   "metadata": {},
   "outputs": [],
   "source": [
    "# Changing the type of the data into string saving more memory\n",
    "Dataframe['Tag line'] = Dataframe['Tag line'].astype('str')"
   ]
  },
  {
   "cell_type": "markdown",
   "id": "0f0272e7-f082-4583-a1c8-e3271cf31cc1",
   "metadata": {},
   "source": [
    "### keywords column:"
   ]
  },
  {
   "cell_type": "markdown",
   "id": "07004cfb-9069-4efd-b89b-ab8f6aafa8ac",
   "metadata": {},
   "source": [
    "Starting with renaming the column."
   ]
  },
  {
   "cell_type": "code",
   "execution_count": 140,
   "id": "83f5a265-ce7f-4df2-b301-edd4b223e06d",
   "metadata": {},
   "outputs": [],
   "source": [
    "# Renaming column with new meaningful name\n",
    "Dataframe.rename(columns={'keywords': 'Keywords'}, inplace=True)"
   ]
  },
  {
   "cell_type": "markdown",
   "id": "a6ae2a76-831c-4340-84f1-8dcbdd5b4242",
   "metadata": {},
   "source": [
    "Inspecting the first five rows of the column:"
   ]
  },
  {
   "cell_type": "code",
   "execution_count": 142,
   "id": "4819e8e0-8b8e-4bc9-b514-b90989e3e425",
   "metadata": {},
   "outputs": [
    {
     "data": {
      "text/plain": [
       "0    monster|dna|tyrannosaurus rex|velociraptor|island\n",
       "1     future|chase|post-apocalyptic|dystopia|australia\n",
       "2    based on novel|revolution|dystopia|sequel|dyst...\n",
       "3                android|spaceship|jedi|space opera|3d\n",
       "4                  car race|speed|revenge|suspense|car\n",
       "Name: Keywords, dtype: object"
      ]
     },
     "execution_count": 142,
     "metadata": {},
     "output_type": "execute_result"
    }
   ],
   "source": [
    "# Displaying the first five rows of the dataframe\n",
    "Dataframe['Keywords'].head(5)"
   ]
  },
  {
   "cell_type": "markdown",
   "id": "c1e87639-fa7b-4340-a6c6-1b597b2f37ca",
   "metadata": {},
   "source": [
    "Creating descriptive statistics about the feature:"
   ]
  },
  {
   "cell_type": "code",
   "execution_count": 144,
   "id": "38266982-11f9-436f-a9d2-51c0d70c9987",
   "metadata": {},
   "outputs": [
    {
     "data": {
      "text/plain": [
       "count               9373\n",
       "unique              8804\n",
       "top       woman director\n",
       "freq                 134\n",
       "Name: Keywords, dtype: object"
      ]
     },
     "execution_count": 144,
     "metadata": {},
     "output_type": "execute_result"
    }
   ],
   "source": [
    "# Generating statistical description \n",
    "Dataframe['Keywords'].describe()"
   ]
  },
  {
   "cell_type": "markdown",
   "id": "71738e11-a9ac-4315-94b5-55e60f992241",
   "metadata": {},
   "source": [
    "Checking unique and missing entries: "
   ]
  },
  {
   "cell_type": "code",
   "execution_count": 146,
   "id": "8a146ef5-8c28-4896-bdcd-46f81156f2ca",
   "metadata": {},
   "outputs": [
    {
     "name": "stdout",
     "output_type": "stream",
     "text": [
      "Number of null values: 1493\n"
     ]
    }
   ],
   "source": [
    "# Number of null values\n",
    "print(\"Number of null values: \" +str(Dataframe['Keywords'].isna().sum()))"
   ]
  },
  {
   "cell_type": "code",
   "execution_count": 147,
   "id": "144ca504-d46e-402f-bae2-34afa6ae267b",
   "metadata": {},
   "outputs": [
    {
     "name": "stdout",
     "output_type": "stream",
     "text": [
      "Unique entries count: 8805\n"
     ]
    }
   ],
   "source": [
    "# Number of unique values\n",
    "print(\"Unique entries count: \" + str(len(Dataframe['Keywords'].unique())))"
   ]
  },
  {
   "cell_type": "code",
   "execution_count": 148,
   "id": "eb295071-945a-4f28-85ce-56c2b5bbe147",
   "metadata": {},
   "outputs": [],
   "source": [
    "# Changing the type of the data into string saving more memory\n",
    "Dataframe['Keywords'] = Dataframe['Keywords'].astype('str')"
   ]
  },
  {
   "cell_type": "markdown",
   "id": "2d021ec0-d45d-4a0e-9806-5a32cb1d294e",
   "metadata": {},
   "source": [
    "### overview column: "
   ]
  },
  {
   "cell_type": "markdown",
   "id": "4394b61a-463b-48ac-86b1-9491c44a3c76",
   "metadata": {},
   "source": [
    "Starting with renaming the column."
   ]
  },
  {
   "cell_type": "code",
   "execution_count": 151,
   "id": "4d81ed28-9559-47a1-bc54-c51d3a80807c",
   "metadata": {},
   "outputs": [],
   "source": [
    "# Renaming column with new meaningful name\n",
    "Dataframe.rename(columns={'overview': 'Overview'}, inplace=True)"
   ]
  },
  {
   "cell_type": "markdown",
   "id": "2708b206-6eff-4e95-9931-e07dc9bf85a7",
   "metadata": {},
   "source": [
    "Inspecting the first five rows of the column:"
   ]
  },
  {
   "cell_type": "code",
   "execution_count": 153,
   "id": "9c3a9a19-6fe3-49b9-b31f-7d6834c523b7",
   "metadata": {},
   "outputs": [
    {
     "data": {
      "text/plain": [
       "0    Twenty-two years after the events of Jurassic ...\n",
       "1    An apocalyptic story set in the furthest reach...\n",
       "2    Beatrice Prior must confront her inner demons ...\n",
       "3    Thirty years after defeating the Galactic Empi...\n",
       "4    Deckard Shaw seeks revenge against Dominic Tor...\n",
       "Name: Overview, dtype: object"
      ]
     },
     "execution_count": 153,
     "metadata": {},
     "output_type": "execute_result"
    }
   ],
   "source": [
    "# Displaying the first five rows of the dataframe\n",
    "Dataframe['Overview'].head(5)"
   ]
  },
  {
   "cell_type": "markdown",
   "id": "b135aeb3-cae1-404e-9246-0051854c2113",
   "metadata": {},
   "source": [
    "Creating descriptive statistics about the feature:"
   ]
  },
  {
   "cell_type": "code",
   "execution_count": 155,
   "id": "2be4d792-92fd-44e5-a113-252a3a6e87b3",
   "metadata": {},
   "outputs": [
    {
     "data": {
      "text/plain": [
       "count                  10862\n",
       "unique                 10847\n",
       "top       No overview found.\n",
       "freq                      13\n",
       "Name: Overview, dtype: object"
      ]
     },
     "execution_count": 155,
     "metadata": {},
     "output_type": "execute_result"
    }
   ],
   "source": [
    "# Generating statistical description \n",
    "Dataframe['Overview'].describe()"
   ]
  },
  {
   "cell_type": "markdown",
   "id": "06ade96c-270a-408b-9ec6-c933700829ce",
   "metadata": {},
   "source": [
    "Checking unique and missing entries: "
   ]
  },
  {
   "cell_type": "code",
   "execution_count": 157,
   "id": "a8e36779-9868-48ff-8376-c27fedf64c1c",
   "metadata": {},
   "outputs": [
    {
     "name": "stdout",
     "output_type": "stream",
     "text": [
      "Number of null values: 4\n"
     ]
    }
   ],
   "source": [
    "# Number of null values\n",
    "print(\"Number of null values: \" +str(Dataframe['Overview'].isna().sum()))"
   ]
  },
  {
   "cell_type": "code",
   "execution_count": 158,
   "id": "5c7031d4-5881-4d21-82ca-ed3c1a094144",
   "metadata": {},
   "outputs": [
    {
     "name": "stdout",
     "output_type": "stream",
     "text": [
      "Unique entries count: 10848\n"
     ]
    }
   ],
   "source": [
    "# Number of unique values\n",
    "print(\"Unique entries count: \" + str(len(Dataframe['Overview'].unique())))"
   ]
  },
  {
   "cell_type": "code",
   "execution_count": 159,
   "id": "31dd760a-8071-4eb4-bb0c-7c0be22ddffa",
   "metadata": {},
   "outputs": [],
   "source": [
    "# Changing the type of the data into string saving more memory\n",
    "Dataframe['Overview'] = Dataframe['Overview'].astype('str')"
   ]
  },
  {
   "cell_type": "markdown",
   "id": "8e6647e6-fb1f-4b3f-a9a5-5419a54c189d",
   "metadata": {},
   "source": [
    "### runtime  column:"
   ]
  },
  {
   "cell_type": "markdown",
   "id": "5b9cbcd9-6040-443b-b0f1-7d7a5121287c",
   "metadata": {},
   "source": [
    "Starting with renaming the column."
   ]
  },
  {
   "cell_type": "code",
   "execution_count": 162,
   "id": "e00a59f1-0d58-475f-9a2a-9a3da75ba97a",
   "metadata": {},
   "outputs": [],
   "source": [
    "# Renaming column with new meaningful name\n",
    "Dataframe.rename(columns={'runtime': 'Run time'}, inplace=True)"
   ]
  },
  {
   "cell_type": "markdown",
   "id": "7c0d316b-241d-4667-9a3b-6e5d694ae1c1",
   "metadata": {},
   "source": [
    "Inspecting the first five rows of the column:"
   ]
  },
  {
   "cell_type": "code",
   "execution_count": 164,
   "id": "65cf18c4-8283-4587-8f8b-217e9f7eb80c",
   "metadata": {},
   "outputs": [
    {
     "data": {
      "text/plain": [
       "0    124\n",
       "1    120\n",
       "2    119\n",
       "3    136\n",
       "4    137\n",
       "Name: Run time, dtype: int64"
      ]
     },
     "execution_count": 164,
     "metadata": {},
     "output_type": "execute_result"
    }
   ],
   "source": [
    "# Displaying the first five rows of the dataframe\n",
    "Dataframe['Run time'].head(5)"
   ]
  },
  {
   "cell_type": "markdown",
   "id": "276a11a0-85fc-4aaf-a353-feab10ec09ea",
   "metadata": {},
   "source": [
    "Creating descriptive statistics about the feature:"
   ]
  },
  {
   "cell_type": "code",
   "execution_count": 166,
   "id": "e7ae7635-fb4a-474c-ac8e-a2c2a0652739",
   "metadata": {},
   "outputs": [
    {
     "data": {
      "text/plain": [
       "count    10866.000000\n",
       "mean       102.070863\n",
       "std         31.381405\n",
       "min          0.000000\n",
       "25%         90.000000\n",
       "50%         99.000000\n",
       "75%        111.000000\n",
       "max        900.000000\n",
       "Name: Run time, dtype: float64"
      ]
     },
     "execution_count": 166,
     "metadata": {},
     "output_type": "execute_result"
    }
   ],
   "source": [
    "# Generating statistical description \n",
    "Dataframe['Run time'].describe()"
   ]
  },
  {
   "cell_type": "markdown",
   "id": "b96d66be-488d-442e-a580-61834bfd4ff0",
   "metadata": {},
   "source": [
    "Checking unique and missing entries: "
   ]
  },
  {
   "cell_type": "code",
   "execution_count": 168,
   "id": "c4598239-4109-46a5-bcd8-456cedbe8466",
   "metadata": {},
   "outputs": [
    {
     "name": "stdout",
     "output_type": "stream",
     "text": [
      "Number of null values: 0\n"
     ]
    }
   ],
   "source": [
    "# Number of null values\n",
    "print(\"Number of null values: \" +str(Dataframe['Run time'].isna().sum()))"
   ]
  },
  {
   "cell_type": "code",
   "execution_count": 169,
   "id": "558aee98-d23c-4e98-819f-63725f1322a8",
   "metadata": {},
   "outputs": [
    {
     "name": "stdout",
     "output_type": "stream",
     "text": [
      "Unique entries count: 247\n"
     ]
    }
   ],
   "source": [
    "# Number of unique values\n",
    "print(\"Unique entries count: \" + str(len(Dataframe['Run time'].unique())))"
   ]
  },
  {
   "cell_type": "markdown",
   "id": "851a120d-4cdf-4486-b6a6-5093e62a8823",
   "metadata": {},
   "source": [
    "The maximum value of Run time column is **900.000000** which is smaller than 2^32 **429 4967 296**, so instead of using the float64 for storing we can use float16 minimizing the memory storage."
   ]
  },
  {
   "cell_type": "code",
   "execution_count": 171,
   "id": "763baa67-881c-4145-889f-a91f5ec90c76",
   "metadata": {},
   "outputs": [],
   "source": [
    "# Changing the type of the data from float64 into float16 saving more memory\n",
    "Dataframe['Run time'] = Dataframe['Run time'].astype('float16')"
   ]
  },
  {
   "cell_type": "code",
   "execution_count": 172,
   "id": "aae223e2-d134-4ed4-86a6-4e00197039c0",
   "metadata": {},
   "outputs": [
    {
     "data": {
      "image/png": "[encoded data removed]",
      "text/plain": [
       "<Figure size 1000x700 with 1 Axes>"
      ]
     },
     "metadata": {},
     "output_type": "display_data"
    }
   ],
   "source": [
    "# Plotting the histogram\n",
    "plot_histogram(Dataframe, 'Run time', bins=15, title='Histogram of Run time', xlabel='Run time', ylabel='Frequency')"
   ]
  },
  {
   "cell_type": "markdown",
   "id": "c9c597bf-cf57-4024-b883-0893929e822f",
   "metadata": {},
   "source": [
    "Results explained:\n",
    "1. Most movies have a runtime below 200 minutes, with very few exceeding 200 minutes.\n",
    "2. The majority of movies fall within  0 and 200 minutes.\n",
    "3. The presence of very short or very long run times might indicate anomalies or errors in the dataset."
   ]
  },
  {
   "cell_type": "markdown",
   "id": "29a63d30-1806-4124-b21a-0b55d1ce5fe6",
   "metadata": {},
   "source": [
    "### genres column: "
   ]
  },
  {
   "cell_type": "markdown",
   "id": "1355b5db-14c4-4c8e-bb38-687251988628",
   "metadata": {},
   "source": [
    "Starting with renaming the column."
   ]
  },
  {
   "cell_type": "code",
   "execution_count": 176,
   "id": "aba936e5-b5ac-48ec-8899-b90c3b9753f3",
   "metadata": {},
   "outputs": [],
   "source": [
    "# Renaming column with new meaningful name\n",
    "Dataframe.rename(columns={'genres': 'Genres'}, inplace=True)"
   ]
  },
  {
   "cell_type": "markdown",
   "id": "77afe2b9-690f-448b-9c37-64cf054a9b3f",
   "metadata": {},
   "source": [
    "Inspecting the first five rows of the column:"
   ]
  },
  {
   "cell_type": "code",
   "execution_count": 178,
   "id": "36d25b96-e489-4e47-bb34-35dbb06cb26e",
   "metadata": {},
   "outputs": [
    {
     "data": {
      "text/plain": [
       "0    Action|Adventure|Science Fiction|Thriller\n",
       "1    Action|Adventure|Science Fiction|Thriller\n",
       "2           Adventure|Science Fiction|Thriller\n",
       "3     Action|Adventure|Science Fiction|Fantasy\n",
       "4                        Action|Crime|Thriller\n",
       "Name: Genres, dtype: object"
      ]
     },
     "execution_count": 178,
     "metadata": {},
     "output_type": "execute_result"
    }
   ],
   "source": [
    "# Displaying the first five rows of the dataframe\n",
    "Dataframe['Genres'].head(5)"
   ]
  },
  {
   "cell_type": "markdown",
   "id": "c0f32ac4-c846-489d-8b3d-8666534e5c4c",
   "metadata": {},
   "source": [
    "Creating descriptive statistics about the feature:"
   ]
  },
  {
   "cell_type": "code",
   "execution_count": 180,
   "id": "3b44bfdc-a4f6-4c1f-bf6f-5a20887f2c7b",
   "metadata": {},
   "outputs": [
    {
     "data": {
      "text/plain": [
       "count      10843\n",
       "unique      2039\n",
       "top       Comedy\n",
       "freq         712\n",
       "Name: Genres, dtype: object"
      ]
     },
     "execution_count": 180,
     "metadata": {},
     "output_type": "execute_result"
    }
   ],
   "source": [
    "# Generating statistical description \n",
    "Dataframe['Genres'].describe()"
   ]
  },
  {
   "cell_type": "markdown",
   "id": "1c39580d-8622-4bae-b86f-081069d80a7e",
   "metadata": {},
   "source": [
    "Checking unique and missing entries: "
   ]
  },
  {
   "cell_type": "code",
   "execution_count": 182,
   "id": "e6b10f57-22e1-41bf-a2bd-22c925605f11",
   "metadata": {},
   "outputs": [
    {
     "name": "stdout",
     "output_type": "stream",
     "text": [
      "Number of null values: 23\n"
     ]
    }
   ],
   "source": [
    "# Number of null values\n",
    "print(\"Number of null values: \" +str(Dataframe['Genres'].isna().sum()))"
   ]
  },
  {
   "cell_type": "code",
   "execution_count": 183,
   "id": "1764fb33-0817-49ce-9691-69cc4c56280c",
   "metadata": {},
   "outputs": [
    {
     "name": "stdout",
     "output_type": "stream",
     "text": [
      "Unique entries count: 2040\n"
     ]
    }
   ],
   "source": [
    "# Number of unique values\n",
    "print(\"Unique entries count: \" + str(len(Dataframe['Genres'].unique())))"
   ]
  },
  {
   "cell_type": "code",
   "execution_count": 184,
   "id": "fa081018-9e95-4179-90f9-18637902f8ec",
   "metadata": {},
   "outputs": [
    {
     "data": {
      "text/plain": [
       "0        Action|Adventure|Science Fiction|Thriller\n",
       "1        Action|Adventure|Science Fiction|Thriller\n",
       "2               Adventure|Science Fiction|Thriller\n",
       "3         Action|Adventure|Science Fiction|Fantasy\n",
       "4                            Action|Crime|Thriller\n",
       "                           ...                    \n",
       "10861                                  Documentary\n",
       "10862                       Action|Adventure|Drama\n",
       "10863                               Mystery|Comedy\n",
       "10864                                Action|Comedy\n",
       "10865                                       Horror\n",
       "Name: Genres, Length: 10866, dtype: object"
      ]
     },
     "execution_count": 184,
     "metadata": {},
     "output_type": "execute_result"
    }
   ],
   "source": [
    "# Changing the type of the data into string saving more memory\n",
    "Dataframe['Genres'].astype('str')"
   ]
  },
  {
   "cell_type": "markdown",
   "id": "78b7af0b-6421-49f0-84f5-70298057db36",
   "metadata": {},
   "source": [
    "### production_companies column: "
   ]
  },
  {
   "cell_type": "markdown",
   "id": "5ac1017b-11c8-49e8-9915-85d727a8e9d2",
   "metadata": {},
   "source": [
    "Starting with renaming the column."
   ]
  },
  {
   "cell_type": "code",
   "execution_count": 187,
   "id": "758dc239-6ee6-4410-9d13-1cb56240825a",
   "metadata": {},
   "outputs": [],
   "source": [
    "# Renaming column with new meaningful name\n",
    "Dataframe.rename(columns={'production_companies': 'Production companies'}, inplace=True)"
   ]
  },
  {
   "cell_type": "markdown",
   "id": "2c2c3d8f-86da-44ae-85a7-430a6d13de64",
   "metadata": {},
   "source": [
    "Inspecting the first five rows of the column:"
   ]
  },
  {
   "cell_type": "code",
   "execution_count": 189,
   "id": "cd4795ce-a1f8-454f-9938-121aa1bd6be1",
   "metadata": {},
   "outputs": [
    {
     "data": {
      "text/plain": [
       "0    Universal Studios|Amblin Entertainment|Legenda...\n",
       "1    Village Roadshow Pictures|Kennedy Miller Produ...\n",
       "2    Summit Entertainment|Mandeville Films|Red Wago...\n",
       "3            Lucasfilm|Truenorth Productions|Bad Robot\n",
       "4    Universal Pictures|Original Film|Media Rights ...\n",
       "Name: Production companies, dtype: object"
      ]
     },
     "execution_count": 189,
     "metadata": {},
     "output_type": "execute_result"
    }
   ],
   "source": [
    "# Displaying the first five rows of the dataframe\n",
    "Dataframe['Production companies'].head(5)"
   ]
  },
  {
   "cell_type": "markdown",
   "id": "b19c7a6f-ebd5-41cf-b096-050f0f1cb725",
   "metadata": {},
   "source": [
    "Creating descriptive statistics about the feature:"
   ]
  },
  {
   "cell_type": "code",
   "execution_count": 191,
   "id": "ec890dfa-af4e-49d5-aa26-8615c29f450f",
   "metadata": {},
   "outputs": [
    {
     "data": {
      "text/plain": [
       "count                   9836\n",
       "unique                  7445\n",
       "top       Paramount Pictures\n",
       "freq                     156\n",
       "Name: Production companies, dtype: object"
      ]
     },
     "execution_count": 191,
     "metadata": {},
     "output_type": "execute_result"
    }
   ],
   "source": [
    "# Generating statistical description \n",
    "Dataframe['Production companies'].describe()"
   ]
  },
  {
   "cell_type": "markdown",
   "id": "562ac1b6-4b95-4766-a73d-b9f647ffcc7f",
   "metadata": {},
   "source": [
    "Checking unique and missing entries: "
   ]
  },
  {
   "cell_type": "code",
   "execution_count": 193,
   "id": "ce993cf7-354d-48f0-98dc-5a64b519c05f",
   "metadata": {},
   "outputs": [
    {
     "name": "stdout",
     "output_type": "stream",
     "text": [
      "Number of null values: 1030\n"
     ]
    }
   ],
   "source": [
    "# Number of null values\n",
    "print(\"Number of null values: \" +str(Dataframe['Production companies'].isna().sum()))"
   ]
  },
  {
   "cell_type": "code",
   "execution_count": 194,
   "id": "6e138e18-240d-43cf-b691-186d61554f7f",
   "metadata": {},
   "outputs": [
    {
     "name": "stdout",
     "output_type": "stream",
     "text": [
      "Unique entries count: 7446\n"
     ]
    }
   ],
   "source": [
    "# Number of unique values\n",
    "print(\"Unique entries count: \" + str(len(Dataframe['Production companies'].unique())))"
   ]
  },
  {
   "cell_type": "code",
   "execution_count": 195,
   "id": "feb7e075-783b-48be-8f57-cac5a1cb882b",
   "metadata": {},
   "outputs": [],
   "source": [
    "# Changing the type of the data into string saving more memory\n",
    "Dataframe['Production companies'] = Dataframe['Production companies'].astype('str')"
   ]
  },
  {
   "cell_type": "markdown",
   "id": "38fea363-3b61-49e2-b4c8-b6d8aa5e0d73",
   "metadata": {},
   "source": [
    "### release_date column: "
   ]
  },
  {
   "cell_type": "markdown",
   "id": "0b2196e5-bd41-40a4-8f23-1f74e4e544a1",
   "metadata": {},
   "source": [
    "Starting with renaming the column."
   ]
  },
  {
   "cell_type": "code",
   "execution_count": 198,
   "id": "a791fbe1-2c9b-4871-a829-5fb57dba7911",
   "metadata": {},
   "outputs": [],
   "source": [
    "# Renaming column with new meaningful name\n",
    "Dataframe.rename(columns={'release_date': 'Release date'}, inplace=True)"
   ]
  },
  {
   "cell_type": "markdown",
   "id": "b9311bc3-9954-4f9b-af4f-3209a7571757",
   "metadata": {},
   "source": [
    "Inspecting the first five rows of the column:"
   ]
  },
  {
   "cell_type": "code",
   "execution_count": 200,
   "id": "d77ff138-5b69-4e4b-b6dd-de38e3595079",
   "metadata": {},
   "outputs": [
    {
     "data": {
      "text/plain": [
       "0      6/9/15\n",
       "1     5/13/15\n",
       "2     3/18/15\n",
       "3    12/15/15\n",
       "4      4/1/15\n",
       "Name: Release date, dtype: object"
      ]
     },
     "execution_count": 200,
     "metadata": {},
     "output_type": "execute_result"
    }
   ],
   "source": [
    "# Displaying the first five rows of the dataframe\n",
    "Dataframe['Release date'].head(5)"
   ]
  },
  {
   "cell_type": "markdown",
   "id": "9267be73-f9fe-467c-83f9-369baeaefd26",
   "metadata": {},
   "source": [
    "Creating descriptive statistics about the feature:"
   ]
  },
  {
   "cell_type": "code",
   "execution_count": 202,
   "id": "1c55b366-68a6-4526-9b8b-cd34a04f1e02",
   "metadata": {},
   "outputs": [
    {
     "data": {
      "text/plain": [
       "count      10866\n",
       "unique      5909\n",
       "top       1/1/09\n",
       "freq          28\n",
       "Name: Release date, dtype: object"
      ]
     },
     "execution_count": 202,
     "metadata": {},
     "output_type": "execute_result"
    }
   ],
   "source": [
    "# Generating statistical description \n",
    "Dataframe['Release date'].describe()"
   ]
  },
  {
   "cell_type": "markdown",
   "id": "5be76d39-2a97-461e-8346-4b547b8081b8",
   "metadata": {},
   "source": [
    "Checking unique and missing entries: "
   ]
  },
  {
   "cell_type": "code",
   "execution_count": 204,
   "id": "60011cf9-7536-4441-855a-86f146a42de6",
   "metadata": {},
   "outputs": [
    {
     "name": "stdout",
     "output_type": "stream",
     "text": [
      "Number of null values: 0\n"
     ]
    }
   ],
   "source": [
    "# Number of null values\n",
    "print(\"Number of null values: \" +str(Dataframe['Release date'].isna().sum()))"
   ]
  },
  {
   "cell_type": "code",
   "execution_count": 205,
   "id": "3d755cc5-f43c-45d6-b93b-6edecec8e948",
   "metadata": {},
   "outputs": [
    {
     "name": "stdout",
     "output_type": "stream",
     "text": [
      "Unique entries count: 5909\n"
     ]
    }
   ],
   "source": [
    "# Number of unique values\n",
    "print(\"Unique entries count: \" + str(len(Dataframe['Release date'].unique())))"
   ]
  },
  {
   "cell_type": "code",
   "execution_count": 206,
   "id": "5b6cb041-ac2a-4a85-8c89-b2b4d2fc125f",
   "metadata": {},
   "outputs": [
    {
     "name": "stderr",
     "output_type": "stream",
     "text": [
      "C:\\Users\\Admin\\AppData\\Local\\Temp\\ipykernel_13332\\4288994078.py:2: UserWarning: Could not infer format, so each element will be parsed individually, falling back to `dateutil`. To ensure parsing is consistent and as-expected, please specify a format.\n",
      "  Dataframe['Release date'] = pd.to_datetime(Dataframe['Release date'])\n"
     ]
    }
   ],
   "source": [
    "# Changing the type of the data into date saving more memory\n",
    "Dataframe['Release date'] = pd.to_datetime(Dataframe['Release date'])"
   ]
  },
  {
   "cell_type": "markdown",
   "id": "5f341a80-f143-4eae-9f6d-a50ddf43149f",
   "metadata": {},
   "source": [
    "### vote_count column: "
   ]
  },
  {
   "cell_type": "markdown",
   "id": "7112e9e6-9a90-4dd7-9cfa-60bcac56567c",
   "metadata": {},
   "source": [
    "Starting with renaming the column."
   ]
  },
  {
   "cell_type": "code",
   "execution_count": 209,
   "id": "609216c7-deb7-4222-9ed9-ab579d3277e8",
   "metadata": {},
   "outputs": [],
   "source": [
    "# Renaming column with new meaningful name\n",
    "Dataframe.rename(columns={'vote_count': 'Vote count'}, inplace=True)"
   ]
  },
  {
   "cell_type": "markdown",
   "id": "a08d3c13-acdd-479a-ba44-dcc850fb0a57",
   "metadata": {},
   "source": [
    "Inspecting the first five rows of the column:"
   ]
  },
  {
   "cell_type": "code",
   "execution_count": 211,
   "id": "e0eea7fa-c76e-4c43-adad-6cf550f2b9d7",
   "metadata": {},
   "outputs": [
    {
     "data": {
      "text/plain": [
       "0    5562\n",
       "1    6185\n",
       "2    2480\n",
       "3    5292\n",
       "4    2947\n",
       "Name: Vote count, dtype: int64"
      ]
     },
     "execution_count": 211,
     "metadata": {},
     "output_type": "execute_result"
    }
   ],
   "source": [
    "# Displaying the first five rows of the dataframe\n",
    "Dataframe['Vote count'].head(5)"
   ]
  },
  {
   "cell_type": "markdown",
   "id": "6ddae728-8d95-4a39-9063-4df8c2a16daf",
   "metadata": {},
   "source": [
    "Creating descriptive statistics about the feature:"
   ]
  },
  {
   "cell_type": "code",
   "execution_count": 213,
   "id": "dd89f172-085e-4fed-8c33-6e5ff93626ec",
   "metadata": {},
   "outputs": [
    {
     "data": {
      "text/plain": [
       "count    10866.000000\n",
       "mean       217.389748\n",
       "std        575.619058\n",
       "min         10.000000\n",
       "25%         17.000000\n",
       "50%         38.000000\n",
       "75%        145.750000\n",
       "max       9767.000000\n",
       "Name: Vote count, dtype: float64"
      ]
     },
     "execution_count": 213,
     "metadata": {},
     "output_type": "execute_result"
    }
   ],
   "source": [
    "# Generating statistical description \n",
    "Dataframe['Vote count'].describe()"
   ]
  },
  {
   "cell_type": "markdown",
   "id": "c5e56d95-f920-406b-b9d8-732902d756e9",
   "metadata": {},
   "source": [
    "Checking unique and missing entries:"
   ]
  },
  {
   "cell_type": "code",
   "execution_count": 215,
   "id": "231fa71f-f744-46de-a4c2-8b9cdcf07813",
   "metadata": {},
   "outputs": [
    {
     "name": "stdout",
     "output_type": "stream",
     "text": [
      "Number of null values: 0\n"
     ]
    }
   ],
   "source": [
    "# Number of null values\n",
    "print(\"Number of null values: \" +str(Dataframe['Vote count'].isna().sum()))"
   ]
  },
  {
   "cell_type": "code",
   "execution_count": 216,
   "id": "220699e7-2f78-477b-9fef-5744730b1cf0",
   "metadata": {},
   "outputs": [
    {
     "name": "stdout",
     "output_type": "stream",
     "text": [
      "Unique entries count: 1289\n"
     ]
    }
   ],
   "source": [
    "# Number of unique values\n",
    "print(\"Unique entries count: \" + str(len(Dataframe['Vote count'].unique())))"
   ]
  },
  {
   "cell_type": "markdown",
   "id": "9879eafd-beb5-42b9-a160-f0289a8bec36",
   "metadata": {},
   "source": [
    "The maximum value of Vote count column is **9767** which is smaller than 2^32 **429 4967 296**, so instead of using the float64 for storing we can use float16 minimizing the memory storage."
   ]
  },
  {
   "cell_type": "code",
   "execution_count": 218,
   "id": "d400a10c-ef19-4873-a440-342b2ed8ced8",
   "metadata": {},
   "outputs": [],
   "source": [
    "# Changing the type of the data from float64 into float16 saving more memory\n",
    "Dataframe['Vote count'] = Dataframe['Vote count'].astype('float16')"
   ]
  },
  {
   "cell_type": "markdown",
   "id": "cf4bd748-07b8-4908-9c3d-4c7ab40ff7cf",
   "metadata": {},
   "source": [
    "Plotting the data as histogram to observe the distribution: "
   ]
  },
  {
   "cell_type": "code",
   "execution_count": 220,
   "id": "042c4ec4-7d50-4add-a01f-b1f62630371a",
   "metadata": {},
   "outputs": [
    {
     "data": {
      "image/png": "[encoded data removed]",
      "text/plain": [
       "<Figure size 1000x700 with 1 Axes>"
      ]
     },
     "metadata": {},
     "output_type": "display_data"
    }
   ],
   "source": [
    "# Plotting the histogram\n",
    "plot_histogram(Dataframe, 'Vote count', bins=15, title='Histogram of Vote count', xlabel='Vote count', ylabel='Frequency')"
   ]
  },
  {
   "cell_type": "markdown",
   "id": "9cca115e-8f5c-4182-8f90-f1ccc0180a59",
   "metadata": {},
   "source": [
    "Results explained:\n",
    "1. The majority of movies have very low vote counts.\n",
    "2. A few movies have significantly higher vote counts.\n",
    "3. Most movies receive relatively few votes, possibly indicating that many are less popular or have limited viewership."
   ]
  },
  {
   "cell_type": "markdown",
   "id": "3c50c28c-d781-477a-a530-0a533ee817d7",
   "metadata": {},
   "source": [
    "### vote_average column"
   ]
  },
  {
   "cell_type": "markdown",
   "id": "80359877-a47e-460a-bf39-c06d491def30",
   "metadata": {},
   "source": [
    "Starting with renaming the column."
   ]
  },
  {
   "cell_type": "code",
   "execution_count": 224,
   "id": "b50ace08-6ead-4bf1-8a02-3ba6c0bf6aba",
   "metadata": {},
   "outputs": [],
   "source": [
    "# Renaming column with new meaningful name\n",
    "Dataframe.rename(columns={'vote_average': 'Vote average'}, inplace=True)"
   ]
  },
  {
   "cell_type": "markdown",
   "id": "49b6971b-9fbf-46b5-b17d-534fd061c8b1",
   "metadata": {},
   "source": [
    "Inspecting the first five rows of the column:"
   ]
  },
  {
   "cell_type": "code",
   "execution_count": 226,
   "id": "b72ab01e-0e35-448e-abc0-5ac86c0eddb1",
   "metadata": {},
   "outputs": [
    {
     "data": {
      "text/plain": [
       "0    6.5\n",
       "1    7.1\n",
       "2    6.3\n",
       "3    7.5\n",
       "4    7.3\n",
       "Name: Vote average, dtype: float64"
      ]
     },
     "execution_count": 226,
     "metadata": {},
     "output_type": "execute_result"
    }
   ],
   "source": [
    "# Displaying the first five rows of the dataframe\n",
    "Dataframe['Vote average'].head(5)"
   ]
  },
  {
   "cell_type": "markdown",
   "id": "1b4d4352-a963-4346-bc02-565d4dc32a65",
   "metadata": {},
   "source": [
    "Creating descriptive statistics about the feature:"
   ]
  },
  {
   "cell_type": "code",
   "execution_count": 228,
   "id": "6f381e5d-914d-49f2-af72-000b3549c76a",
   "metadata": {},
   "outputs": [
    {
     "data": {
      "text/plain": [
       "count    10866.000000\n",
       "mean         5.974922\n",
       "std          0.935142\n",
       "min          1.500000\n",
       "25%          5.400000\n",
       "50%          6.000000\n",
       "75%          6.600000\n",
       "max          9.200000\n",
       "Name: Vote average, dtype: float64"
      ]
     },
     "execution_count": 228,
     "metadata": {},
     "output_type": "execute_result"
    }
   ],
   "source": [
    "# Generating statistical description \n",
    "Dataframe['Vote average'].describe() "
   ]
  },
  {
   "cell_type": "markdown",
   "id": "1c47a19d-785f-4184-97f6-c9845a52ce6d",
   "metadata": {},
   "source": [
    "Checking unique and missing entries: "
   ]
  },
  {
   "cell_type": "code",
   "execution_count": 230,
   "id": "3a309334-5e7f-4fdd-8ba3-9881832738b5",
   "metadata": {},
   "outputs": [
    {
     "name": "stdout",
     "output_type": "stream",
     "text": [
      "Number of null values: 0\n"
     ]
    }
   ],
   "source": [
    "# Number of null values\n",
    "print(\"Number of null values: \" +str(Dataframe['Vote average'].isna().sum()))"
   ]
  },
  {
   "cell_type": "code",
   "execution_count": 231,
   "id": "fdfad19b-fc6c-41be-8405-3424d7e0a5f5",
   "metadata": {},
   "outputs": [
    {
     "name": "stdout",
     "output_type": "stream",
     "text": [
      "Unique entries count: 72\n"
     ]
    }
   ],
   "source": [
    "# Number of unique values\n",
    "print(\"Unique entries count: \" + str(len(Dataframe['Vote average'].unique())))"
   ]
  },
  {
   "cell_type": "markdown",
   "id": "76f6dc5f-aefd-4784-8fd7-7bc9c8661af4",
   "metadata": {},
   "source": [
    "The maximum value of Vote average column is **9.200000** which is smaller than 2^16 **65536**, so instead of using the float64 for storing we can use float32 minimizing the memory storage.\r\n"
   ]
  },
  {
   "cell_type": "code",
   "execution_count": 233,
   "id": "bd9d18e1-ee22-4f3e-9f8a-c3848df7edf1",
   "metadata": {},
   "outputs": [],
   "source": [
    "# Changing the type of the data from float64 into float16 saving more memory\n",
    "Dataframe['Vote average'] = Dataframe['Vote average'].astype('float16')"
   ]
  },
  {
   "cell_type": "markdown",
   "id": "8085b851-87cb-4704-9676-fa94bc11f145",
   "metadata": {},
   "source": [
    "Plotting the data as histogram to observe the distribution: "
   ]
  },
  {
   "cell_type": "code",
   "execution_count": 235,
   "id": "f7737d7e-12f0-4e96-8274-2c89f520686d",
   "metadata": {},
   "outputs": [
    {
     "data": {
      "image/png": "[encoded data removed]",
      "text/plain": [
       "<Figure size 1000x700 with 1 Axes>"
      ]
     },
     "metadata": {},
     "output_type": "display_data"
    }
   ],
   "source": [
    "# Plotting the histogram\n",
    "plot_histogram(Dataframe, 'Vote count', bins=15, title='Histogram of Vote average', xlabel='Vote average', ylabel='Frequency')"
   ]
  },
  {
   "cell_type": "markdown",
   "id": "1feb41c4-7af7-4e86-a44e-ba3a1bed7d64",
   "metadata": {},
   "source": [
    "Results explained:\n",
    "1. The data follows a almost normal distribution, meaning most movies have an average rating around the center.\n",
    "2. The peak occurs between 5 and 7, suggesting that most movies receive an average rating in this range.\n",
    "3. Very few movies have extremely low _below 3_ or extremely high _above 8_ ratings."
   ]
  },
  {
   "cell_type": "markdown",
   "id": "5e79d727-bc29-413d-9db9-93502d630b97",
   "metadata": {},
   "source": [
    "### release_year column: "
   ]
  },
  {
   "cell_type": "markdown",
   "id": "0a5e80d2-a7ce-486d-8938-b38239b7c493",
   "metadata": {},
   "source": [
    "Starting with renaming the column."
   ]
  },
  {
   "cell_type": "code",
   "execution_count": 239,
   "id": "904a241c-ba8b-43f8-90c2-895136c2e789",
   "metadata": {},
   "outputs": [],
   "source": [
    "# Renaming column with new meaningful name\n",
    "Dataframe.rename(columns={'release_year': 'Release year'}, inplace=True)"
   ]
  },
  {
   "cell_type": "markdown",
   "id": "638638c0-54c0-459d-be73-6f288d191dbd",
   "metadata": {},
   "source": [
    "Inspecting the first five rows of the column:"
   ]
  },
  {
   "cell_type": "code",
   "execution_count": 241,
   "id": "8594bb2a-7bd6-43a0-b66d-cf1639748292",
   "metadata": {},
   "outputs": [
    {
     "data": {
      "text/plain": [
       "0    2015\n",
       "1    2015\n",
       "2    2015\n",
       "3    2015\n",
       "4    2015\n",
       "Name: Release year, dtype: int64"
      ]
     },
     "execution_count": 241,
     "metadata": {},
     "output_type": "execute_result"
    }
   ],
   "source": [
    "# Displaying the first five rows of the dataframe\n",
    "Dataframe['Release year'].head(5)"
   ]
  },
  {
   "cell_type": "markdown",
   "id": "cb75d3a7-67a1-49e7-a569-2eb3bcdd0cf7",
   "metadata": {},
   "source": [
    "Creating descriptive statistics about the feature:"
   ]
  },
  {
   "cell_type": "code",
   "execution_count": 243,
   "id": "1443f1c7-b6c6-4d54-842a-64e845e097d5",
   "metadata": {},
   "outputs": [
    {
     "data": {
      "text/plain": [
       "count    10866.000000\n",
       "mean      2001.322658\n",
       "std         12.812941\n",
       "min       1960.000000\n",
       "25%       1995.000000\n",
       "50%       2006.000000\n",
       "75%       2011.000000\n",
       "max       2015.000000\n",
       "Name: Release year, dtype: float64"
      ]
     },
     "execution_count": 243,
     "metadata": {},
     "output_type": "execute_result"
    }
   ],
   "source": [
    "# Generating statistical description \n",
    "Dataframe['Release year'].describe()"
   ]
  },
  {
   "cell_type": "markdown",
   "id": "4c9e844c-321b-4390-8bf6-863be1a99dd0",
   "metadata": {},
   "source": [
    "Checking unique and missing entries:"
   ]
  },
  {
   "cell_type": "code",
   "execution_count": 245,
   "id": "397b15b8-5d6f-4b21-8b06-b6c7f125c060",
   "metadata": {},
   "outputs": [
    {
     "name": "stdout",
     "output_type": "stream",
     "text": [
      "Number of null values: 0\n"
     ]
    }
   ],
   "source": [
    "# Number of null values\n",
    "print(\"Number of null values: \" +str(Dataframe['Release year'].isna().sum()))"
   ]
  },
  {
   "cell_type": "code",
   "execution_count": 246,
   "id": "72636670-03eb-472e-86ce-7b998cef3cf7",
   "metadata": {},
   "outputs": [
    {
     "name": "stdout",
     "output_type": "stream",
     "text": [
      "Unique entries count: 56\n"
     ]
    }
   ],
   "source": [
    "# Number of unique values\n",
    "print(\"Unique entries count: \" + str(len(Dataframe['Release year'].unique())))"
   ]
  },
  {
   "cell_type": "markdown",
   "id": "dadb12f8-5f91-40ef-8011-1ad12cd1ee3f",
   "metadata": {},
   "source": [
    "The maximum value of Release year column is **2015** which is smaller than 2^16 **65536**, so instead of using the float64 for storing we can use int16 minimizing the memory storage."
   ]
  },
  {
   "cell_type": "code",
   "execution_count": 248,
   "id": "55b2ff6d-6642-4286-baa2-1b185bd1aede",
   "metadata": {},
   "outputs": [],
   "source": [
    "# Changing the type of the data from float64 into int16 saving more memory\n",
    "Dataframe['Release year'] = Dataframe['Release year'].astype('int16')"
   ]
  },
  {
   "cell_type": "markdown",
   "id": "a8e4ab79-b678-430a-95db-364e16877fbe",
   "metadata": {},
   "source": [
    "Plotting the data as histogram to observe the distribution: "
   ]
  },
  {
   "cell_type": "code",
   "execution_count": 250,
   "id": "e9ad42e8-357d-4004-9070-a3f13676f706",
   "metadata": {},
   "outputs": [
    {
     "data": {
      "image/png": "[encoded data removed]",
      "text/plain": [
       "<Figure size 1000x700 with 1 Axes>"
      ]
     },
     "metadata": {},
     "output_type": "display_data"
    }
   ],
   "source": [
    "# Plotting the histogram\n",
    "plot_histogram(Dataframe, 'Release year', bins=15, title='Histogram of Release year', xlabel='Release year', ylabel='Frequency')"
   ]
  },
  {
   "cell_type": "markdown",
   "id": "b3070be1-9acb-41c6-ba2b-e9560f54ac86",
   "metadata": {},
   "source": [
    "Results explained:\n",
    "1. The number of movie releases was relatively low before the _1980s_.\n",
    "2. The movie industry started ginormously increased in the _1990s_ and continued to rise.\n",
    "3. The highest number of releases occurred in recent years _2010s_.\n",
    "4. Right-skewed. "
   ]
  },
  {
   "cell_type": "markdown",
   "id": "4f8f8f44-a8e1-47b6-b73e-99a478f32f66",
   "metadata": {},
   "source": [
    "### budget_adj column:"
   ]
  },
  {
   "cell_type": "markdown",
   "id": "9ac36544-9434-4a49-a9da-cdf1547e261a",
   "metadata": {},
   "source": [
    "Starting with renaming the column."
   ]
  },
  {
   "cell_type": "code",
   "execution_count": 254,
   "id": "28227df5-e5e9-457f-88cc-62e79279de73",
   "metadata": {},
   "outputs": [],
   "source": [
    "# Renaming column with new meaningful name\n",
    "Dataframe.rename(columns={'budget_adj': 'Budget adjusted'}, inplace=True)"
   ]
  },
  {
   "cell_type": "markdown",
   "id": "a64cf972-07b4-4e05-ac63-b8aac657be4b",
   "metadata": {},
   "source": [
    "Inspecting the first five rows of the column:"
   ]
  },
  {
   "cell_type": "code",
   "execution_count": 256,
   "id": "104c19cd-60e7-4790-a7a4-29e06729eea3",
   "metadata": {},
   "outputs": [
    {
     "data": {
      "text/plain": [
       "0    1.379999e+08\n",
       "1    1.379999e+08\n",
       "2    1.012000e+08\n",
       "3    1.839999e+08\n",
       "4    1.747999e+08\n",
       "Name: Budget adjusted, dtype: float64"
      ]
     },
     "execution_count": 256,
     "metadata": {},
     "output_type": "execute_result"
    }
   ],
   "source": [
    "# Displaying the first five rows of the dataframe\n",
    "Dataframe['Budget adjusted'].head(5)"
   ]
  },
  {
   "cell_type": "markdown",
   "id": "5e55a369-f935-4d5b-8e58-164164b492dd",
   "metadata": {},
   "source": [
    "Creating descriptive statistics about the feature:"
   ]
  },
  {
   "cell_type": "code",
   "execution_count": 258,
   "id": "08d7e3a9-b1d8-40dd-bcd8-3216ddc37676",
   "metadata": {},
   "outputs": [
    {
     "data": {
      "text/plain": [
       "count    1.086600e+04\n",
       "mean     1.755104e+07\n",
       "std      3.430616e+07\n",
       "min      0.000000e+00\n",
       "25%      0.000000e+00\n",
       "50%      0.000000e+00\n",
       "75%      2.085325e+07\n",
       "max      4.250000e+08\n",
       "Name: Budget adjusted, dtype: float64"
      ]
     },
     "execution_count": 258,
     "metadata": {},
     "output_type": "execute_result"
    }
   ],
   "source": [
    "# Generating statistical description \n",
    "Dataframe['Budget adjusted'].describe()"
   ]
  },
  {
   "cell_type": "markdown",
   "id": "e12f5421-8fa2-4669-a42f-65ab9dc14184",
   "metadata": {},
   "source": [
    "Checking unique and missing entries:"
   ]
  },
  {
   "cell_type": "code",
   "execution_count": 260,
   "id": "70d77c13-5e5d-4daa-8765-2dbc9af3cc8d",
   "metadata": {},
   "outputs": [
    {
     "name": "stdout",
     "output_type": "stream",
     "text": [
      "Number of null values: 0\n"
     ]
    }
   ],
   "source": [
    "# Number of null values\n",
    "print(\"Number of null values: \" +str(Dataframe['Budget adjusted'].isna().sum()))"
   ]
  },
  {
   "cell_type": "code",
   "execution_count": 261,
   "id": "fa20fe22-644b-47cf-a76e-d3d51e008dfa",
   "metadata": {},
   "outputs": [
    {
     "name": "stdout",
     "output_type": "stream",
     "text": [
      "Unique entries count: 2614\n"
     ]
    }
   ],
   "source": [
    "# Number of unique values\n",
    "print(\"Unique entries count: \" + str(len(Dataframe['Budget adjusted'].unique())))"
   ]
  },
  {
   "cell_type": "markdown",
   "id": "8aab4f56-e04d-49c6-899e-e7469b7fdf13",
   "metadata": {},
   "source": [
    "The maximum value of Budget adjusted column is **278 1506 000** which is smaller than 2^32 **429 4967 296**, so instead of using the float64 for storing we can use float32 minimizing the memory storage."
   ]
  },
  {
   "cell_type": "code",
   "execution_count": 263,
   "id": "f8bf20da-80d9-499b-a05c-e6b425785a5b",
   "metadata": {},
   "outputs": [],
   "source": [
    "# Changing the type of the data from float64 into float32 saving more memory\n",
    "Dataframe['Budget adj'] = Dataframe['Budget adjusted'].astype('float32')"
   ]
  },
  {
   "cell_type": "markdown",
   "id": "4876d40d-4760-4b9f-b1b5-f5fe7c12f7a2",
   "metadata": {},
   "source": [
    "Plotting the data as histogram to observe the distribution: "
   ]
  },
  {
   "cell_type": "code",
   "execution_count": 265,
   "id": "f851ec4a-f769-472b-b93c-2809fc49b969",
   "metadata": {},
   "outputs": [
    {
     "data": {
      "image/png": "[encoded data removed]",
      "text/plain": [
       "<Figure size 1000x700 with 1 Axes>"
      ]
     },
     "metadata": {},
     "output_type": "display_data"
    }
   ],
   "source": [
    "# Plotting the histogram\n",
    "plot_histogram(Dataframe, 'Budget adjusted', bins=15, title='Histogram of Budget adjusted', xlabel='Budget adjusted', ylabel='Frequency')"
   ]
  },
  {
   "cell_type": "markdown",
   "id": "6165e6ac-60a9-4445-a573-0e989afd1edf",
   "metadata": {},
   "source": [
    "Results explained:\n",
    "1. right-skewed.\n",
    "2. Most Movies Have Low Budgets.\n",
    "3. Few Movies Have Huge Budgets.\n",
    "4. istribution is not uniform."
   ]
  },
  {
   "cell_type": "markdown",
   "id": "038a2518-b60c-46ad-95ab-caa2a3704bca",
   "metadata": {},
   "source": [
    "### revenue_adj column: "
   ]
  },
  {
   "cell_type": "markdown",
   "id": "d54f7fed-cb27-4b92-ad02-65d62d46074a",
   "metadata": {},
   "source": [
    "Starting with renaming the column."
   ]
  },
  {
   "cell_type": "code",
   "execution_count": 269,
   "id": "ff3c054d-7337-491b-a068-b7126ef2f601",
   "metadata": {},
   "outputs": [],
   "source": [
    "# Renaming column with new meaningful name\n",
    "Dataframe.rename(columns={'revenue_adj': 'Revenue adjusted'}, inplace=True)"
   ]
  },
  {
   "cell_type": "markdown",
   "id": "880349a2-5130-4064-ab69-a7d8195b0bbb",
   "metadata": {},
   "source": [
    "Inspecting the first five rows of the column:"
   ]
  },
  {
   "cell_type": "code",
   "execution_count": 271,
   "id": "17dd01ad-b2cf-4d45-8e6b-ac3ff5a119e5",
   "metadata": {},
   "outputs": [
    {
     "data": {
      "text/plain": [
       "0    1.392446e+09\n",
       "1    3.481613e+08\n",
       "2    2.716190e+08\n",
       "3    1.902723e+09\n",
       "4    1.385749e+09\n",
       "Name: Revenue adjusted, dtype: float64"
      ]
     },
     "execution_count": 271,
     "metadata": {},
     "output_type": "execute_result"
    }
   ],
   "source": [
    "# Displaying the first five rows of the dataframe\n",
    "Dataframe['Revenue adjusted'].head(5)"
   ]
  },
  {
   "cell_type": "markdown",
   "id": "d98623af-d1ac-4f91-8910-3d4cb5e1e5be",
   "metadata": {},
   "source": [
    "Creating descriptive statistics about the feature:"
   ]
  },
  {
   "cell_type": "code",
   "execution_count": 273,
   "id": "ac60da8e-46e2-472a-9b1b-7b28109e92ef",
   "metadata": {},
   "outputs": [
    {
     "data": {
      "text/plain": [
       "count    1.086600e+04\n",
       "mean     5.136436e+07\n",
       "std      1.446325e+08\n",
       "min      0.000000e+00\n",
       "25%      0.000000e+00\n",
       "50%      0.000000e+00\n",
       "75%      3.369710e+07\n",
       "max      2.827124e+09\n",
       "Name: Revenue adjusted, dtype: float64"
      ]
     },
     "execution_count": 273,
     "metadata": {},
     "output_type": "execute_result"
    }
   ],
   "source": [
    "# Generating statistical description \n",
    "Dataframe['Revenue adjusted'].describe()"
   ]
  },
  {
   "cell_type": "markdown",
   "id": "997e897a-81fc-4888-b21a-d4cd891ce212",
   "metadata": {},
   "source": [
    "Checking unique and missing entries: "
   ]
  },
  {
   "cell_type": "code",
   "execution_count": 275,
   "id": "da2bd6d4-edd5-467f-b595-963f7600e6f7",
   "metadata": {},
   "outputs": [
    {
     "name": "stdout",
     "output_type": "stream",
     "text": [
      "Number of null values: 0\n"
     ]
    }
   ],
   "source": [
    "# Number of null values\n",
    "print(\"Number of null values: \" +str(Dataframe['Revenue adjusted'].isna().sum()))"
   ]
  },
  {
   "cell_type": "code",
   "execution_count": 276,
   "id": "da5f612e-674d-4071-9e0d-1517d0cb6f37",
   "metadata": {},
   "outputs": [
    {
     "name": "stdout",
     "output_type": "stream",
     "text": [
      "Unique entries count: 4840\n"
     ]
    }
   ],
   "source": [
    "# Number of unique values\n",
    "print(\"Unique entries count: \" + str(len(Dataframe['Revenue adjusted'].unique())))"
   ]
  },
  {
   "cell_type": "markdown",
   "id": "008ebb6b-a76e-4d53-b9ab-004563d0b811",
   "metadata": {},
   "source": [
    "Plotting the data as histogram to observe the distribution: "
   ]
  },
  {
   "cell_type": "code",
   "execution_count": 278,
   "id": "0b99be09-1bdd-41e8-b84f-3e6c09faf512",
   "metadata": {},
   "outputs": [
    {
     "data": {
      "image/png": "[encoded data removed]",
      "text/plain": [
       "<Figure size 1000x700 with 1 Axes>"
      ]
     },
     "metadata": {},
     "output_type": "display_data"
    }
   ],
   "source": [
    "# Plotting the histogram\n",
    "plot_histogram(Dataframe, 'Revenue adjusted', bins=15, title='Histogram of Revenue adjusted', xlabel='Revenue adjusted', ylabel='Frequency')"
   ]
  },
  {
   "cell_type": "markdown",
   "id": "87d6f0d1-58e3-4dd1-83f4-bb123378dd71",
   "metadata": {},
   "source": [
    "Results explained:\n",
    "1. Most movies earn very little.\n",
    "2. A few movies earn high Revenue.\n",
    "3. Extreme right skewness."
   ]
  },
  {
   "cell_type": "markdown",
   "id": "184c740b-fb06-49a6-878a-e852fbf98f1f",
   "metadata": {},
   "source": [
    "### IMDB Number column:"
   ]
  },
  {
   "cell_type": "markdown",
   "id": "4e0b66d6-cb02-455e-a7f7-f3fb14678dcc",
   "metadata": {},
   "source": [
    "Inspecting the first five rows of the column:"
   ]
  },
  {
   "cell_type": "code",
   "execution_count": 282,
   "id": "82a11ce2-4622-4c13-a2aa-eb9cd5d0b490",
   "metadata": {},
   "outputs": [
    {
     "name": "stdout",
     "output_type": "stream",
     "text": [
      "<class 'pandas.core.frame.DataFrame'>\n",
      "RangeIndex: 10866 entries, 0 to 10865\n",
      "Data columns (total 22 columns):\n",
      " #   Column                Non-Null Count  Dtype         \n",
      "---  ------                --------------  -----         \n",
      " 0   ID                    10866 non-null  float32       \n",
      " 1   IMDB ID               10856 non-null  float32       \n",
      " 2   Popularity            10866 non-null  float16       \n",
      " 3   Budget                10866 non-null  uint32        \n",
      " 4   Revenue               10866 non-null  float32       \n",
      " 5   Original title        10866 non-null  object        \n",
      " 6   Cast                  10866 non-null  object        \n",
      " 7   Homepage URL          10866 non-null  object        \n",
      " 8   Director              10866 non-null  object        \n",
      " 9   Tag line              10866 non-null  object        \n",
      " 10  Keywords              10866 non-null  object        \n",
      " 11  Overview              10866 non-null  object        \n",
      " 12  Run time              10866 non-null  float16       \n",
      " 13  Genres                10843 non-null  object        \n",
      " 14  Production companies  10866 non-null  object        \n",
      " 15  Release date          10866 non-null  datetime64[ns]\n",
      " 16  Vote count            10866 non-null  float16       \n",
      " 17  Vote average          10866 non-null  float16       \n",
      " 18  Release year          10866 non-null  int16         \n",
      " 19  Budget adjusted       10866 non-null  float64       \n",
      " 20  Revenue adjusted      10866 non-null  float64       \n",
      " 21  Budget adj            10866 non-null  float32       \n",
      "dtypes: datetime64[ns](1), float16(4), float32(4), float64(2), int16(1), object(9), uint32(1)\n",
      "memory usage: 1.3+ MB\n"
     ]
    }
   ],
   "source": [
    "Dataframe.info()"
   ]
  },
  {
   "cell_type": "code",
   "execution_count": 283,
   "id": "81c55b03-b6b5-4245-aa87-18a0f0be8f62",
   "metadata": {},
   "outputs": [
    {
     "data": {
      "text/html": [
       "<div>\n",
       "<style scoped>\n",
       "    .dataframe tbody tr th:only-of-type {\n",
       "        vertical-align: middle;\n",
       "    }\n",
       "\n",
       "    .dataframe tbody tr th {\n",
       "        vertical-align: top;\n",
       "    }\n",
       "\n",
       "    .dataframe thead th {\n",
       "        text-align: right;\n",
       "    }\n",
       "</style>\n",
       "<table border=\"1\" class=\"dataframe\">\n",
       "  <thead>\n",
       "    <tr style=\"text-align: right;\">\n",
       "      <th></th>\n",
       "      <th>ID</th>\n",
       "      <th>IMDB ID</th>\n",
       "      <th>Popularity</th>\n",
       "      <th>Budget</th>\n",
       "      <th>Revenue</th>\n",
       "      <th>Original title</th>\n",
       "      <th>Cast</th>\n",
       "      <th>Homepage URL</th>\n",
       "      <th>Director</th>\n",
       "      <th>Tag line</th>\n",
       "      <th>...</th>\n",
       "      <th>Run time</th>\n",
       "      <th>Genres</th>\n",
       "      <th>Production companies</th>\n",
       "      <th>Release date</th>\n",
       "      <th>Vote count</th>\n",
       "      <th>Vote average</th>\n",
       "      <th>Release year</th>\n",
       "      <th>Budget adjusted</th>\n",
       "      <th>Revenue adjusted</th>\n",
       "      <th>Budget adj</th>\n",
       "    </tr>\n",
       "  </thead>\n",
       "  <tbody>\n",
       "    <tr>\n",
       "      <th>0</th>\n",
       "      <td>135397.0</td>\n",
       "      <td>369610.0</td>\n",
       "      <td>33.000000</td>\n",
       "      <td>150000000</td>\n",
       "      <td>1.513529e+09</td>\n",
       "      <td>Jurassic World</td>\n",
       "      <td>Chris Pratt|Bryce Dallas Howard|Irrfan Khan|Vi...</td>\n",
       "      <td>http://www.jurassicworld.com/</td>\n",
       "      <td>Colin Trevorrow</td>\n",
       "      <td>The park is open.</td>\n",
       "      <td>...</td>\n",
       "      <td>124.0</td>\n",
       "      <td>Action|Adventure|Science Fiction|Thriller</td>\n",
       "      <td>Universal Studios|Amblin Entertainment|Legenda...</td>\n",
       "      <td>2015-06-09</td>\n",
       "      <td>5560.0</td>\n",
       "      <td>6.500000</td>\n",
       "      <td>2015</td>\n",
       "      <td>1.379999e+08</td>\n",
       "      <td>1.392446e+09</td>\n",
       "      <td>137999936.0</td>\n",
       "    </tr>\n",
       "    <tr>\n",
       "      <th>1</th>\n",
       "      <td>76341.0</td>\n",
       "      <td>1392190.0</td>\n",
       "      <td>28.421875</td>\n",
       "      <td>150000000</td>\n",
       "      <td>3.784364e+08</td>\n",
       "      <td>Mad Max: Fury Road</td>\n",
       "      <td>Tom Hardy|Charlize Theron|Hugh Keays-Byrne|Nic...</td>\n",
       "      <td>http://www.madmaxmovie.com/</td>\n",
       "      <td>George Miller</td>\n",
       "      <td>What a Lovely Day.</td>\n",
       "      <td>...</td>\n",
       "      <td>120.0</td>\n",
       "      <td>Action|Adventure|Science Fiction|Thriller</td>\n",
       "      <td>Village Roadshow Pictures|Kennedy Miller Produ...</td>\n",
       "      <td>2015-05-13</td>\n",
       "      <td>6184.0</td>\n",
       "      <td>7.101562</td>\n",
       "      <td>2015</td>\n",
       "      <td>1.379999e+08</td>\n",
       "      <td>3.481613e+08</td>\n",
       "      <td>137999936.0</td>\n",
       "    </tr>\n",
       "    <tr>\n",
       "      <th>2</th>\n",
       "      <td>262500.0</td>\n",
       "      <td>2908446.0</td>\n",
       "      <td>13.109375</td>\n",
       "      <td>110000000</td>\n",
       "      <td>2.952382e+08</td>\n",
       "      <td>Insurgent</td>\n",
       "      <td>Shailene Woodley|Theo James|Kate Winslet|Ansel...</td>\n",
       "      <td>http://www.thedivergentseries.movie/#insurgent</td>\n",
       "      <td>Robert Schwentke</td>\n",
       "      <td>One Choice Can Destroy You</td>\n",
       "      <td>...</td>\n",
       "      <td>119.0</td>\n",
       "      <td>Adventure|Science Fiction|Thriller</td>\n",
       "      <td>Summit Entertainment|Mandeville Films|Red Wago...</td>\n",
       "      <td>2015-03-18</td>\n",
       "      <td>2480.0</td>\n",
       "      <td>6.300781</td>\n",
       "      <td>2015</td>\n",
       "      <td>1.012000e+08</td>\n",
       "      <td>2.716190e+08</td>\n",
       "      <td>101199952.0</td>\n",
       "    </tr>\n",
       "    <tr>\n",
       "      <th>3</th>\n",
       "      <td>140607.0</td>\n",
       "      <td>2488496.0</td>\n",
       "      <td>11.171875</td>\n",
       "      <td>200000000</td>\n",
       "      <td>2.068178e+09</td>\n",
       "      <td>Star Wars: The Force Awakens</td>\n",
       "      <td>Harrison Ford|Mark Hamill|Carrie Fisher|Adam D...</td>\n",
       "      <td>http://www.starwars.com/films/star-wars-episod...</td>\n",
       "      <td>J.J. Abrams</td>\n",
       "      <td>Every generation has a story.</td>\n",
       "      <td>...</td>\n",
       "      <td>136.0</td>\n",
       "      <td>Action|Adventure|Science Fiction|Fantasy</td>\n",
       "      <td>Lucasfilm|Truenorth Productions|Bad Robot</td>\n",
       "      <td>2015-12-15</td>\n",
       "      <td>5292.0</td>\n",
       "      <td>7.500000</td>\n",
       "      <td>2015</td>\n",
       "      <td>1.839999e+08</td>\n",
       "      <td>1.902723e+09</td>\n",
       "      <td>183999920.0</td>\n",
       "    </tr>\n",
       "    <tr>\n",
       "      <th>4</th>\n",
       "      <td>168259.0</td>\n",
       "      <td>2820852.0</td>\n",
       "      <td>9.335938</td>\n",
       "      <td>190000000</td>\n",
       "      <td>1.506249e+09</td>\n",
       "      <td>Furious 7</td>\n",
       "      <td>Vin Diesel|Paul Walker|Jason Statham|Michelle ...</td>\n",
       "      <td>http://www.furious7.com/</td>\n",
       "      <td>James Wan</td>\n",
       "      <td>Vengeance Hits Home</td>\n",
       "      <td>...</td>\n",
       "      <td>137.0</td>\n",
       "      <td>Action|Crime|Thriller</td>\n",
       "      <td>Universal Pictures|Original Film|Media Rights ...</td>\n",
       "      <td>2015-04-01</td>\n",
       "      <td>2948.0</td>\n",
       "      <td>7.300781</td>\n",
       "      <td>2015</td>\n",
       "      <td>1.747999e+08</td>\n",
       "      <td>1.385749e+09</td>\n",
       "      <td>174799920.0</td>\n",
       "    </tr>\n",
       "  </tbody>\n",
       "</table>\n",
       "<p>5 rows × 22 columns</p>\n",
       "</div>"
      ],
      "text/plain": [
       "         ID    IMDB ID  Popularity     Budget       Revenue  \\\n",
       "0  135397.0   369610.0   33.000000  150000000  1.513529e+09   \n",
       "1   76341.0  1392190.0   28.421875  150000000  3.784364e+08   \n",
       "2  262500.0  2908446.0   13.109375  110000000  2.952382e+08   \n",
       "3  140607.0  2488496.0   11.171875  200000000  2.068178e+09   \n",
       "4  168259.0  2820852.0    9.335938  190000000  1.506249e+09   \n",
       "\n",
       "                 Original title  \\\n",
       "0                Jurassic World   \n",
       "1            Mad Max: Fury Road   \n",
       "2                     Insurgent   \n",
       "3  Star Wars: The Force Awakens   \n",
       "4                     Furious 7   \n",
       "\n",
       "                                                Cast  \\\n",
       "0  Chris Pratt|Bryce Dallas Howard|Irrfan Khan|Vi...   \n",
       "1  Tom Hardy|Charlize Theron|Hugh Keays-Byrne|Nic...   \n",
       "2  Shailene Woodley|Theo James|Kate Winslet|Ansel...   \n",
       "3  Harrison Ford|Mark Hamill|Carrie Fisher|Adam D...   \n",
       "4  Vin Diesel|Paul Walker|Jason Statham|Michelle ...   \n",
       "\n",
       "                                        Homepage URL          Director  \\\n",
       "0                      http://www.jurassicworld.com/   Colin Trevorrow   \n",
       "1                        http://www.madmaxmovie.com/     George Miller   \n",
       "2     http://www.thedivergentseries.movie/#insurgent  Robert Schwentke   \n",
       "3  http://www.starwars.com/films/star-wars-episod...       J.J. Abrams   \n",
       "4                           http://www.furious7.com/         James Wan   \n",
       "\n",
       "                        Tag line  ... Run time  \\\n",
       "0              The park is open.  ...    124.0   \n",
       "1             What a Lovely Day.  ...    120.0   \n",
       "2     One Choice Can Destroy You  ...    119.0   \n",
       "3  Every generation has a story.  ...    136.0   \n",
       "4            Vengeance Hits Home  ...    137.0   \n",
       "\n",
       "                                      Genres  \\\n",
       "0  Action|Adventure|Science Fiction|Thriller   \n",
       "1  Action|Adventure|Science Fiction|Thriller   \n",
       "2         Adventure|Science Fiction|Thriller   \n",
       "3   Action|Adventure|Science Fiction|Fantasy   \n",
       "4                      Action|Crime|Thriller   \n",
       "\n",
       "                                Production companies Release date Vote count  \\\n",
       "0  Universal Studios|Amblin Entertainment|Legenda...   2015-06-09     5560.0   \n",
       "1  Village Roadshow Pictures|Kennedy Miller Produ...   2015-05-13     6184.0   \n",
       "2  Summit Entertainment|Mandeville Films|Red Wago...   2015-03-18     2480.0   \n",
       "3          Lucasfilm|Truenorth Productions|Bad Robot   2015-12-15     5292.0   \n",
       "4  Universal Pictures|Original Film|Media Rights ...   2015-04-01     2948.0   \n",
       "\n",
       "  Vote average  Release year  Budget adjusted  Revenue adjusted   Budget adj  \n",
       "0     6.500000          2015     1.379999e+08      1.392446e+09  137999936.0  \n",
       "1     7.101562          2015     1.379999e+08      3.481613e+08  137999936.0  \n",
       "2     6.300781          2015     1.012000e+08      2.716190e+08  101199952.0  \n",
       "3     7.500000          2015     1.839999e+08      1.902723e+09  183999920.0  \n",
       "4     7.300781          2015     1.747999e+08      1.385749e+09  174799920.0  \n",
       "\n",
       "[5 rows x 22 columns]"
      ]
     },
     "execution_count": 283,
     "metadata": {},
     "output_type": "execute_result"
    }
   ],
   "source": [
    "Dataframe.head()"
   ]
  },
  {
   "cell_type": "markdown",
   "id": "dd46e0b7-509a-4ab5-86cf-057941fdc41e",
   "metadata": {},
   "source": [
    "## Most popular movie? "
   ]
  },
  {
   "cell_type": "code",
   "execution_count": 285,
   "id": "bd5b12d3-0bca-4d5e-9e44-25c565f1a548",
   "metadata": {},
   "outputs": [
    {
     "name": "stdout",
     "output_type": "stream",
     "text": [
      "ID                                                               135397.0\n",
      "IMDB ID                                                          369610.0\n",
      "Popularity                                                           33.0\n",
      "Budget                                                          150000000\n",
      "Revenue                                                      1513528832.0\n",
      "Original title                                             Jurassic World\n",
      "Cast                    Chris Pratt|Bryce Dallas Howard|Irrfan Khan|Vi...\n",
      "Homepage URL                                http://www.jurassicworld.com/\n",
      "Director                                                  Colin Trevorrow\n",
      "Tag line                                                The park is open.\n",
      "Keywords                monster|dna|tyrannosaurus rex|velociraptor|island\n",
      "Overview                Twenty-two years after the events of Jurassic ...\n",
      "Run time                                                            124.0\n",
      "Genres                          Action|Adventure|Science Fiction|Thriller\n",
      "Production companies    Universal Studios|Amblin Entertainment|Legenda...\n",
      "Release date                                          2015-06-09 00:00:00\n",
      "Vote count                                                         5560.0\n",
      "Vote average                                                          6.5\n",
      "Release year                                                         2015\n",
      "Budget adjusted                                          137999939.280026\n",
      "Revenue adjusted                                          1392445892.5238\n",
      "Budget adj                                                    137999936.0\n",
      "Name: 0, dtype: object\n"
     ]
    }
   ],
   "source": [
    "# Inspecting the row that contains the highest Popularity\n",
    "popular_column = Dataframe.loc[Dataframe['Popularity'].idxmax()]\n",
    "print(popular_column)"
   ]
  },
  {
   "cell_type": "code",
   "execution_count": 286,
   "id": "9eac0035-a925-4d42-b0e0-4d41240c3e3b",
   "metadata": {},
   "outputs": [],
   "source": [
    "# Storing a feature in a variable\n",
    "Mostpopular_cost = popular_column['Budget']"
   ]
  },
  {
   "cell_type": "markdown",
   "id": "df8f8134-ff61-4c39-88da-0248884c4859",
   "metadata": {},
   "source": [
    "## Is the most popular film the most expensive? "
   ]
  },
  {
   "cell_type": "code",
   "execution_count": 288,
   "id": "8c105dfb-707b-4824-9d6f-ce09a5f3a98f",
   "metadata": {},
   "outputs": [
    {
     "name": "stdout",
     "output_type": "stream",
     "text": [
      "ID                                                                46528.0\n",
      "IMDB ID                                                         1032751.0\n",
      "Popularity                                                       0.250488\n",
      "Budget                                                          425000000\n",
      "Revenue                                                        11087569.0\n",
      "Original title                                          The Warrior's Way\n",
      "Cast                    Kate Bosworth|Jang Dong-gun|Geoffrey Rush|Dann...\n",
      "Homepage URL                       http://www.iamrogue.com/thewarriorsway\n",
      "Director                                                       Sngmoo Lee\n",
      "Tag line                                          Assassin. Hero. Legend.\n",
      "Keywords                assassin|small town|revenge|deception|super speed\n",
      "Overview                An Asian assassin (Dong-gun Jang) is forced to...\n",
      "Run time                                                            100.0\n",
      "Genres                          Adventure|Fantasy|Action|Western|Thriller\n",
      "Production companies                             Boram Entertainment Inc.\n",
      "Release date                                          2010-12-02 00:00:00\n",
      "Vote count                                                           74.0\n",
      "Vote average                                                     6.398438\n",
      "Release year                                                         2010\n",
      "Budget adjusted                                               425000000.0\n",
      "Revenue adjusted                                               11087569.0\n",
      "Budget adj                                                    425000000.0\n",
      "Name: 2244, dtype: object\n"
     ]
    }
   ],
   "source": [
    "# Inspecting the row that contains the most expensive film\n",
    "Max = Dataframe.loc[Dataframe['Budget'].idxmax()]\n",
    "print(Max) "
   ]
  },
  {
   "cell_type": "code",
   "execution_count": 289,
   "id": "d285316e-d2ee-4acf-bb51-755a7f15237e",
   "metadata": {},
   "outputs": [],
   "source": [
    "# Storing a feature in a variable\n",
    "Highestfilm_cost = Max['Budget']"
   ]
  },
  {
   "cell_type": "code",
   "execution_count": 290,
   "id": "d1a0f09c-db4b-4f16-b241-5c1356e08b77",
   "metadata": {},
   "outputs": [
    {
     "name": "stdout",
     "output_type": "stream",
     "text": [
      "Is the most popular film the most expensive?\n",
      "No\n"
     ]
    }
   ],
   "source": [
    "print(\"Is the most popular film the most expensive?\")\n",
    "if(Mostpopular_cost > Highestfilm_cost): \n",
    "    print(\"Yes\")\n",
    "else:\n",
    "    print(\"No\")      "
   ]
  },
  {
   "cell_type": "markdown",
   "id": "2307a02d-260e-4859-9cc0-4e38c12f02aa",
   "metadata": {},
   "source": [
    "Answer: <br>\n",
    "    The most popular film is not the most expensive. "
   ]
  },
  {
   "cell_type": "code",
   "execution_count": 292,
   "id": "c6f2060b-a8ab-4979-856e-a37ad8bee014",
   "metadata": {},
   "outputs": [],
   "source": [
    "Mostpopular_Revenue = popular_column['Revenue']\n",
    "Highestfilm_Revenue= Max['Budget']"
   ]
  },
  {
   "cell_type": "code",
   "execution_count": 293,
   "id": "e6ed0a82-6765-410c-990d-00c47671c104",
   "metadata": {},
   "outputs": [
    {
     "name": "stdout",
     "output_type": "stream",
     "text": [
      "Is the most popular film is the highest revenue. \n",
      "Yes\n"
     ]
    }
   ],
   "source": [
    "print(\"Is the most popular film is the highest revenue. \")\n",
    "if(Mostpopular_Revenue > Highestfilm_Revenue): \n",
    "    print(\"Yes\")\n",
    "else:\n",
    "    print(\"No\")      "
   ]
  },
  {
   "cell_type": "markdown",
   "id": "46cba250-e796-4ec3-bda8-2f4ec92859c2",
   "metadata": {},
   "source": [
    "Answer:<br>\n",
    "The most popular film is the highest revenue. "
   ]
  },
  {
   "cell_type": "code",
   "execution_count": 295,
   "id": "50d6f1ea-4252-434c-b578-29bf6575d9df",
   "metadata": {},
   "outputs": [
    {
     "name": "stdout",
     "output_type": "stream",
     "text": [
      "Director name: Colin Trevorrow\n"
     ]
    }
   ],
   "source": [
    "Mostpopular_Director = popular_column['Director']\n",
    "print(\"Director name: \" + str(Mostpopular_Director))"
   ]
  },
  {
   "cell_type": "code",
   "execution_count": 296,
   "id": "0e257767-3d26-419e-bafb-37277788276c",
   "metadata": {},
   "outputs": [
    {
     "data": {
      "text/html": [
       "<div>\n",
       "<style scoped>\n",
       "    .dataframe tbody tr th:only-of-type {\n",
       "        vertical-align: middle;\n",
       "    }\n",
       "\n",
       "    .dataframe tbody tr th {\n",
       "        vertical-align: top;\n",
       "    }\n",
       "\n",
       "    .dataframe thead th {\n",
       "        text-align: right;\n",
       "    }\n",
       "</style>\n",
       "<table border=\"1\" class=\"dataframe\">\n",
       "  <thead>\n",
       "    <tr style=\"text-align: right;\">\n",
       "      <th></th>\n",
       "      <th>ID</th>\n",
       "      <th>IMDB ID</th>\n",
       "      <th>Popularity</th>\n",
       "      <th>Budget</th>\n",
       "      <th>Revenue</th>\n",
       "      <th>Original title</th>\n",
       "      <th>Cast</th>\n",
       "      <th>Homepage URL</th>\n",
       "      <th>Director</th>\n",
       "      <th>Tag line</th>\n",
       "      <th>...</th>\n",
       "      <th>Run time</th>\n",
       "      <th>Genres</th>\n",
       "      <th>Production companies</th>\n",
       "      <th>Release date</th>\n",
       "      <th>Vote count</th>\n",
       "      <th>Vote average</th>\n",
       "      <th>Release year</th>\n",
       "      <th>Budget adjusted</th>\n",
       "      <th>Revenue adjusted</th>\n",
       "      <th>Budget adj</th>\n",
       "    </tr>\n",
       "  </thead>\n",
       "  <tbody>\n",
       "    <tr>\n",
       "      <th>0</th>\n",
       "      <td>135397.0</td>\n",
       "      <td>369610.0</td>\n",
       "      <td>33.000000</td>\n",
       "      <td>150000000</td>\n",
       "      <td>1.513529e+09</td>\n",
       "      <td>Jurassic World</td>\n",
       "      <td>Chris Pratt|Bryce Dallas Howard|Irrfan Khan|Vi...</td>\n",
       "      <td>http://www.jurassicworld.com/</td>\n",
       "      <td>Colin Trevorrow</td>\n",
       "      <td>The park is open.</td>\n",
       "      <td>...</td>\n",
       "      <td>124.0</td>\n",
       "      <td>Action|Adventure|Science Fiction|Thriller</td>\n",
       "      <td>Universal Studios|Amblin Entertainment|Legenda...</td>\n",
       "      <td>2015-06-09</td>\n",
       "      <td>5560.0</td>\n",
       "      <td>6.500000</td>\n",
       "      <td>2015</td>\n",
       "      <td>1.379999e+08</td>\n",
       "      <td>1.392446e+09</td>\n",
       "      <td>1.379999e+08</td>\n",
       "    </tr>\n",
       "    <tr>\n",
       "      <th>4604</th>\n",
       "      <td>84332.0</td>\n",
       "      <td>1862079.0</td>\n",
       "      <td>0.407959</td>\n",
       "      <td>750000</td>\n",
       "      <td>4.007792e+06</td>\n",
       "      <td>Safety Not Guaranteed</td>\n",
       "      <td>Aubrey Plaza|Mark Duplass|Jake Johnson|Karan S...</td>\n",
       "      <td>nan</td>\n",
       "      <td>Colin Trevorrow</td>\n",
       "      <td>What would you go back for?</td>\n",
       "      <td>...</td>\n",
       "      <td>85.0</td>\n",
       "      <td>Comedy|Romance|Science Fiction|Drama</td>\n",
       "      <td>Duplass Brothers Productions|Big Beach Films</td>\n",
       "      <td>2012-06-08</td>\n",
       "      <td>341.0</td>\n",
       "      <td>6.699219</td>\n",
       "      <td>2012</td>\n",
       "      <td>7.123082e+05</td>\n",
       "      <td>3.806378e+06</td>\n",
       "      <td>7.123082e+05</td>\n",
       "    </tr>\n",
       "  </tbody>\n",
       "</table>\n",
       "<p>2 rows × 22 columns</p>\n",
       "</div>"
      ],
      "text/plain": [
       "            ID    IMDB ID  Popularity     Budget       Revenue  \\\n",
       "0     135397.0   369610.0   33.000000  150000000  1.513529e+09   \n",
       "4604   84332.0  1862079.0    0.407959     750000  4.007792e+06   \n",
       "\n",
       "             Original title  \\\n",
       "0            Jurassic World   \n",
       "4604  Safety Not Guaranteed   \n",
       "\n",
       "                                                   Cast  \\\n",
       "0     Chris Pratt|Bryce Dallas Howard|Irrfan Khan|Vi...   \n",
       "4604  Aubrey Plaza|Mark Duplass|Jake Johnson|Karan S...   \n",
       "\n",
       "                       Homepage URL         Director  \\\n",
       "0     http://www.jurassicworld.com/  Colin Trevorrow   \n",
       "4604                            nan  Colin Trevorrow   \n",
       "\n",
       "                         Tag line  ... Run time  \\\n",
       "0               The park is open.  ...    124.0   \n",
       "4604  What would you go back for?  ...     85.0   \n",
       "\n",
       "                                         Genres  \\\n",
       "0     Action|Adventure|Science Fiction|Thriller   \n",
       "4604       Comedy|Romance|Science Fiction|Drama   \n",
       "\n",
       "                                   Production companies Release date  \\\n",
       "0     Universal Studios|Amblin Entertainment|Legenda...   2015-06-09   \n",
       "4604       Duplass Brothers Productions|Big Beach Films   2012-06-08   \n",
       "\n",
       "     Vote count Vote average  Release year  Budget adjusted  Revenue adjusted  \\\n",
       "0        5560.0     6.500000          2015     1.379999e+08      1.392446e+09   \n",
       "4604      341.0     6.699219          2012     7.123082e+05      3.806378e+06   \n",
       "\n",
       "        Budget adj  \n",
       "0     1.379999e+08  \n",
       "4604  7.123082e+05  \n",
       "\n",
       "[2 rows x 22 columns]"
      ]
     },
     "execution_count": 296,
     "metadata": {},
     "output_type": "execute_result"
    }
   ],
   "source": [
    "Dataframe_Colin_Trevorrow = Dataframe[Dataframe['Director'] == 'Colin Trevorrow']\n",
    "Dataframe_Colin_Trevorrow"
   ]
  },
  {
   "cell_type": "markdown",
   "id": "bbf56df0-4ded-4f74-841d-359153cda575",
   "metadata": {},
   "source": [
    "Films for the same Director have bais in the Revenue and Budget, director does not insure all films to have the highest revenue."
   ]
  },
  {
   "cell_type": "markdown",
   "id": "0d9ae560-24d9-4fdf-81ab-bf375dd233f1",
   "metadata": {},
   "source": [
    "## Is there a relation between Time and Revenue?"
   ]
  },
  {
   "cell_type": "markdown",
   "id": "4e6480ce-363c-4b13-8b1d-5dbf86548c5f",
   "metadata": {},
   "source": [
    "### I am an AI master student in the Arabic American University (^_^)"
   ]
  },
  {
   "cell_type": "code",
   "execution_count": 300,
   "id": "1d2acc77-7ac3-481c-82d8-5944119d99ba",
   "metadata": {},
   "outputs": [
    {
     "name": "stdout",
     "output_type": "stream",
     "text": [
      "Correlation ratio: 0.16283788977127206\n"
     ]
    }
   ],
   "source": [
    "# Checking the correlation betweeen the two features  \n",
    "Correlation_checking = Dataframe['Run time'].corr(Dataframe['Revenue'])\n",
    "print(\"Correlation ratio: \" + str(Correlation_checking))"
   ]
  },
  {
   "cell_type": "markdown",
   "id": "41da79cd-84ed-43de-a3b1-d4c299e872a3",
   "metadata": {},
   "source": [
    "The corolation is positive but week"
   ]
  },
  {
   "cell_type": "code",
   "execution_count": 302,
   "id": "c251b557-3d6e-48cb-a5ff-55fb545af1dc",
   "metadata": {},
   "outputs": [
    {
     "data": {
      "image/png": "[encoded data removed]",
      "text/plain": [
       "<Figure size 800x600 with 2 Axes>"
      ]
     },
     "metadata": {},
     "output_type": "display_data"
    }
   ],
   "source": [
    "corr_matrix = Dataframe[['Run time', 'Revenue']].corr()\n",
    "plt.figure(figsize=(8, 6)) \n",
    "sns.heatmap(corr_matrix, annot=True, cmap='coolwarm', vmin=-1, vmax=1, center=0)\n",
    "\n",
    "plt.title('Correlation Heatmap')\n",
    "plt.show()"
   ]
  },
  {
   "cell_type": "code",
   "execution_count": 303,
   "id": "4d997cb8-3b00-4cab-ab96-7324fdcdf46b",
   "metadata": {},
   "outputs": [
    {
     "name": "stdout",
     "output_type": "stream",
     "text": [
      "<class 'pandas.core.frame.DataFrame'>\n",
      "RangeIndex: 10866 entries, 0 to 10865\n",
      "Data columns (total 22 columns):\n",
      " #   Column                Non-Null Count  Dtype         \n",
      "---  ------                --------------  -----         \n",
      " 0   ID                    10866 non-null  float32       \n",
      " 1   IMDB ID               10856 non-null  float32       \n",
      " 2   Popularity            10866 non-null  float16       \n",
      " 3   Budget                10866 non-null  uint32        \n",
      " 4   Revenue               10866 non-null  float32       \n",
      " 5   Original title        10866 non-null  object        \n",
      " 6   Cast                  10866 non-null  object        \n",
      " 7   Homepage URL          10866 non-null  object        \n",
      " 8   Director              10866 non-null  object        \n",
      " 9   Tag line              10866 non-null  object        \n",
      " 10  Keywords              10866 non-null  object        \n",
      " 11  Overview              10866 non-null  object        \n",
      " 12  Run time              10866 non-null  float16       \n",
      " 13  Genres                10843 non-null  object        \n",
      " 14  Production companies  10866 non-null  object        \n",
      " 15  Release date          10866 non-null  datetime64[ns]\n",
      " 16  Vote count            10866 non-null  float16       \n",
      " 17  Vote average          10866 non-null  float16       \n",
      " 18  Release year          10866 non-null  int16         \n",
      " 19  Budget adjusted       10866 non-null  float64       \n",
      " 20  Revenue adjusted      10866 non-null  float64       \n",
      " 21  Budget adj            10866 non-null  float32       \n",
      "dtypes: datetime64[ns](1), float16(4), float32(4), float64(2), int16(1), object(9), uint32(1)\n",
      "memory usage: 1.3+ MB\n"
     ]
    }
   ],
   "source": [
    "Dataframe.info()"
   ]
  },
  {
   "cell_type": "code",
   "execution_count": 304,
   "id": "db72ac8d-8b64-47b1-b678-1862b8bfe06c",
   "metadata": {},
   "outputs": [
    {
     "data": {
      "text/plain": [
       "(10866, 22)"
      ]
     },
     "execution_count": 304,
     "metadata": {},
     "output_type": "execute_result"
    }
   ],
   "source": [
    "Dataframe.shape"
   ]
  },
  {
   "cell_type": "markdown",
   "id": "0b4e3e96-0419-4218-90ea-149ba51983ef",
   "metadata": {},
   "source": [
    "## Data wrangling"
   ]
  },
  {
   "cell_type": "markdown",
   "id": "fd9901a3-d23a-4483-9701-fa598e1cef0d",
   "metadata": {},
   "source": [
    "The data has some missing values in different columns, the missing data can be handled using different methodologies the fastest one is dropping the null and missing values. But why?\r\n",
    "The data is not consistence in type so the replacement with the mean can't work with string values also the data is not distributed normally in general skewed more to the right side effecting the mean value and possibly result in wrong estimation."
   ]
  },
  {
   "cell_type": "code",
   "execution_count": 307,
   "id": "beab4a30-67a2-4a65-92f6-86b4dbcddaf7",
   "metadata": {},
   "outputs": [
    {
     "name": "stdout",
     "output_type": "stream",
     "text": [
      "Null values in DataFrame after the drop: ID                      0\n",
      "IMDB ID                 0\n",
      "Popularity              0\n",
      "Budget                  0\n",
      "Revenue                 0\n",
      "Original title          0\n",
      "Cast                    0\n",
      "Homepage URL            0\n",
      "Director                0\n",
      "Tag line                0\n",
      "Keywords                0\n",
      "Overview                0\n",
      "Run time                0\n",
      "Genres                  0\n",
      "Production companies    0\n",
      "Release date            0\n",
      "Vote count              0\n",
      "Vote average            0\n",
      "Release year            0\n",
      "Budget adjusted         0\n",
      "Revenue adjusted        0\n",
      "Budget adj              0\n",
      "dtype: int64\n"
     ]
    }
   ],
   "source": [
    "DataFrameNoNull = Dataframe.dropna()\n",
    "print(\"Null values in DataFrame after the drop: \" + str(DataFrameNoNull.isna().sum()))"
   ]
  },
  {
   "cell_type": "markdown",
   "id": "638e83fa-adf4-43b3-b4d1-8a3d15f59b14",
   "metadata": {},
   "source": [
    "Also from the plots a presece of outliers can be found, to clean the data from possible outliers a drop function can be used as following: "
   ]
  },
  {
   "cell_type": "markdown",
   "id": "b54ba775-2b59-4f8a-837d-9c263986c3ce",
   "metadata": {},
   "source": [
    "### Budget "
   ]
  },
  {
   "cell_type": "code",
   "execution_count": 310,
   "id": "0ce709e1-e8d5-4c8f-8c2e-2b022bccc919",
   "metadata": {},
   "outputs": [
    {
     "name": "stdout",
     "output_type": "stream",
     "text": [
      "Mean:  14667546.154960776\n",
      "standard deviation:  30947493.765092593\n",
      "Outliers: \n",
      " 0       150000000\n",
      "1       150000000\n",
      "2       110000000\n",
      "3       200000000\n",
      "4       190000000\n",
      "          ...    \n",
      "8730    120000000\n",
      "8970    140000000\n",
      "8977    120000000\n",
      "8995    140000000\n",
      "8997    130000000\n",
      "Name: Budget, Length: 266, dtype: uint32\n",
      "Number of rows containing outliers: 266\n"
     ]
    }
   ],
   "source": [
    "Mean = DataFrameNoNull['Budget'].mean()\n",
    "STD = DataFrameNoNull['Budget'].std()\n",
    "SeriesOfData = DataFrameNoNull['Budget'].dropna()\n",
    "ZScore = (SeriesOfData- Mean) / STD\n",
    "\n",
    "print(\"Mean: \", Mean)\n",
    "print(\"standard deviation: \",STD)\n",
    "outliers = np.abs(SeriesOfData[abs(ZScore) > 3])\n",
    "print(\"Outliers: \\n\", outliers)\n",
    "\n",
    "NumberOfOutliers = len(outliers)\n",
    "print(\"Number of rows containing outliers:\", NumberOfOutliers)\n",
    "\n",
    "valid_indices = DataFrameNoNull.index.intersection(outliers.index)\n",
    "DataFrameNoNull = DataFrameNoNull[~DataFrameNoNull.index.isin(outliers.index)]"
   ]
  },
  {
   "cell_type": "markdown",
   "id": "f83a565d-8d34-4ac3-9492-2e667b0fea2e",
   "metadata": {},
   "source": [
    "### Revenue  "
   ]
  },
  {
   "cell_type": "code",
   "execution_count": 312,
   "id": "ee98dc52-9af5-4572-b1b3-c72a2a7a0667",
   "metadata": {},
   "outputs": [
    {
     "name": "stdout",
     "output_type": "stream",
     "text": [
      "Mean:  28605096.0\n",
      "standard deviation:  75365536.0\n",
      "Outliers: \n",
      " 8        1.156731e+09\n",
      "16       3.257714e+08\n",
      "18       5.423514e+08\n",
      "23       5.696515e+08\n",
      "27       4.038021e+08\n",
      "             ...     \n",
      "10312    2.666141e+08\n",
      "10475    3.568306e+08\n",
      "10499    3.282035e+08\n",
      "10594    4.413061e+08\n",
      "10758    3.002180e+08\n",
      "Name: Revenue, Length: 227, dtype: float32\n",
      "Number of rows containing outliers: 227\n"
     ]
    }
   ],
   "source": [
    "Mean = DataFrameNoNull['Revenue'].mean()\n",
    "STD = DataFrameNoNull['Revenue'].std()\n",
    "SeriesOfData = DataFrameNoNull['Revenue'].dropna()\n",
    "ZScore = (SeriesOfData- Mean) / STD\n",
    "\n",
    "print(\"Mean: \", Mean)\n",
    "print(\"standard deviation: \",STD)\n",
    "outliers = np.abs(SeriesOfData[abs(ZScore) > 3])\n",
    "print(\"Outliers: \\n\", outliers)\n",
    "\n",
    "NumberOfOutliers = len(outliers)\n",
    "print(\"Number of rows containing outliers:\", NumberOfOutliers)\n",
    "\n",
    "valid_indices = DataFrameNoNull.index.intersection(outliers.index)\n",
    "DataFrameNoNull = DataFrameNoNull[~DataFrameNoNull.index.isin(outliers.index)]"
   ]
  },
  {
   "cell_type": "markdown",
   "id": "4b5bae81-272e-4fe5-bd7d-fd7eee0f7416",
   "metadata": {},
   "source": [
    "### Run time "
   ]
  },
  {
   "cell_type": "code",
   "execution_count": 314,
   "id": "3af94ebe-9ca1-418e-9adc-3395576cf477",
   "metadata": {},
   "outputs": [
    {
     "name": "stdout",
     "output_type": "stream",
     "text": [
      "Mean:  inf\n",
      "standard deviation:  inf\n",
      "Outliers: \n",
      " Series([], Name: Run time, dtype: float16)\n",
      "Number of rows containing outliers: 0\n"
     ]
    },
    {
     "name": "stderr",
     "output_type": "stream",
     "text": [
      "C:\\Users\\Admin\\anaconda3\\Lib\\site-packages\\numpy\\core\\_methods.py:49: RuntimeWarning: overflow encountered in reduce\n",
      "  return umr_sum(a, axis, dtype, out, keepdims, initial, where)\n",
      "C:\\Users\\Admin\\anaconda3\\Lib\\site-packages\\pandas\\core\\nanops.py:1016: RuntimeWarning: overflow encountered in square\n",
      "  sqr = _ensure_numeric((avg - values) ** 2)\n"
     ]
    }
   ],
   "source": [
    "Mean = DataFrameNoNull['Run time'].mean()\n",
    "STD = DataFrameNoNull['Run time'].std()\n",
    "SeriesOfData = DataFrameNoNull['Run time'].dropna()\n",
    "ZScore = (SeriesOfData- Mean) / STD\n",
    "\n",
    "print(\"Mean: \", Mean)\n",
    "print(\"standard deviation: \",STD)\n",
    "outliers = np.abs(SeriesOfData[abs(ZScore) > 3])\n",
    "print(\"Outliers: \\n\", outliers)\n",
    "\n",
    "NumberOfOutliers = len(outliers)\n",
    "print(\"Number of rows containing outliers:\", NumberOfOutliers)\n",
    "\n",
    "valid_indices = DataFrameNoNull.index.intersection(outliers.index)\n",
    "DataFrameNoNull = DataFrameNoNull[~DataFrameNoNull.index.isin(outliers.index)]"
   ]
  },
  {
   "cell_type": "markdown",
   "id": "fbbcd940-9f6f-4e92-b8db-d32112e933db",
   "metadata": {},
   "source": [
    "The data set contains high numbers causing overflow."
   ]
  },
  {
   "cell_type": "markdown",
   "id": "1b8fbb72-a302-4619-a7e2-c31d37e4f6cd",
   "metadata": {},
   "source": [
    "### Vote count "
   ]
  },
  {
   "cell_type": "code",
   "execution_count": 317,
   "id": "deb6faa2-41df-45e9-bc5c-5006989f7b11",
   "metadata": {},
   "outputs": [
    {
     "name": "stdout",
     "output_type": "stream",
     "text": [
      "Mean:  inf\n",
      "standard deviation:  inf\n",
      "Outliers: \n",
      " Series([], Name: Vote count, dtype: float16)\n",
      "Number of rows containing outliers: 0\n"
     ]
    },
    {
     "name": "stderr",
     "output_type": "stream",
     "text": [
      "C:\\Users\\Admin\\anaconda3\\Lib\\site-packages\\numpy\\core\\_methods.py:49: RuntimeWarning: overflow encountered in reduce\n",
      "  return umr_sum(a, axis, dtype, out, keepdims, initial, where)\n",
      "C:\\Users\\Admin\\anaconda3\\Lib\\site-packages\\pandas\\core\\nanops.py:1016: RuntimeWarning: overflow encountered in square\n",
      "  sqr = _ensure_numeric((avg - values) ** 2)\n"
     ]
    }
   ],
   "source": [
    "Mean = DataFrameNoNull['Vote count'].mean()\n",
    "STD = DataFrameNoNull['Vote count'].std()\n",
    "SeriesOfData = DataFrameNoNull['Vote count'].dropna()\n",
    "ZScore = (SeriesOfData- Mean) / STD\n",
    "\n",
    "print(\"Mean: \", Mean)\n",
    "print(\"standard deviation: \",STD)\n",
    "outliers = np.abs(SeriesOfData[abs(ZScore) > 3])\n",
    "print(\"Outliers: \\n\", outliers)\n",
    "\n",
    "NumberOfOutliers = len(outliers)\n",
    "print(\"Number of rows containing outliers:\", NumberOfOutliers)\n",
    "\n",
    "valid_indices = DataFrameNoNull.index.intersection(outliers.index)\n",
    "DataFrameNoNull = DataFrameNoNull[~DataFrameNoNull.index.isin(outliers.index)]"
   ]
  },
  {
   "cell_type": "markdown",
   "id": "6456a74b-266c-4db2-a1a2-23fe95ab9454",
   "metadata": {},
   "source": [
    "The data set contains high numbers causing overflow."
   ]
  },
  {
   "cell_type": "markdown",
   "id": "0482a56f-2501-41b6-9638-105e011e0329",
   "metadata": {},
   "source": [
    "### Budget adjusted "
   ]
  },
  {
   "cell_type": "code",
   "execution_count": 320,
   "id": "bc4b20c2-1049-4e26-b3f1-dda96b129920",
   "metadata": {},
   "outputs": [
    {
     "name": "stdout",
     "output_type": "stream",
     "text": [
      "Mean:  12698596.205430191\n",
      "standard deviation:  23165730.85090406\n",
      "Outliers: \n",
      " 41       8.279996e+07\n",
      "54       9.659996e+07\n",
      "66       9.199996e+07\n",
      "76       9.107996e+07\n",
      "665      8.289819e+07\n",
      "             ...     \n",
      "10665    8.424553e+07\n",
      "10684    1.404092e+08\n",
      "10691    9.688789e+07\n",
      "10716    1.384113e+08\n",
      "10824    1.209243e+08\n",
      "Name: Budget adjusted, Length: 279, dtype: float64\n",
      "Number of rows containing outliers: 279\n"
     ]
    }
   ],
   "source": [
    "Mean = DataFrameNoNull['Budget adjusted'].mean()\n",
    "STD = DataFrameNoNull['Budget adjusted'].std()\n",
    "SeriesOfData = DataFrameNoNull['Budget adjusted'].dropna()\n",
    "ZScore = (SeriesOfData- Mean) / STD\n",
    "\n",
    "print(\"Mean: \", Mean)\n",
    "print(\"standard deviation: \",STD)\n",
    "outliers = np.abs(SeriesOfData[abs(ZScore) > 3])\n",
    "print(\"Outliers: \\n\", outliers)\n",
    "\n",
    "NumberOfOutliers = len(outliers)\n",
    "print(\"Number of rows containing outliers:\", NumberOfOutliers)\n",
    "\n",
    "valid_indices = DataFrameNoNull.index.intersection(outliers.index)\n",
    "DataFrameNoNull = DataFrameNoNull[~DataFrameNoNull.index.isin(outliers.index)]"
   ]
  },
  {
   "cell_type": "markdown",
   "id": "d06b11cf-3fe6-41d2-8003-6bb7e00e5360",
   "metadata": {},
   "source": [
    "### Revenue adjusted  "
   ]
  },
  {
   "cell_type": "code",
   "execution_count": 322,
   "id": "be1f9298-b8b3-4cd0-8ba8-a10ac0b19c3f",
   "metadata": {},
   "outputs": [
    {
     "name": "stdout",
     "output_type": "stream",
     "text": [
      "Mean:  25902116.409990888\n",
      "standard deviation:  68323242.51777005\n",
      "Outliers: \n",
      " 1330     6.671677e+08\n",
      "1331     2.562191e+08\n",
      "1340     8.530813e+08\n",
      "1342     4.559735e+08\n",
      "1381     3.669737e+08\n",
      "             ...     \n",
      "10755    6.077490e+08\n",
      "10756    6.280400e+08\n",
      "10759    2.339890e+08\n",
      "10760    4.713208e+08\n",
      "10819    2.607307e+08\n",
      "Name: Revenue adjusted, Length: 181, dtype: float64\n",
      "Number of rows containing outliers: 181\n"
     ]
    }
   ],
   "source": [
    "Mean = DataFrameNoNull['Revenue adjusted'].mean()\n",
    "STD = DataFrameNoNull['Revenue adjusted'].std()\n",
    "SeriesOfData = DataFrameNoNull['Revenue adjusted'].dropna()\n",
    "ZScore = (SeriesOfData- Mean) / STD\n",
    "\n",
    "print(\"Mean: \", Mean)\n",
    "print(\"standard deviation: \",STD)\n",
    "outliers = np.abs(SeriesOfData[abs(ZScore) > 3])\n",
    "print(\"Outliers: \\n\", outliers)\n",
    "\n",
    "NumberOfOutliers = len(outliers)\n",
    "print(\"Number of rows containing outliers:\", NumberOfOutliers)\n",
    "\n",
    "valid_indices = DataFrameNoNull.index.intersection(outliers.index)\n",
    "DataFrameNoNull = DataFrameNoNull[~DataFrameNoNull.index.isin(outliers.index)]"
   ]
  },
  {
   "cell_type": "code",
   "execution_count": 323,
   "id": "b9bda696-808e-41ef-ba80-9fe441baa479",
   "metadata": {},
   "outputs": [],
   "source": [
    "DataFrameNoNull.drop('Budget adj', axis=1, inplace=True)"
   ]
  },
  {
   "cell_type": "code",
   "execution_count": 324,
   "id": "a2256cef-8b59-463b-bb43-997468336d2f",
   "metadata": {},
   "outputs": [
    {
     "data": {
      "text/plain": [
       "(9882, 21)"
      ]
     },
     "execution_count": 324,
     "metadata": {},
     "output_type": "execute_result"
    }
   ],
   "source": [
    "DataFrameNoNull.shape"
   ]
  },
  {
   "cell_type": "code",
   "execution_count": 325,
   "id": "22ed1295-6ae7-4507-8c5f-3fd5a9bcf8ab",
   "metadata": {},
   "outputs": [
    {
     "name": "stdout",
     "output_type": "stream",
     "text": [
      "<class 'pandas.core.frame.DataFrame'>\n",
      "Index: 9882 entries, 12 to 10865\n",
      "Data columns (total 21 columns):\n",
      " #   Column                Non-Null Count  Dtype         \n",
      "---  ------                --------------  -----         \n",
      " 0   ID                    9882 non-null   float32       \n",
      " 1   IMDB ID               9882 non-null   float32       \n",
      " 2   Popularity            9882 non-null   float16       \n",
      " 3   Budget                9882 non-null   uint32        \n",
      " 4   Revenue               9882 non-null   float32       \n",
      " 5   Original title        9882 non-null   object        \n",
      " 6   Cast                  9882 non-null   object        \n",
      " 7   Homepage URL          9882 non-null   object        \n",
      " 8   Director              9882 non-null   object        \n",
      " 9   Tag line              9882 non-null   object        \n",
      " 10  Keywords              9882 non-null   object        \n",
      " 11  Overview              9882 non-null   object        \n",
      " 12  Run time              9882 non-null   float16       \n",
      " 13  Genres                9882 non-null   object        \n",
      " 14  Production companies  9882 non-null   object        \n",
      " 15  Release date          9882 non-null   datetime64[ns]\n",
      " 16  Vote count            9882 non-null   float16       \n",
      " 17  Vote average          9882 non-null   float16       \n",
      " 18  Release year          9882 non-null   int16         \n",
      " 19  Budget adjusted       9882 non-null   float64       \n",
      " 20  Revenue adjusted      9882 non-null   float64       \n",
      "dtypes: datetime64[ns](1), float16(4), float32(3), float64(2), int16(1), object(9), uint32(1)\n",
      "memory usage: 1.2+ MB\n"
     ]
    }
   ],
   "source": [
    "DataFrameNoNull.info()"
   ]
  },
  {
   "cell_type": "markdown",
   "id": "6da9b267-6010-4f49-8bbc-6459184e0719",
   "metadata": {},
   "source": [
    "## Conclusion:\n",
    "1. High cost does not insure the highest Financial return.\n",
    "2. The dataset contains null values and outliers all been dropped. \n",
    "3. There is a weak positive coloration between movie time Financial return.\n",
    "4. Dataset size reduced from 1.7+ MB to 1.2+ MB.\n",
    "5. The duplication can't be taken as indicator because the data can overlap due to similarity in naming.\n",
    "6. The study used the histogram to understand the distribution of the data to apply early detection of outliers and the heat map to understand the coloration.\n",
    "7. The shape changed from _(10866, 21)_ to _(9882, 21)_"
   ]
  }
 ],
 "metadata": {
  "kernelspec": {
   "display_name": "Python 3 (ipykernel)",
   "language": "python",
   "name": "python3"
  },
  "language_info": {
   "codemirror_mode": {
    "name": "ipython",
    "version": 3
   },
   "file_extension": ".py",
   "mimetype": "text/x-python",
   "name": "python",
   "nbconvert_exporter": "python",
   "pygments_lexer": "ipython3",
   "version": "3.12.4"
  }
 },
 "nbformat": 4,
 "nbformat_minor": 5
}
