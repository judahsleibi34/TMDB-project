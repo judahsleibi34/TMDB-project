{
 "cells": [
  {
   "cell_type": "markdown",
   "id": "e22f1975-d183-4986-aca1-705f71fa9d30",
   "metadata": {},
   "source": [
    "# TMDB Dataset Investigation -Judah Sleibi "
   ]
  },
  {
   "cell_type": "markdown",
   "id": "ff271ed2-16f8-453b-b28c-72cd677b304f",
   "metadata": {},
   "source": [
    "## Importing used libraries: "
   ]
  },
  {
   "cell_type": "code",
   "execution_count": 3,
   "id": "1e41a97d-1f8f-4c22-8779-15994fd40f5e",
   "metadata": {},
   "outputs": [],
   "source": [
    "import pandas as pd\n",
    "import numpy as np\n",
    "import json\n",
    "import matplotlib.pyplot as plt\n",
    "import missingno as misgo\n",
    "import seaborn as sns"
   ]
  },
  {
   "cell_type": "markdown",
   "id": "2ed09cc6-0d05-4b0f-aa2e-7bbacc4c7c3d",
   "metadata": {},
   "source": [
    "## Dataset reading: "
   ]
  },
  {
   "cell_type": "code",
   "execution_count": 5,
   "id": "4ca4940d-228d-4240-8531-c968f1138eec",
   "metadata": {},
   "outputs": [
    {
     "data": {
      "text/html": [
       "<div>\n",
       "<style scoped>\n",
       "    .dataframe tbody tr th:only-of-type {\n",
       "        vertical-align: middle;\n",
       "    }\n",
       "\n",
       "    .dataframe tbody tr th {\n",
       "        vertical-align: top;\n",
       "    }\n",
       "\n",
       "    .dataframe thead th {\n",
       "        text-align: right;\n",
       "    }\n",
       "</style>\n",
       "<table border=\"1\" class=\"dataframe\">\n",
       "  <thead>\n",
       "    <tr style=\"text-align: right;\">\n",
       "      <th></th>\n",
       "      <th>id</th>\n",
       "      <th>imdb_id</th>\n",
       "      <th>popularity</th>\n",
       "      <th>budget</th>\n",
       "      <th>revenue</th>\n",
       "      <th>original_title</th>\n",
       "      <th>cast</th>\n",
       "      <th>homepage</th>\n",
       "      <th>director</th>\n",
       "      <th>tagline</th>\n",
       "      <th>...</th>\n",
       "      <th>overview</th>\n",
       "      <th>runtime</th>\n",
       "      <th>genres</th>\n",
       "      <th>production_companies</th>\n",
       "      <th>release_date</th>\n",
       "      <th>vote_count</th>\n",
       "      <th>vote_average</th>\n",
       "      <th>release_year</th>\n",
       "      <th>budget_adj</th>\n",
       "      <th>revenue_adj</th>\n",
       "    </tr>\n",
       "  </thead>\n",
       "  <tbody>\n",
       "    <tr>\n",
       "      <th>0</th>\n",
       "      <td>135397</td>\n",
       "      <td>tt0369610</td>\n",
       "      <td>32.985763</td>\n",
       "      <td>150000000</td>\n",
       "      <td>1513528810</td>\n",
       "      <td>Jurassic World</td>\n",
       "      <td>Chris Pratt|Bryce Dallas Howard|Irrfan Khan|Vi...</td>\n",
       "      <td>http://www.jurassicworld.com/</td>\n",
       "      <td>Colin Trevorrow</td>\n",
       "      <td>The park is open.</td>\n",
       "      <td>...</td>\n",
       "      <td>Twenty-two years after the events of Jurassic ...</td>\n",
       "      <td>124</td>\n",
       "      <td>Action|Adventure|Science Fiction|Thriller</td>\n",
       "      <td>Universal Studios|Amblin Entertainment|Legenda...</td>\n",
       "      <td>6/9/15</td>\n",
       "      <td>5562</td>\n",
       "      <td>6.5</td>\n",
       "      <td>2015</td>\n",
       "      <td>1.379999e+08</td>\n",
       "      <td>1.392446e+09</td>\n",
       "    </tr>\n",
       "    <tr>\n",
       "      <th>1</th>\n",
       "      <td>76341</td>\n",
       "      <td>tt1392190</td>\n",
       "      <td>28.419936</td>\n",
       "      <td>150000000</td>\n",
       "      <td>378436354</td>\n",
       "      <td>Mad Max: Fury Road</td>\n",
       "      <td>Tom Hardy|Charlize Theron|Hugh Keays-Byrne|Nic...</td>\n",
       "      <td>http://www.madmaxmovie.com/</td>\n",
       "      <td>George Miller</td>\n",
       "      <td>What a Lovely Day.</td>\n",
       "      <td>...</td>\n",
       "      <td>An apocalyptic story set in the furthest reach...</td>\n",
       "      <td>120</td>\n",
       "      <td>Action|Adventure|Science Fiction|Thriller</td>\n",
       "      <td>Village Roadshow Pictures|Kennedy Miller Produ...</td>\n",
       "      <td>5/13/15</td>\n",
       "      <td>6185</td>\n",
       "      <td>7.1</td>\n",
       "      <td>2015</td>\n",
       "      <td>1.379999e+08</td>\n",
       "      <td>3.481613e+08</td>\n",
       "    </tr>\n",
       "    <tr>\n",
       "      <th>2</th>\n",
       "      <td>262500</td>\n",
       "      <td>tt2908446</td>\n",
       "      <td>13.112507</td>\n",
       "      <td>110000000</td>\n",
       "      <td>295238201</td>\n",
       "      <td>Insurgent</td>\n",
       "      <td>Shailene Woodley|Theo James|Kate Winslet|Ansel...</td>\n",
       "      <td>http://www.thedivergentseries.movie/#insurgent</td>\n",
       "      <td>Robert Schwentke</td>\n",
       "      <td>One Choice Can Destroy You</td>\n",
       "      <td>...</td>\n",
       "      <td>Beatrice Prior must confront her inner demons ...</td>\n",
       "      <td>119</td>\n",
       "      <td>Adventure|Science Fiction|Thriller</td>\n",
       "      <td>Summit Entertainment|Mandeville Films|Red Wago...</td>\n",
       "      <td>3/18/15</td>\n",
       "      <td>2480</td>\n",
       "      <td>6.3</td>\n",
       "      <td>2015</td>\n",
       "      <td>1.012000e+08</td>\n",
       "      <td>2.716190e+08</td>\n",
       "    </tr>\n",
       "  </tbody>\n",
       "</table>\n",
       "<p>3 rows × 21 columns</p>\n",
       "</div>"
      ],
      "text/plain": [
       "       id    imdb_id  popularity     budget     revenue      original_title  \\\n",
       "0  135397  tt0369610   32.985763  150000000  1513528810      Jurassic World   \n",
       "1   76341  tt1392190   28.419936  150000000   378436354  Mad Max: Fury Road   \n",
       "2  262500  tt2908446   13.112507  110000000   295238201           Insurgent   \n",
       "\n",
       "                                                cast  \\\n",
       "0  Chris Pratt|Bryce Dallas Howard|Irrfan Khan|Vi...   \n",
       "1  Tom Hardy|Charlize Theron|Hugh Keays-Byrne|Nic...   \n",
       "2  Shailene Woodley|Theo James|Kate Winslet|Ansel...   \n",
       "\n",
       "                                         homepage          director  \\\n",
       "0                   http://www.jurassicworld.com/   Colin Trevorrow   \n",
       "1                     http://www.madmaxmovie.com/     George Miller   \n",
       "2  http://www.thedivergentseries.movie/#insurgent  Robert Schwentke   \n",
       "\n",
       "                      tagline  ...  \\\n",
       "0           The park is open.  ...   \n",
       "1          What a Lovely Day.  ...   \n",
       "2  One Choice Can Destroy You  ...   \n",
       "\n",
       "                                            overview runtime  \\\n",
       "0  Twenty-two years after the events of Jurassic ...     124   \n",
       "1  An apocalyptic story set in the furthest reach...     120   \n",
       "2  Beatrice Prior must confront her inner demons ...     119   \n",
       "\n",
       "                                      genres  \\\n",
       "0  Action|Adventure|Science Fiction|Thriller   \n",
       "1  Action|Adventure|Science Fiction|Thriller   \n",
       "2         Adventure|Science Fiction|Thriller   \n",
       "\n",
       "                                production_companies release_date vote_count  \\\n",
       "0  Universal Studios|Amblin Entertainment|Legenda...       6/9/15       5562   \n",
       "1  Village Roadshow Pictures|Kennedy Miller Produ...      5/13/15       6185   \n",
       "2  Summit Entertainment|Mandeville Films|Red Wago...      3/18/15       2480   \n",
       "\n",
       "   vote_average  release_year    budget_adj   revenue_adj  \n",
       "0           6.5          2015  1.379999e+08  1.392446e+09  \n",
       "1           7.1          2015  1.379999e+08  3.481613e+08  \n",
       "2           6.3          2015  1.012000e+08  2.716190e+08  \n",
       "\n",
       "[3 rows x 21 columns]"
      ]
     },
     "execution_count": 5,
     "metadata": {},
     "output_type": "execute_result"
    }
   ],
   "source": [
    "Dataframe = pd.read_csv('tmdb-movies.csv')\n",
    "Dataframe.head(3)"
   ]
  },
  {
   "cell_type": "markdown",
   "id": "efbe4e14-bfab-42f6-8b84-b7b5183589c7",
   "metadata": {},
   "source": [
    "## Checking dataset entries, null values counts and types:"
   ]
  },
  {
   "cell_type": "code",
   "execution_count": 7,
   "id": "fc697c3b-a5e0-44c7-a601-f5ecbddfaf04",
   "metadata": {},
   "outputs": [
    {
     "name": "stdout",
     "output_type": "stream",
     "text": [
      "<class 'pandas.core.frame.DataFrame'>\n",
      "RangeIndex: 10866 entries, 0 to 10865\n",
      "Data columns (total 21 columns):\n",
      " #   Column                Non-Null Count  Dtype  \n",
      "---  ------                --------------  -----  \n",
      " 0   id                    10866 non-null  int64  \n",
      " 1   imdb_id               10856 non-null  object \n",
      " 2   popularity            10866 non-null  float64\n",
      " 3   budget                10866 non-null  int64  \n",
      " 4   revenue               10866 non-null  int64  \n",
      " 5   original_title        10866 non-null  object \n",
      " 6   cast                  10790 non-null  object \n",
      " 7   homepage              2936 non-null   object \n",
      " 8   director              10822 non-null  object \n",
      " 9   tagline               8042 non-null   object \n",
      " 10  keywords              9373 non-null   object \n",
      " 11  overview              10862 non-null  object \n",
      " 12  runtime               10866 non-null  int64  \n",
      " 13  genres                10843 non-null  object \n",
      " 14  production_companies  9836 non-null   object \n",
      " 15  release_date          10866 non-null  object \n",
      " 16  vote_count            10866 non-null  int64  \n",
      " 17  vote_average          10866 non-null  float64\n",
      " 18  release_year          10866 non-null  int64  \n",
      " 19  budget_adj            10866 non-null  float64\n",
      " 20  revenue_adj           10866 non-null  float64\n",
      "dtypes: float64(4), int64(6), object(11)\n",
      "memory usage: 1.7+ MB\n"
     ]
    }
   ],
   "source": [
    "Dataframe.info()"
   ]
  },
  {
   "cell_type": "code",
   "execution_count": 8,
   "id": "1649482c-2961-4499-8482-3d28094469da",
   "metadata": {},
   "outputs": [
    {
     "data": {
      "image/png": "[encoded data removed]",
      "text/plain": [
       "<Figure size 2500x1000 with 3 Axes>"
      ]
     },
     "metadata": {},
     "output_type": "display_data"
    }
   ],
   "source": [
    "misgo.bar(Dataframe, color='#01394c')\n",
    "plt.tight_layout()"
   ]
  },
  {
   "cell_type": "markdown",
   "id": "3ec54380-1aef-4cb1-92ed-bb89a57fe727",
   "metadata": {},
   "source": [
    "### id column: "
   ]
  },
  {
   "cell_type": "markdown",
   "id": "f720fcda-f238-4bb8-a109-454775d2fa12",
   "metadata": {},
   "source": [
    "Starting with renaming the column name. "
   ]
  },
  {
   "cell_type": "code",
   "execution_count": 11,
   "id": "00a575c5-e7dc-4bc1-b21f-1a9e67272f3d",
   "metadata": {},
   "outputs": [],
   "source": [
    "Dataframe.rename(columns={'id': 'ID'}, inplace=True)"
   ]
  },
  {
   "cell_type": "markdown",
   "id": "614b3414-60e5-47c8-8bec-148dff57053a",
   "metadata": {},
   "source": [
    "Inspecting the first five rows of the column: "
   ]
  },
  {
   "cell_type": "code",
   "execution_count": 13,
   "id": "5de3cd2d-c6bb-412f-a649-08c3374cb994",
   "metadata": {},
   "outputs": [
    {
     "data": {
      "text/plain": [
       "0    135397\n",
       "1     76341\n",
       "2    262500\n",
       "3    140607\n",
       "4    168259\n",
       "Name: ID, dtype: int64"
      ]
     },
     "execution_count": 13,
     "metadata": {},
     "output_type": "execute_result"
    }
   ],
   "source": [
    "Dataframe['ID'].head(5)"
   ]
  },
  {
   "cell_type": "code",
   "execution_count": 14,
   "id": "6e5ea362-90f0-4d81-8d64-b2f890cccf28",
   "metadata": {},
   "outputs": [
    {
     "data": {
      "text/plain": [
       "count     10866.000000\n",
       "mean      66064.177434\n",
       "std       92130.136561\n",
       "min           5.000000\n",
       "25%       10596.250000\n",
       "50%       20669.000000\n",
       "75%       75610.000000\n",
       "max      417859.000000\n",
       "Name: ID, dtype: float64"
      ]
     },
     "execution_count": 14,
     "metadata": {},
     "output_type": "execute_result"
    }
   ],
   "source": [
    "Dataframe['ID'].describe()"
   ]
  },
  {
   "cell_type": "markdown",
   "id": "7b0aed48-5f77-4b99-b834-f0d60dd0bbb3",
   "metadata": {},
   "source": [
    "The maximum value of Budget column is **417859.000000** which is smaller than 2^32 **429 496 7296**, so instead of using the float64 for storing we can use float32 minimizing the memory storage.   "
   ]
  },
  {
   "cell_type": "code",
   "execution_count": 16,
   "id": "8ae915d0-4c3c-46c0-b24a-1d4c809bdd25",
   "metadata": {},
   "outputs": [],
   "source": [
    "Dataframe['ID'] = Dataframe['ID'].astype('float32')"
   ]
  },
  {
   "cell_type": "markdown",
   "id": "7b451be1-7450-49b9-bc41-bf43b1a105b8",
   "metadata": {},
   "source": [
    "Checking for null or missing values:"
   ]
  },
  {
   "cell_type": "code",
   "execution_count": 18,
   "id": "42bb5c1c-9aa3-45ac-b5b5-7e781bd6d428",
   "metadata": {},
   "outputs": [
    {
     "name": "stdout",
     "output_type": "stream",
     "text": [
      "Number of null values: 0\n"
     ]
    }
   ],
   "source": [
    "print(\"Number of null values: \" +str(Dataframe['ID'].isna().sum()))"
   ]
  },
  {
   "cell_type": "markdown",
   "id": "6e668c0b-f2d4-4649-964e-5eaac028bcf3",
   "metadata": {},
   "source": [
    "Plotting the data as histogram to observe the distribution: "
   ]
  },
  {
   "cell_type": "code",
   "execution_count": 20,
   "id": "5929a07f-2c7d-4f13-b1bf-e9b0c93504a0",
   "metadata": {},
   "outputs": [
    {
     "data": {
      "image/png": "[encoded data removed]",
      "text/plain": [
       "<Figure size 1000x700 with 1 Axes>"
      ]
     },
     "metadata": {},
     "output_type": "display_data"
    }
   ],
   "source": [
    "plt.figure(figsize=(10, 7))\n",
    "plt.hist(Dataframe['ID'], color = '#01394c')\n",
    "plt.title('Histogram of ID Data')\n",
    "plt.xlabel('ID')  \n",
    "plt.ylabel('Frequency')  \n",
    "plt.show()"
   ]
  },
  {
   "cell_type": "markdown",
   "id": "9b089c7a-117c-4d21-9d3e-0f569cdea5ba",
   "metadata": {},
   "source": [
    "### imdb_id column: "
   ]
  },
  {
   "cell_type": "code",
   "execution_count": 22,
   "id": "f10e4149-914f-4a03-9a2e-6505661de160",
   "metadata": {},
   "outputs": [],
   "source": [
    "Dataframe.rename(columns={'imdb_id': 'IMDB ID'}, inplace=True)"
   ]
  },
  {
   "cell_type": "markdown",
   "id": "99cca445-e4f8-4a49-b054-902670f925dd",
   "metadata": {},
   "source": [
    "Inspecting the first five rows of the column: "
   ]
  },
  {
   "cell_type": "code",
   "execution_count": 24,
   "id": "6224348e-e335-4789-a73a-bba970eb21db",
   "metadata": {},
   "outputs": [
    {
     "data": {
      "text/plain": [
       "0    tt0369610\n",
       "1    tt1392190\n",
       "2    tt2908446\n",
       "3    tt2488496\n",
       "4    tt2820852\n",
       "Name: IMDB ID, dtype: object"
      ]
     },
     "execution_count": 24,
     "metadata": {},
     "output_type": "execute_result"
    }
   ],
   "source": [
    "Dataframe['IMDB ID'].head(5)"
   ]
  },
  {
   "cell_type": "markdown",
   "id": "ab33c5bf-a36c-4e70-917f-f4a85625662f",
   "metadata": {},
   "source": [
    "Extracting numbers from the invalid data"
   ]
  },
  {
   "cell_type": "code",
   "execution_count": 26,
   "id": "0c62474d-fbc9-4412-89d9-004cfcbb4b1a",
   "metadata": {},
   "outputs": [],
   "source": [
    "Dataframe['IMDB ID'] = Dataframe['IMDB ID'].str.extract(r'(\\d+)')"
   ]
  },
  {
   "cell_type": "markdown",
   "id": "c8aee558-876d-4ef3-b181-0cd06f461845",
   "metadata": {},
   "source": [
    "Inspecting the first five rows of the column: "
   ]
  },
  {
   "cell_type": "code",
   "execution_count": 28,
   "id": "99309c52-200b-4789-b940-43e3d8a93016",
   "metadata": {},
   "outputs": [
    {
     "data": {
      "text/plain": [
       "0    0369610\n",
       "1    1392190\n",
       "2    2908446\n",
       "3    2488496\n",
       "4    2820852\n",
       "Name: IMDB ID, dtype: object"
      ]
     },
     "execution_count": 28,
     "metadata": {},
     "output_type": "execute_result"
    }
   ],
   "source": [
    "Dataframe['IMDB ID'].head(5)"
   ]
  },
  {
   "cell_type": "code",
   "execution_count": 29,
   "id": "233d6d62-c9ea-4d47-86b7-32594aeaf518",
   "metadata": {},
   "outputs": [],
   "source": [
    "Dataframe['IMDB ID'] = Dataframe['IMDB ID'].astype('float64')"
   ]
  },
  {
   "cell_type": "code",
   "execution_count": 30,
   "id": "48db6bc6-94ba-4413-953e-533a1768f0ef",
   "metadata": {},
   "outputs": [
    {
     "data": {
      "text/plain": [
       "count    1.085600e+04\n",
       "mean     9.414629e+05\n",
       "std      1.042664e+06\n",
       "min      3.542300e+04\n",
       "25%      1.126902e+05\n",
       "50%      4.200355e+05\n",
       "75%      1.558814e+06\n",
       "max      6.019206e+06\n",
       "Name: IMDB ID, dtype: float64"
      ]
     },
     "execution_count": 30,
     "metadata": {},
     "output_type": "execute_result"
    }
   ],
   "source": [
    "Dataframe['IMDB ID'].describe()"
   ]
  },
  {
   "cell_type": "markdown",
   "id": "34a22add-792e-4332-b880-43a5dd0b1e84",
   "metadata": {},
   "source": [
    "The maximum value of IMDB ID column is **6019206** which is smaller than 2^32 **429 496 7296**, so instead of using the float64 for storing we can use float32 minimizing the memory storage.   "
   ]
  },
  {
   "cell_type": "code",
   "execution_count": 32,
   "id": "a07d045b-6efd-4440-a491-d7e5cebf1424",
   "metadata": {},
   "outputs": [],
   "source": [
    "Dataframe['IMDB ID'] = Dataframe['IMDB ID'].astype('float32')"
   ]
  },
  {
   "cell_type": "markdown",
   "id": "1a40a0ba-fa1e-4b2f-b4f4-291905031392",
   "metadata": {},
   "source": [
    "Checking for null or missing values:"
   ]
  },
  {
   "cell_type": "code",
   "execution_count": 34,
   "id": "3bbb2e08-6d3f-4ab4-a851-e0ea4540ea4e",
   "metadata": {},
   "outputs": [
    {
     "name": "stdout",
     "output_type": "stream",
     "text": [
      "Number of null values: 10\n"
     ]
    }
   ],
   "source": [
    "print(\"Number of null values: \" +str(Dataframe['IMDB ID'].isna().sum()))"
   ]
  },
  {
   "cell_type": "markdown",
   "id": "bb233dc3-26f0-4781-9afd-15a512bdd80d",
   "metadata": {},
   "source": [
    "Plotting the data as histogram to observe the distribution: "
   ]
  },
  {
   "cell_type": "code",
   "execution_count": 36,
   "id": "42b908ab-cd5e-4137-ab8d-70ee77008538",
   "metadata": {},
   "outputs": [
    {
     "data": {
      "image/png": "[encoded data removed]",
      "text/plain": [
       "<Figure size 1000x700 with 1 Axes>"
      ]
     },
     "metadata": {},
     "output_type": "display_data"
    }
   ],
   "source": [
    "plt.figure(figsize=(10, 7))\n",
    "plt.hist(Dataframe['IMDB ID'], color = '#01394c')\n",
    "plt.title('Histogram of IMDB ID Data')\n",
    "plt.xlabel('IMDB ID')  \n",
    "plt.ylabel('Frequency')  \n",
    "plt.show()"
   ]
  },
  {
   "cell_type": "markdown",
   "id": "36215f30-c4d7-44c6-b99e-14fe1a111aa2",
   "metadata": {},
   "source": [
    "## popularity column: "
   ]
  },
  {
   "cell_type": "code",
   "execution_count": 38,
   "id": "e7ae830a-fba6-4217-a43c-6f1f24396675",
   "metadata": {},
   "outputs": [],
   "source": [
    "Dataframe.rename(columns={'popularity': 'Popularity'}, inplace=True)"
   ]
  },
  {
   "cell_type": "code",
   "execution_count": 39,
   "id": "30244e83-9188-4382-9a83-b806ae2f1435",
   "metadata": {},
   "outputs": [
    {
     "data": {
      "text/plain": [
       "0    32.985763\n",
       "1    28.419936\n",
       "2    13.112507\n",
       "3    11.173104\n",
       "4     9.335014\n",
       "Name: Popularity, dtype: float64"
      ]
     },
     "execution_count": 39,
     "metadata": {},
     "output_type": "execute_result"
    }
   ],
   "source": [
    "Dataframe['Popularity'].head(5)"
   ]
  },
  {
   "cell_type": "code",
   "execution_count": 40,
   "id": "e2b21c9b-67fd-4adc-b09f-31540a4e8776",
   "metadata": {},
   "outputs": [
    {
     "data": {
      "text/plain": [
       "count    10866.000000\n",
       "mean         0.646441\n",
       "std          1.000185\n",
       "min          0.000065\n",
       "25%          0.207583\n",
       "50%          0.383856\n",
       "75%          0.713817\n",
       "max         32.985763\n",
       "Name: Popularity, dtype: float64"
      ]
     },
     "execution_count": 40,
     "metadata": {},
     "output_type": "execute_result"
    }
   ],
   "source": [
    "Dataframe['Popularity'].describe()"
   ]
  },
  {
   "cell_type": "markdown",
   "id": "01d37d4d-6f5f-413c-aef7-ccc251b4ce67",
   "metadata": {},
   "source": [
    "The maximum value of Popularity column is **32.985763** which is smaller than 2^32 **429 496 7296**, so instead of using the float64 for storing we can use float16 minimizing the memory storage.   "
   ]
  },
  {
   "cell_type": "code",
   "execution_count": 42,
   "id": "821371f5-efe3-4418-80a3-b13e2bccf859",
   "metadata": {},
   "outputs": [],
   "source": [
    "Dataframe['Popularity'] = Dataframe['Popularity'].astype('float16')"
   ]
  },
  {
   "cell_type": "markdown",
   "id": "1902c9a1-2b1f-4f38-91c1-7941145e0d7d",
   "metadata": {},
   "source": [
    "Checking for null or missing values:"
   ]
  },
  {
   "cell_type": "code",
   "execution_count": 44,
   "id": "bddf3484-8cc5-4291-adac-c4829aa2c64a",
   "metadata": {},
   "outputs": [
    {
     "name": "stdout",
     "output_type": "stream",
     "text": [
      "Number of null values: 0\n"
     ]
    }
   ],
   "source": [
    "print(\"Number of null values: \" +str(Dataframe['Popularity'].isna().sum()))"
   ]
  },
  {
   "cell_type": "markdown",
   "id": "a40e44cd-cef5-4677-9d89-d9e0c516ad3f",
   "metadata": {},
   "source": [
    "Plotting the data as histogram to observe the distribution: "
   ]
  },
  {
   "cell_type": "code",
   "execution_count": 46,
   "id": "f1609c9d-ba87-4f84-be2f-ca0a6e973ce2",
   "metadata": {},
   "outputs": [
    {
     "data": {
      "image/png": "[encoded data removed]",
      "text/plain": [
       "<Figure size 1000x700 with 1 Axes>"
      ]
     },
     "metadata": {},
     "output_type": "display_data"
    }
   ],
   "source": [
    "plt.figure(figsize=(10, 7))\n",
    "plt.hist(Dataframe['Popularity'], color = '#01394c')\n",
    "plt.title('Histogram of Popularity Data')\n",
    "plt.xlabel('Popularity')  \n",
    "plt.ylabel('Frequency')  \n",
    "plt.show()"
   ]
  },
  {
   "cell_type": "markdown",
   "id": "525f87e3-ecae-4d5d-bc5e-259a24032130",
   "metadata": {},
   "source": [
    "### budget column:"
   ]
  },
  {
   "cell_type": "markdown",
   "id": "50d9aaa6-5024-4370-883b-4d459d70af1d",
   "metadata": {},
   "source": [
    "Starting with renaming the column name. "
   ]
  },
  {
   "cell_type": "code",
   "execution_count": 49,
   "id": "90e52803-1f3d-4061-8194-30af4d365767",
   "metadata": {},
   "outputs": [],
   "source": [
    "Dataframe.rename(columns={'budget': 'Budget'}, inplace=True)"
   ]
  },
  {
   "cell_type": "markdown",
   "id": "e2ec81e3-9f2b-4431-9503-9de4b3558faa",
   "metadata": {},
   "source": [
    "Inspecting the first five rows of the column: "
   ]
  },
  {
   "cell_type": "code",
   "execution_count": 51,
   "id": "f22ae274-c112-431e-9271-3013f762d9f7",
   "metadata": {},
   "outputs": [
    {
     "data": {
      "text/plain": [
       "0    150000000\n",
       "1    150000000\n",
       "2    110000000\n",
       "3    200000000\n",
       "4    190000000\n",
       "Name: Budget, dtype: int64"
      ]
     },
     "execution_count": 51,
     "metadata": {},
     "output_type": "execute_result"
    }
   ],
   "source": [
    "Dataframe['Budget'].head(5)"
   ]
  },
  {
   "cell_type": "markdown",
   "id": "eebc0dac-cd15-4a09-a94b-4d718df119c4",
   "metadata": {},
   "source": [
    "Creating descriptive statistics about the feature: "
   ]
  },
  {
   "cell_type": "code",
   "execution_count": 53,
   "id": "67b9b814-edcc-4226-aa20-bc4afb2da293",
   "metadata": {},
   "outputs": [
    {
     "data": {
      "text/plain": [
       "count    1.086600e+04\n",
       "mean     1.462570e+07\n",
       "std      3.091321e+07\n",
       "min      0.000000e+00\n",
       "25%      0.000000e+00\n",
       "50%      0.000000e+00\n",
       "75%      1.500000e+07\n",
       "max      4.250000e+08\n",
       "Name: Budget, dtype: float64"
      ]
     },
     "execution_count": 53,
     "metadata": {},
     "output_type": "execute_result"
    }
   ],
   "source": [
    "Dataframe['Budget'].describe()"
   ]
  },
  {
   "cell_type": "markdown",
   "id": "764e4ea2-73a9-4c89-baf1-d8eb67a7d473",
   "metadata": {},
   "source": [
    "The maximum value of Budget column is **425 000 000** which is smaller than 2^32 **429 496 7296**, so instead of using the int64 for storing we can use int32 minimizing the memory storage.   "
   ]
  },
  {
   "cell_type": "code",
   "execution_count": 55,
   "id": "a8b6abe7-0066-460f-8985-635252b732d1",
   "metadata": {},
   "outputs": [],
   "source": [
    "Dataframe['Budget'] = Dataframe['Budget'].astype('uint32')"
   ]
  },
  {
   "cell_type": "markdown",
   "id": "b2e33468-b75a-4249-bd4a-5329f236441a",
   "metadata": {},
   "source": [
    "Checking for null or missing values:"
   ]
  },
  {
   "cell_type": "code",
   "execution_count": 57,
   "id": "ef62e66c-e9be-41de-b61f-009b20a08ec8",
   "metadata": {},
   "outputs": [
    {
     "name": "stdout",
     "output_type": "stream",
     "text": [
      "Number of null values: 0\n"
     ]
    }
   ],
   "source": [
    "print(\"Number of null values: \" +str(Dataframe['Budget'].isna().sum()))"
   ]
  },
  {
   "cell_type": "markdown",
   "id": "43dd2f94-9a91-4f2d-86e2-6a675375c151",
   "metadata": {},
   "source": [
    "Plotting the data as histogram to observe the distribution: "
   ]
  },
  {
   "cell_type": "code",
   "execution_count": 59,
   "id": "6e967529-cbcb-4577-81c0-9edfcf908464",
   "metadata": {},
   "outputs": [
    {
     "data": {
      "image/png": "[encoded data removed]",
      "text/plain": [
       "<Figure size 1000x700 with 1 Axes>"
      ]
     },
     "metadata": {},
     "output_type": "display_data"
    }
   ],
   "source": [
    "plt.figure(figsize=(10, 7))\n",
    "plt.hist(Dataframe['Budget'], color = '#01394c')\n",
    "plt.title('Histogram of Budget Data')\n",
    "plt.xlabel('Budget')  \n",
    "plt.ylabel('Frequency')  \n",
    "plt.show()"
   ]
  },
  {
   "cell_type": "markdown",
   "id": "29dca2e7-6e44-4e45-9f60-b4a7b36888a0",
   "metadata": {},
   "source": [
    "### revenue column: "
   ]
  },
  {
   "cell_type": "markdown",
   "id": "5a318229-c07c-479a-b1bc-4daede2d30b0",
   "metadata": {},
   "source": [
    "Starting with renaming the column."
   ]
  },
  {
   "cell_type": "code",
   "execution_count": 62,
   "id": "e78e4c45-a2c2-42cb-b6c8-747cc2b244f7",
   "metadata": {},
   "outputs": [],
   "source": [
    "Dataframe.rename(columns={'revenue': 'Revenue'}, inplace=True)"
   ]
  },
  {
   "cell_type": "markdown",
   "id": "feab3d3a-a87c-4f77-b9e9-a9c703502bfa",
   "metadata": {},
   "source": [
    "Inspecting the first five rows of the column:"
   ]
  },
  {
   "cell_type": "code",
   "execution_count": 64,
   "id": "54ff9070-d265-403b-b7c9-21b669dc56a7",
   "metadata": {},
   "outputs": [
    {
     "data": {
      "text/plain": [
       "0    1513528810\n",
       "1     378436354\n",
       "2     295238201\n",
       "3    2068178225\n",
       "4    1506249360\n",
       "Name: Revenue, dtype: int64"
      ]
     },
     "execution_count": 64,
     "metadata": {},
     "output_type": "execute_result"
    }
   ],
   "source": [
    "Dataframe['Revenue'].head(5)"
   ]
  },
  {
   "cell_type": "markdown",
   "id": "f79810f8-a80c-4ceb-b037-5472b0a45f2f",
   "metadata": {},
   "source": [
    "Creating descriptive statistics about the feature:"
   ]
  },
  {
   "cell_type": "code",
   "execution_count": 66,
   "id": "8e3d7baf-5744-47f0-9bb3-866994e9a293",
   "metadata": {},
   "outputs": [
    {
     "data": {
      "text/plain": [
       "count    1.086600e+04\n",
       "mean     3.982332e+07\n",
       "std      1.170035e+08\n",
       "min      0.000000e+00\n",
       "25%      0.000000e+00\n",
       "50%      0.000000e+00\n",
       "75%      2.400000e+07\n",
       "max      2.781506e+09\n",
       "Name: Revenue, dtype: float64"
      ]
     },
     "execution_count": 66,
     "metadata": {},
     "output_type": "execute_result"
    }
   ],
   "source": [
    "Dataframe['Revenue'].describe()"
   ]
  },
  {
   "cell_type": "markdown",
   "id": "38fface3-8ccc-4494-983f-1899a3293c46",
   "metadata": {},
   "source": [
    "Checking unique and missing entries: "
   ]
  },
  {
   "cell_type": "code",
   "execution_count": 68,
   "id": "1ef76da4-8263-4478-b827-a07a89215b1f",
   "metadata": {},
   "outputs": [
    {
     "name": "stdout",
     "output_type": "stream",
     "text": [
      "Number of null values: 0\n"
     ]
    }
   ],
   "source": [
    "print(\"Number of null values: \" +str(Dataframe['Revenue'].isna().sum()))"
   ]
  },
  {
   "cell_type": "code",
   "execution_count": 69,
   "id": "7d2e3e76-7634-4a1e-a1f5-bb57feed31a9",
   "metadata": {},
   "outputs": [
    {
     "name": "stdout",
     "output_type": "stream",
     "text": [
      "Unique entries count: 4702\n"
     ]
    }
   ],
   "source": [
    "print(\"Unique entries count: \" + str(len(Dataframe['Revenue'].unique())))"
   ]
  },
  {
   "cell_type": "markdown",
   "id": "b048f9a3-57ad-47b8-b757-63cec119fdc4",
   "metadata": {},
   "source": [
    "The maximum value of Revenue column is **278 1506 000** which is smaller than 2^32 **429 4967 296**, so instead of using the float64 for storing we can use float32 minimizing the memory storage."
   ]
  },
  {
   "cell_type": "code",
   "execution_count": 71,
   "id": "c6934b5b-1ce6-4ba3-b624-b9a97bd5cbf3",
   "metadata": {},
   "outputs": [],
   "source": [
    "Dataframe['Revenue'] = Dataframe['Revenue'].astype('float32')"
   ]
  },
  {
   "cell_type": "markdown",
   "id": "fcece89a-9294-4918-861b-7aef85749845",
   "metadata": {},
   "source": [
    "Plotting the data as histogram to observe the distribution: "
   ]
  },
  {
   "cell_type": "code",
   "execution_count": 73,
   "id": "8af9d8e9-570d-4a5d-be78-893e5d1296cd",
   "metadata": {},
   "outputs": [
    {
     "data": {
      "image/png": "[encoded data removed]",
      "text/plain": [
       "<Figure size 1000x700 with 1 Axes>"
      ]
     },
     "metadata": {},
     "output_type": "display_data"
    }
   ],
   "source": [
    "plt.figure(figsize=(10, 7))\n",
    "plt.hist(Dataframe['Revenue'], color = '#01394c')\n",
    "plt.title('Histogram of Revenue Data')\n",
    "plt.xlabel('Revenue')  \n",
    "plt.ylabel('Frequency')  \n",
    "plt.show()"
   ]
  },
  {
   "cell_type": "markdown",
   "id": "e605556c-8917-4cd6-a61a-210433b1532e",
   "metadata": {},
   "source": [
    "### original_title column: "
   ]
  },
  {
   "cell_type": "markdown",
   "id": "8a31e2e5-6305-4663-99c5-70f5bdd02c2f",
   "metadata": {},
   "source": [
    "Starting with renaming the column."
   ]
  },
  {
   "cell_type": "code",
   "execution_count": 76,
   "id": "ff734704-c881-4ed2-b9b1-ee591b3db345",
   "metadata": {},
   "outputs": [],
   "source": [
    "Dataframe.rename(columns={'original_title': 'Original title'}, inplace=True)"
   ]
  },
  {
   "cell_type": "markdown",
   "id": "fcc111db-76c4-4ff2-ad16-3f4da17d2941",
   "metadata": {},
   "source": [
    "Inspecting the first five rows of the column:"
   ]
  },
  {
   "cell_type": "code",
   "execution_count": 78,
   "id": "573e7ce8-846e-4dca-8a22-fe3579baae2d",
   "metadata": {},
   "outputs": [
    {
     "data": {
      "text/plain": [
       "0                  Jurassic World\n",
       "1              Mad Max: Fury Road\n",
       "2                       Insurgent\n",
       "3    Star Wars: The Force Awakens\n",
       "4                       Furious 7\n",
       "Name: Original title, dtype: object"
      ]
     },
     "execution_count": 78,
     "metadata": {},
     "output_type": "execute_result"
    }
   ],
   "source": [
    "Dataframe['Original title'].head(5)"
   ]
  },
  {
   "cell_type": "markdown",
   "id": "15c5ad18-2502-42e4-b32f-771cc79ddf36",
   "metadata": {},
   "source": [
    "Creating descriptive statistics about the feature:"
   ]
  },
  {
   "cell_type": "code",
   "execution_count": 80,
   "id": "79fe99bb-4375-42ac-8fb3-edaf956b520e",
   "metadata": {},
   "outputs": [
    {
     "data": {
      "text/plain": [
       "count      10866\n",
       "unique     10571\n",
       "top       Hamlet\n",
       "freq           4\n",
       "Name: Original title, dtype: object"
      ]
     },
     "execution_count": 80,
     "metadata": {},
     "output_type": "execute_result"
    }
   ],
   "source": [
    "Dataframe['Original title'].describe()"
   ]
  },
  {
   "cell_type": "markdown",
   "id": "8b18f1c4-eb9d-47b4-8f89-b64cdd9dc289",
   "metadata": {},
   "source": [
    "Checking unique and missing entries: "
   ]
  },
  {
   "cell_type": "code",
   "execution_count": 82,
   "id": "e1be1caa-38a0-4fb8-9cdf-92bedf366f76",
   "metadata": {},
   "outputs": [
    {
     "name": "stdout",
     "output_type": "stream",
     "text": [
      "Number of null values: 0\n"
     ]
    }
   ],
   "source": [
    "print(\"Number of null values: \" +str(Dataframe['Original title'].isna().sum()))"
   ]
  },
  {
   "cell_type": "code",
   "execution_count": 83,
   "id": "57d7a936-0dd6-42a4-9ea4-7a9ff4919611",
   "metadata": {},
   "outputs": [
    {
     "name": "stdout",
     "output_type": "stream",
     "text": [
      "Unique entries count: 10571\n"
     ]
    }
   ],
   "source": [
    "print(\"Unique entries count: \" + str(len(Dataframe['Original title'].unique())))"
   ]
  },
  {
   "cell_type": "code",
   "execution_count": 84,
   "id": "3f951936-1b2f-4b73-971f-dec7fbf854eb",
   "metadata": {},
   "outputs": [],
   "source": [
    "Dataframe['Original title'] = Dataframe['Original title'].astype('str')"
   ]
  },
  {
   "cell_type": "markdown",
   "id": "ed4bcb6b-bfac-4a5c-9462-1d2ccf9e3cbd",
   "metadata": {},
   "source": [
    "### cast column: "
   ]
  },
  {
   "cell_type": "markdown",
   "id": "ad618311-1d8a-4515-a830-4701dfa19d9e",
   "metadata": {},
   "source": [
    "Starting with renaming the column."
   ]
  },
  {
   "cell_type": "code",
   "execution_count": 87,
   "id": "eaf5dfd0-500a-416e-9124-be6ebe0e5500",
   "metadata": {},
   "outputs": [],
   "source": [
    "Dataframe.rename(columns={'cast': 'Cast'}, inplace=True)"
   ]
  },
  {
   "cell_type": "markdown",
   "id": "e88fee1a-8b25-42ed-99fe-99b747eee110",
   "metadata": {},
   "source": [
    "Inspecting the first five rows of the column:"
   ]
  },
  {
   "cell_type": "code",
   "execution_count": 89,
   "id": "57fe2e26-66e6-4417-9805-9c154a668e29",
   "metadata": {},
   "outputs": [
    {
     "data": {
      "text/plain": [
       "0    Chris Pratt|Bryce Dallas Howard|Irrfan Khan|Vi...\n",
       "1    Tom Hardy|Charlize Theron|Hugh Keays-Byrne|Nic...\n",
       "2    Shailene Woodley|Theo James|Kate Winslet|Ansel...\n",
       "3    Harrison Ford|Mark Hamill|Carrie Fisher|Adam D...\n",
       "4    Vin Diesel|Paul Walker|Jason Statham|Michelle ...\n",
       "Name: Cast, dtype: object"
      ]
     },
     "execution_count": 89,
     "metadata": {},
     "output_type": "execute_result"
    }
   ],
   "source": [
    "Dataframe['Cast'].head(5)"
   ]
  },
  {
   "cell_type": "markdown",
   "id": "a1584efd-0c18-4cd1-a6dd-094c7d7084f3",
   "metadata": {},
   "source": [
    "Creating descriptive statistics about the feature:"
   ]
  },
  {
   "cell_type": "code",
   "execution_count": 91,
   "id": "845e125c-d354-482f-9b35-207a1de42686",
   "metadata": {},
   "outputs": [
    {
     "data": {
      "text/plain": [
       "count          10790\n",
       "unique         10719\n",
       "top       Louis C.K.\n",
       "freq               6\n",
       "Name: Cast, dtype: object"
      ]
     },
     "execution_count": 91,
     "metadata": {},
     "output_type": "execute_result"
    }
   ],
   "source": [
    "Dataframe['Cast'].describe()"
   ]
  },
  {
   "cell_type": "markdown",
   "id": "974df4fb-561f-4b85-bac3-80c5268d81f2",
   "metadata": {},
   "source": [
    "Checking unique and missing entries: "
   ]
  },
  {
   "cell_type": "code",
   "execution_count": 93,
   "id": "b259749b-c8f0-4356-96fc-35444b44eedd",
   "metadata": {},
   "outputs": [
    {
     "name": "stdout",
     "output_type": "stream",
     "text": [
      "Number of null values: 76\n"
     ]
    }
   ],
   "source": [
    "print(\"Number of null values: \" +str(Dataframe['Cast'].isna().sum()))"
   ]
  },
  {
   "cell_type": "code",
   "execution_count": 94,
   "id": "3eb8c6ec-b515-487c-aa87-7426c7d268b6",
   "metadata": {},
   "outputs": [
    {
     "name": "stdout",
     "output_type": "stream",
     "text": [
      "Unique entries count: 10720\n"
     ]
    }
   ],
   "source": [
    "print(\"Unique entries count: \" + str(len(Dataframe['Cast'].unique())))"
   ]
  },
  {
   "cell_type": "code",
   "execution_count": 95,
   "id": "aab282ac-07ba-487a-88a3-80ef7f19702f",
   "metadata": {},
   "outputs": [],
   "source": [
    "Dataframe['Cast'] = Dataframe['Cast'].astype('str')"
   ]
  },
  {
   "cell_type": "markdown",
   "id": "45e0c77b-6251-4289-8ec6-37b0ac01a98d",
   "metadata": {},
   "source": [
    "### homepage column: "
   ]
  },
  {
   "cell_type": "markdown",
   "id": "54daf864-5b1a-46f0-a7f4-d82e33d660ec",
   "metadata": {},
   "source": [
    "Starting with renaming the column."
   ]
  },
  {
   "cell_type": "code",
   "execution_count": 98,
   "id": "57fab164-1177-42b3-98b3-39e9d82dae7e",
   "metadata": {},
   "outputs": [],
   "source": [
    "Dataframe.rename(columns={'homepage': 'Homepage URL'}, inplace=True)"
   ]
  },
  {
   "cell_type": "markdown",
   "id": "d43b3728-4cb4-4cce-a231-1df21c6d09cf",
   "metadata": {},
   "source": [
    "Inspecting the first five rows of the column:"
   ]
  },
  {
   "cell_type": "code",
   "execution_count": 100,
   "id": "74ba84c0-e5b7-48d9-83f9-ab9d22849134",
   "metadata": {},
   "outputs": [
    {
     "data": {
      "text/plain": [
       "0                        http://www.jurassicworld.com/\n",
       "1                          http://www.madmaxmovie.com/\n",
       "2       http://www.thedivergentseries.movie/#insurgent\n",
       "3    http://www.starwars.com/films/star-wars-episod...\n",
       "4                             http://www.furious7.com/\n",
       "Name: Homepage URL, dtype: object"
      ]
     },
     "execution_count": 100,
     "metadata": {},
     "output_type": "execute_result"
    }
   ],
   "source": [
    "Dataframe['Homepage URL'].head(5)"
   ]
  },
  {
   "cell_type": "markdown",
   "id": "3c746ca8-4736-4ed1-8c03-9cef9ca7b800",
   "metadata": {},
   "source": [
    "Creating descriptive statistics about the feature:"
   ]
  },
  {
   "cell_type": "code",
   "execution_count": 102,
   "id": "02e6b4c0-a0e2-43ac-a435-fa9590e39c2d",
   "metadata": {},
   "outputs": [
    {
     "data": {
      "text/plain": [
       "count                                 2936\n",
       "unique                                2896\n",
       "top       http://www.thehungergames.movie/\n",
       "freq                                     4\n",
       "Name: Homepage URL, dtype: object"
      ]
     },
     "execution_count": 102,
     "metadata": {},
     "output_type": "execute_result"
    }
   ],
   "source": [
    "Dataframe['Homepage URL'].describe()"
   ]
  },
  {
   "cell_type": "markdown",
   "id": "3f80b9dd-e802-48b5-81fc-8b4a625155e4",
   "metadata": {},
   "source": [
    "Checking unique and missing entries: "
   ]
  },
  {
   "cell_type": "code",
   "execution_count": 104,
   "id": "43981b4a-a6b2-45e2-87ad-f61f1ff1266c",
   "metadata": {},
   "outputs": [
    {
     "name": "stdout",
     "output_type": "stream",
     "text": [
      "Number of null values: 7930\n"
     ]
    }
   ],
   "source": [
    "print(\"Number of null values: \" +str(Dataframe['Homepage URL'].isna().sum()))"
   ]
  },
  {
   "cell_type": "code",
   "execution_count": 105,
   "id": "90b475fb-bc80-4ed1-8d58-2ce58820552a",
   "metadata": {},
   "outputs": [
    {
     "name": "stdout",
     "output_type": "stream",
     "text": [
      "Unique entries count: 2897\n"
     ]
    }
   ],
   "source": [
    "print(\"Unique entries count: \" + str(len(Dataframe['Homepage URL'].unique())))"
   ]
  },
  {
   "cell_type": "code",
   "execution_count": 106,
   "id": "d8d9f917-da98-4dc7-ac60-c36d015a485c",
   "metadata": {},
   "outputs": [],
   "source": [
    "Dataframe['Homepage URL'] = Dataframe['Homepage URL'].astype('str')"
   ]
  },
  {
   "cell_type": "markdown",
   "id": "fa7420a6-ea69-4435-b01f-79f094284135",
   "metadata": {},
   "source": [
    "### director column: "
   ]
  },
  {
   "cell_type": "markdown",
   "id": "781ee5c5-58aa-4c8c-b646-1d9a814a88e9",
   "metadata": {},
   "source": [
    "Starting with renaming the column."
   ]
  },
  {
   "cell_type": "code",
   "execution_count": 109,
   "id": "3368d6a1-6807-420a-98ec-166aa5c252da",
   "metadata": {},
   "outputs": [],
   "source": [
    "Dataframe.rename(columns={'director': 'Director'}, inplace=True)"
   ]
  },
  {
   "cell_type": "markdown",
   "id": "4005a602-53db-4f2e-8ca5-5d455e0e3f78",
   "metadata": {},
   "source": [
    "Inspecting the first five rows of the column:"
   ]
  },
  {
   "cell_type": "code",
   "execution_count": 111,
   "id": "5348fd1d-555a-4628-8829-331b14e8e3dc",
   "metadata": {},
   "outputs": [
    {
     "data": {
      "text/plain": [
       "0     Colin Trevorrow\n",
       "1       George Miller\n",
       "2    Robert Schwentke\n",
       "3         J.J. Abrams\n",
       "4           James Wan\n",
       "Name: Director, dtype: object"
      ]
     },
     "execution_count": 111,
     "metadata": {},
     "output_type": "execute_result"
    }
   ],
   "source": [
    "Dataframe['Director'].head(5)"
   ]
  },
  {
   "cell_type": "markdown",
   "id": "fbd3a744-5745-49ad-8939-a7baf071f878",
   "metadata": {},
   "source": [
    "Creating descriptive statistics about the feature:"
   ]
  },
  {
   "cell_type": "code",
   "execution_count": 113,
   "id": "5f5eb6de-1831-4f88-85de-015e939c1a48",
   "metadata": {},
   "outputs": [
    {
     "data": {
      "text/plain": [
       "count           10822\n",
       "unique           5067\n",
       "top       Woody Allen\n",
       "freq               45\n",
       "Name: Director, dtype: object"
      ]
     },
     "execution_count": 113,
     "metadata": {},
     "output_type": "execute_result"
    }
   ],
   "source": [
    "Dataframe['Director'].describe()"
   ]
  },
  {
   "cell_type": "markdown",
   "id": "4320e149-3a93-4168-831e-f657c9c8d841",
   "metadata": {},
   "source": [
    "Checking unique and missing entries: "
   ]
  },
  {
   "cell_type": "code",
   "execution_count": 115,
   "id": "d13264b7-f04e-42ca-9869-fc148aeb9bbe",
   "metadata": {},
   "outputs": [
    {
     "name": "stdout",
     "output_type": "stream",
     "text": [
      "Number of null values: 44\n"
     ]
    }
   ],
   "source": [
    "print(\"Number of null values: \" +str(Dataframe['Director'].isna().sum()))"
   ]
  },
  {
   "cell_type": "code",
   "execution_count": 116,
   "id": "a043204d-afa0-400e-8e28-4b54541ab564",
   "metadata": {},
   "outputs": [
    {
     "name": "stdout",
     "output_type": "stream",
     "text": [
      "Unique entries count: 5068\n"
     ]
    }
   ],
   "source": [
    "print(\"Unique entries count: \" + str(len(Dataframe['Director'].unique())))"
   ]
  },
  {
   "cell_type": "code",
   "execution_count": 117,
   "id": "8d9e54cc-a5ec-4fcd-a276-02a69d3ec34a",
   "metadata": {},
   "outputs": [],
   "source": [
    "Dataframe['Director'] = Dataframe['Director'].astype('str')"
   ]
  },
  {
   "cell_type": "markdown",
   "id": "215381a5-3bfc-4384-8e8f-d7198e302732",
   "metadata": {},
   "source": [
    "### tagline column: "
   ]
  },
  {
   "cell_type": "markdown",
   "id": "d6796c50-8a88-4b68-941d-dc52941de7d6",
   "metadata": {},
   "source": [
    "Starting with renaming the column."
   ]
  },
  {
   "cell_type": "code",
   "execution_count": 120,
   "id": "12367aa8-f920-44e8-af20-f93cf014b76c",
   "metadata": {},
   "outputs": [],
   "source": [
    "Dataframe.rename(columns={'tagline': 'Tag line'}, inplace=True)"
   ]
  },
  {
   "cell_type": "markdown",
   "id": "01aa20a6-5f4e-47ea-9636-757890476032",
   "metadata": {},
   "source": [
    "Inspecting the first five rows of the column:"
   ]
  },
  {
   "cell_type": "code",
   "execution_count": 122,
   "id": "14abdd47-ae71-474d-9142-0777d639e0e0",
   "metadata": {},
   "outputs": [
    {
     "data": {
      "text/plain": [
       "0                The park is open.\n",
       "1               What a Lovely Day.\n",
       "2       One Choice Can Destroy You\n",
       "3    Every generation has a story.\n",
       "4              Vengeance Hits Home\n",
       "Name: Tag line, dtype: object"
      ]
     },
     "execution_count": 122,
     "metadata": {},
     "output_type": "execute_result"
    }
   ],
   "source": [
    "Dataframe['Tag line'].head(5)"
   ]
  },
  {
   "cell_type": "markdown",
   "id": "c1862792-ea0b-4c29-90c6-ae3121591b80",
   "metadata": {},
   "source": [
    "Creating descriptive statistics about the feature:"
   ]
  },
  {
   "cell_type": "code",
   "execution_count": 124,
   "id": "2f0206fe-0cf6-44bf-a064-5ba0b199607d",
   "metadata": {},
   "outputs": [
    {
     "data": {
      "text/plain": [
       "count                       8042\n",
       "unique                      7997\n",
       "top       Based on a true story.\n",
       "freq                           5\n",
       "Name: Tag line, dtype: object"
      ]
     },
     "execution_count": 124,
     "metadata": {},
     "output_type": "execute_result"
    }
   ],
   "source": [
    "Dataframe['Tag line'].describe()"
   ]
  },
  {
   "cell_type": "markdown",
   "id": "5bc9c784-412c-44da-b61c-20b20500be47",
   "metadata": {},
   "source": [
    "Checking unique and missing entries:"
   ]
  },
  {
   "cell_type": "code",
   "execution_count": 126,
   "id": "e73e12a0-01d9-47c0-a6b2-dab8a41d22ab",
   "metadata": {},
   "outputs": [
    {
     "name": "stdout",
     "output_type": "stream",
     "text": [
      "Number of null values: 2824\n"
     ]
    }
   ],
   "source": [
    "print(\"Number of null values: \" +str(Dataframe['Tag line'].isna().sum()))"
   ]
  },
  {
   "cell_type": "code",
   "execution_count": 127,
   "id": "f2720fbc-149c-455d-9928-b56a22b96358",
   "metadata": {},
   "outputs": [
    {
     "name": "stdout",
     "output_type": "stream",
     "text": [
      "Unique entries count: 7998\n"
     ]
    }
   ],
   "source": [
    "print(\"Unique entries count: \" + str(len(Dataframe['Tag line'].unique())))"
   ]
  },
  {
   "cell_type": "code",
   "execution_count": 128,
   "id": "e4a1ed15-c1f5-4afc-9c9c-0d9d012f4566",
   "metadata": {},
   "outputs": [],
   "source": [
    "Dataframe['Tag line'] = Dataframe['Tag line'].astype('str')"
   ]
  },
  {
   "cell_type": "markdown",
   "id": "0f0272e7-f082-4583-a1c8-e3271cf31cc1",
   "metadata": {},
   "source": [
    "### keywords column:"
   ]
  },
  {
   "cell_type": "markdown",
   "id": "07004cfb-9069-4efd-b89b-ab8f6aafa8ac",
   "metadata": {},
   "source": [
    "Starting with renaming the column."
   ]
  },
  {
   "cell_type": "code",
   "execution_count": 131,
   "id": "83f5a265-ce7f-4df2-b301-edd4b223e06d",
   "metadata": {},
   "outputs": [],
   "source": [
    "Dataframe.rename(columns={'keywords': 'Keywords'}, inplace=True)"
   ]
  },
  {
   "cell_type": "markdown",
   "id": "a6ae2a76-831c-4340-84f1-8dcbdd5b4242",
   "metadata": {},
   "source": [
    "Inspecting the first five rows of the column:"
   ]
  },
  {
   "cell_type": "code",
   "execution_count": 133,
   "id": "4819e8e0-8b8e-4bc9-b514-b90989e3e425",
   "metadata": {},
   "outputs": [
    {
     "data": {
      "text/plain": [
       "0    monster|dna|tyrannosaurus rex|velociraptor|island\n",
       "1     future|chase|post-apocalyptic|dystopia|australia\n",
       "2    based on novel|revolution|dystopia|sequel|dyst...\n",
       "3                android|spaceship|jedi|space opera|3d\n",
       "4                  car race|speed|revenge|suspense|car\n",
       "Name: Keywords, dtype: object"
      ]
     },
     "execution_count": 133,
     "metadata": {},
     "output_type": "execute_result"
    }
   ],
   "source": [
    "Dataframe['Keywords'].head(5)"
   ]
  },
  {
   "cell_type": "markdown",
   "id": "c1e87639-fa7b-4340-a6c6-1b597b2f37ca",
   "metadata": {},
   "source": [
    "Creating descriptive statistics about the feature:"
   ]
  },
  {
   "cell_type": "code",
   "execution_count": 135,
   "id": "38266982-11f9-436f-a9d2-51c0d70c9987",
   "metadata": {},
   "outputs": [
    {
     "data": {
      "text/plain": [
       "count               9373\n",
       "unique              8804\n",
       "top       woman director\n",
       "freq                 134\n",
       "Name: Keywords, dtype: object"
      ]
     },
     "execution_count": 135,
     "metadata": {},
     "output_type": "execute_result"
    }
   ],
   "source": [
    "Dataframe['Keywords'].describe()"
   ]
  },
  {
   "cell_type": "markdown",
   "id": "71738e11-a9ac-4315-94b5-55e60f992241",
   "metadata": {},
   "source": [
    "Checking unique and missing entries: "
   ]
  },
  {
   "cell_type": "code",
   "execution_count": 137,
   "id": "8a146ef5-8c28-4896-bdcd-46f81156f2ca",
   "metadata": {},
   "outputs": [
    {
     "name": "stdout",
     "output_type": "stream",
     "text": [
      "Number of null values: 1493\n"
     ]
    }
   ],
   "source": [
    "print(\"Number of null values: \" +str(Dataframe['Keywords'].isna().sum()))"
   ]
  },
  {
   "cell_type": "code",
   "execution_count": 138,
   "id": "144ca504-d46e-402f-bae2-34afa6ae267b",
   "metadata": {},
   "outputs": [
    {
     "name": "stdout",
     "output_type": "stream",
     "text": [
      "Unique entries count: 8805\n"
     ]
    }
   ],
   "source": [
    "print(\"Unique entries count: \" + str(len(Dataframe['Keywords'].unique())))"
   ]
  },
  {
   "cell_type": "code",
   "execution_count": 139,
   "id": "eb295071-945a-4f28-85ce-56c2b5bbe147",
   "metadata": {},
   "outputs": [],
   "source": [
    "Dataframe['Keywords'] = Dataframe['Keywords'].astype('str')"
   ]
  },
  {
   "cell_type": "markdown",
   "id": "2d021ec0-d45d-4a0e-9806-5a32cb1d294e",
   "metadata": {},
   "source": [
    "### overview column: "
   ]
  },
  {
   "cell_type": "markdown",
   "id": "4394b61a-463b-48ac-86b1-9491c44a3c76",
   "metadata": {},
   "source": [
    "Starting with renaming the column."
   ]
  },
  {
   "cell_type": "code",
   "execution_count": 142,
   "id": "4d81ed28-9559-47a1-bc54-c51d3a80807c",
   "metadata": {},
   "outputs": [],
   "source": [
    "Dataframe.rename(columns={'overview': 'Overview'}, inplace=True)"
   ]
  },
  {
   "cell_type": "markdown",
   "id": "2708b206-6eff-4e95-9931-e07dc9bf85a7",
   "metadata": {},
   "source": [
    "Inspecting the first five rows of the column:"
   ]
  },
  {
   "cell_type": "code",
   "execution_count": 144,
   "id": "9c3a9a19-6fe3-49b9-b31f-7d6834c523b7",
   "metadata": {},
   "outputs": [
    {
     "data": {
      "text/plain": [
       "0    Twenty-two years after the events of Jurassic ...\n",
       "1    An apocalyptic story set in the furthest reach...\n",
       "2    Beatrice Prior must confront her inner demons ...\n",
       "3    Thirty years after defeating the Galactic Empi...\n",
       "4    Deckard Shaw seeks revenge against Dominic Tor...\n",
       "Name: Overview, dtype: object"
      ]
     },
     "execution_count": 144,
     "metadata": {},
     "output_type": "execute_result"
    }
   ],
   "source": [
    "Dataframe['Overview'].head(5)"
   ]
  },
  {
   "cell_type": "markdown",
   "id": "b135aeb3-cae1-404e-9246-0051854c2113",
   "metadata": {},
   "source": [
    "Creating descriptive statistics about the feature:"
   ]
  },
  {
   "cell_type": "code",
   "execution_count": 146,
   "id": "2be4d792-92fd-44e5-a113-252a3a6e87b3",
   "metadata": {},
   "outputs": [
    {
     "data": {
      "text/plain": [
       "count                  10862\n",
       "unique                 10847\n",
       "top       No overview found.\n",
       "freq                      13\n",
       "Name: Overview, dtype: object"
      ]
     },
     "execution_count": 146,
     "metadata": {},
     "output_type": "execute_result"
    }
   ],
   "source": [
    "Dataframe['Overview'].describe()"
   ]
  },
  {
   "cell_type": "markdown",
   "id": "06ade96c-270a-408b-9ec6-c933700829ce",
   "metadata": {},
   "source": [
    "Checking unique and missing entries: "
   ]
  },
  {
   "cell_type": "code",
   "execution_count": 148,
   "id": "a8e36779-9868-48ff-8376-c27fedf64c1c",
   "metadata": {},
   "outputs": [
    {
     "name": "stdout",
     "output_type": "stream",
     "text": [
      "Number of null values: 4\n"
     ]
    }
   ],
   "source": [
    "print(\"Number of null values: \" +str(Dataframe['Overview'].isna().sum()))"
   ]
  },
  {
   "cell_type": "code",
   "execution_count": 149,
   "id": "5c7031d4-5881-4d21-82ca-ed3c1a094144",
   "metadata": {},
   "outputs": [
    {
     "name": "stdout",
     "output_type": "stream",
     "text": [
      "Unique entries count: 10848\n"
     ]
    }
   ],
   "source": [
    "print(\"Unique entries count: \" + str(len(Dataframe['Overview'].unique())))"
   ]
  },
  {
   "cell_type": "code",
   "execution_count": 150,
   "id": "31dd760a-8071-4eb4-bb0c-7c0be22ddffa",
   "metadata": {},
   "outputs": [],
   "source": [
    "Dataframe['Overview'] = Dataframe['Overview'].astype('str')"
   ]
  },
  {
   "cell_type": "markdown",
   "id": "8e6647e6-fb1f-4b3f-a9a5-5419a54c189d",
   "metadata": {},
   "source": [
    "### runtime  column:"
   ]
  },
  {
   "cell_type": "markdown",
   "id": "5b9cbcd9-6040-443b-b0f1-7d7a5121287c",
   "metadata": {},
   "source": [
    "Starting with renaming the column."
   ]
  },
  {
   "cell_type": "code",
   "execution_count": 153,
   "id": "e00a59f1-0d58-475f-9a2a-9a3da75ba97a",
   "metadata": {},
   "outputs": [],
   "source": [
    "Dataframe.rename(columns={'runtime': 'Run time'}, inplace=True)"
   ]
  },
  {
   "cell_type": "markdown",
   "id": "7c0d316b-241d-4667-9a3b-6e5d694ae1c1",
   "metadata": {},
   "source": [
    "Inspecting the first five rows of the column:"
   ]
  },
  {
   "cell_type": "code",
   "execution_count": 155,
   "id": "65cf18c4-8283-4587-8f8b-217e9f7eb80c",
   "metadata": {},
   "outputs": [
    {
     "data": {
      "text/plain": [
       "0    124\n",
       "1    120\n",
       "2    119\n",
       "3    136\n",
       "4    137\n",
       "Name: Run time, dtype: int64"
      ]
     },
     "execution_count": 155,
     "metadata": {},
     "output_type": "execute_result"
    }
   ],
   "source": [
    "Dataframe['Run time'].head(5)"
   ]
  },
  {
   "cell_type": "markdown",
   "id": "276a11a0-85fc-4aaf-a353-feab10ec09ea",
   "metadata": {},
   "source": [
    "Creating descriptive statistics about the feature:"
   ]
  },
  {
   "cell_type": "code",
   "execution_count": 157,
   "id": "e7ae7635-fb4a-474c-ac8e-a2c2a0652739",
   "metadata": {},
   "outputs": [
    {
     "data": {
      "text/plain": [
       "count    10866.000000\n",
       "mean       102.070863\n",
       "std         31.381405\n",
       "min          0.000000\n",
       "25%         90.000000\n",
       "50%         99.000000\n",
       "75%        111.000000\n",
       "max        900.000000\n",
       "Name: Run time, dtype: float64"
      ]
     },
     "execution_count": 157,
     "metadata": {},
     "output_type": "execute_result"
    }
   ],
   "source": [
    "Dataframe['Run time'].describe()"
   ]
  },
  {
   "cell_type": "markdown",
   "id": "b96d66be-488d-442e-a580-61834bfd4ff0",
   "metadata": {},
   "source": [
    "Checking unique and missing entries: "
   ]
  },
  {
   "cell_type": "code",
   "execution_count": 159,
   "id": "c4598239-4109-46a5-bcd8-456cedbe8466",
   "metadata": {},
   "outputs": [
    {
     "name": "stdout",
     "output_type": "stream",
     "text": [
      "Number of null values: 0\n"
     ]
    }
   ],
   "source": [
    "print(\"Number of null values: \" +str(Dataframe['Run time'].isna().sum()))"
   ]
  },
  {
   "cell_type": "code",
   "execution_count": 160,
   "id": "558aee98-d23c-4e98-819f-63725f1322a8",
   "metadata": {},
   "outputs": [
    {
     "name": "stdout",
     "output_type": "stream",
     "text": [
      "Unique entries count: 247\n"
     ]
    }
   ],
   "source": [
    "print(\"Unique entries count: \" + str(len(Dataframe['Run time'].unique())))"
   ]
  },
  {
   "cell_type": "markdown",
   "id": "851a120d-4cdf-4486-b6a6-5093e62a8823",
   "metadata": {},
   "source": [
    "The maximum value of Run time column is **900.000000** which is smaller than 2^32 **429 4967 296**, so instead of using the float64 for storing we can use float16 minimizing the memory storage."
   ]
  },
  {
   "cell_type": "code",
   "execution_count": 162,
   "id": "763baa67-881c-4145-889f-a91f5ec90c76",
   "metadata": {},
   "outputs": [],
   "source": [
    "Dataframe['Run time'] = Dataframe['Run time'].astype('float16')"
   ]
  },
  {
   "cell_type": "code",
   "execution_count": 163,
   "id": "aae223e2-d134-4ed4-86a6-4e00197039c0",
   "metadata": {},
   "outputs": [
    {
     "data": {
      "image/png": "[encoded data removed]",
      "text/plain": [
       "<Figure size 1000x700 with 1 Axes>"
      ]
     },
     "metadata": {},
     "output_type": "display_data"
    }
   ],
   "source": [
    "plt.figure(figsize=(10, 7))\n",
    "plt.hist(Dataframe['Run time'], color = '#01394c')\n",
    "plt.title('Histogram of Run time Data')\n",
    "plt.xlabel('Run time')  \n",
    "plt.ylabel('Frequency')  \n",
    "plt.show()"
   ]
  },
  {
   "cell_type": "markdown",
   "id": "29a63d30-1806-4124-b21a-0b55d1ce5fe6",
   "metadata": {},
   "source": [
    "### genres column: "
   ]
  },
  {
   "cell_type": "markdown",
   "id": "1355b5db-14c4-4c8e-bb38-687251988628",
   "metadata": {},
   "source": [
    "Starting with renaming the column."
   ]
  },
  {
   "cell_type": "code",
   "execution_count": 166,
   "id": "aba936e5-b5ac-48ec-8899-b90c3b9753f3",
   "metadata": {},
   "outputs": [],
   "source": [
    "Dataframe.rename(columns={'genres': 'Genres'}, inplace=True)"
   ]
  },
  {
   "cell_type": "markdown",
   "id": "77afe2b9-690f-448b-9c37-64cf054a9b3f",
   "metadata": {},
   "source": [
    "Inspecting the first five rows of the column:"
   ]
  },
  {
   "cell_type": "code",
   "execution_count": 168,
   "id": "36d25b96-e489-4e47-bb34-35dbb06cb26e",
   "metadata": {},
   "outputs": [
    {
     "data": {
      "text/plain": [
       "0    Action|Adventure|Science Fiction|Thriller\n",
       "1    Action|Adventure|Science Fiction|Thriller\n",
       "2           Adventure|Science Fiction|Thriller\n",
       "3     Action|Adventure|Science Fiction|Fantasy\n",
       "4                        Action|Crime|Thriller\n",
       "Name: Genres, dtype: object"
      ]
     },
     "execution_count": 168,
     "metadata": {},
     "output_type": "execute_result"
    }
   ],
   "source": [
    "Dataframe['Genres'].head(5)"
   ]
  },
  {
   "cell_type": "markdown",
   "id": "c0f32ac4-c846-489d-8b3d-8666534e5c4c",
   "metadata": {},
   "source": [
    "Creating descriptive statistics about the feature:"
   ]
  },
  {
   "cell_type": "code",
   "execution_count": 170,
   "id": "3b44bfdc-a4f6-4c1f-bf6f-5a20887f2c7b",
   "metadata": {},
   "outputs": [
    {
     "data": {
      "text/plain": [
       "count      10843\n",
       "unique      2039\n",
       "top       Comedy\n",
       "freq         712\n",
       "Name: Genres, dtype: object"
      ]
     },
     "execution_count": 170,
     "metadata": {},
     "output_type": "execute_result"
    }
   ],
   "source": [
    "Dataframe['Genres'].describe()"
   ]
  },
  {
   "cell_type": "markdown",
   "id": "1c39580d-8622-4bae-b86f-081069d80a7e",
   "metadata": {},
   "source": [
    "Checking unique and missing entries: "
   ]
  },
  {
   "cell_type": "code",
   "execution_count": 172,
   "id": "e6b10f57-22e1-41bf-a2bd-22c925605f11",
   "metadata": {},
   "outputs": [
    {
     "name": "stdout",
     "output_type": "stream",
     "text": [
      "Number of null values: 23\n"
     ]
    }
   ],
   "source": [
    "print(\"Number of null values: \" +str(Dataframe['Genres'].isna().sum()))"
   ]
  },
  {
   "cell_type": "code",
   "execution_count": 173,
   "id": "1764fb33-0817-49ce-9691-69cc4c56280c",
   "metadata": {},
   "outputs": [
    {
     "name": "stdout",
     "output_type": "stream",
     "text": [
      "Unique entries count: 2040\n"
     ]
    }
   ],
   "source": [
    "print(\"Unique entries count: \" + str(len(Dataframe['Genres'].unique())))"
   ]
  },
  {
   "cell_type": "code",
   "execution_count": 174,
   "id": "fa081018-9e95-4179-90f9-18637902f8ec",
   "metadata": {},
   "outputs": [
    {
     "data": {
      "text/plain": [
       "0        Action|Adventure|Science Fiction|Thriller\n",
       "1        Action|Adventure|Science Fiction|Thriller\n",
       "2               Adventure|Science Fiction|Thriller\n",
       "3         Action|Adventure|Science Fiction|Fantasy\n",
       "4                            Action|Crime|Thriller\n",
       "                           ...                    \n",
       "10861                                  Documentary\n",
       "10862                       Action|Adventure|Drama\n",
       "10863                               Mystery|Comedy\n",
       "10864                                Action|Comedy\n",
       "10865                                       Horror\n",
       "Name: Genres, Length: 10866, dtype: object"
      ]
     },
     "execution_count": 174,
     "metadata": {},
     "output_type": "execute_result"
    }
   ],
   "source": [
    "Dataframe['Genres'].astype('str')"
   ]
  },
  {
   "cell_type": "markdown",
   "id": "78b7af0b-6421-49f0-84f5-70298057db36",
   "metadata": {},
   "source": [
    "### production_companies column: "
   ]
  },
  {
   "cell_type": "markdown",
   "id": "5ac1017b-11c8-49e8-9915-85d727a8e9d2",
   "metadata": {},
   "source": [
    "Starting with renaming the column."
   ]
  },
  {
   "cell_type": "code",
   "execution_count": 177,
   "id": "758dc239-6ee6-4410-9d13-1cb56240825a",
   "metadata": {},
   "outputs": [],
   "source": [
    "Dataframe.rename(columns={'production_companies': 'Production companies'}, inplace=True)"
   ]
  },
  {
   "cell_type": "markdown",
   "id": "2c2c3d8f-86da-44ae-85a7-430a6d13de64",
   "metadata": {},
   "source": [
    "Inspecting the first five rows of the column:"
   ]
  },
  {
   "cell_type": "code",
   "execution_count": 179,
   "id": "cd4795ce-a1f8-454f-9938-121aa1bd6be1",
   "metadata": {},
   "outputs": [
    {
     "data": {
      "text/plain": [
       "0    Universal Studios|Amblin Entertainment|Legenda...\n",
       "1    Village Roadshow Pictures|Kennedy Miller Produ...\n",
       "2    Summit Entertainment|Mandeville Films|Red Wago...\n",
       "3            Lucasfilm|Truenorth Productions|Bad Robot\n",
       "4    Universal Pictures|Original Film|Media Rights ...\n",
       "Name: Production companies, dtype: object"
      ]
     },
     "execution_count": 179,
     "metadata": {},
     "output_type": "execute_result"
    }
   ],
   "source": [
    "Dataframe['Production companies'].head(5)"
   ]
  },
  {
   "cell_type": "markdown",
   "id": "b19c7a6f-ebd5-41cf-b096-050f0f1cb725",
   "metadata": {},
   "source": [
    "Creating descriptive statistics about the feature:"
   ]
  },
  {
   "cell_type": "code",
   "execution_count": 181,
   "id": "ec890dfa-af4e-49d5-aa26-8615c29f450f",
   "metadata": {},
   "outputs": [
    {
     "data": {
      "text/plain": [
       "count                   9836\n",
       "unique                  7445\n",
       "top       Paramount Pictures\n",
       "freq                     156\n",
       "Name: Production companies, dtype: object"
      ]
     },
     "execution_count": 181,
     "metadata": {},
     "output_type": "execute_result"
    }
   ],
   "source": [
    "Dataframe['Production companies'].describe()"
   ]
  },
  {
   "cell_type": "markdown",
   "id": "562ac1b6-4b95-4766-a73d-b9f647ffcc7f",
   "metadata": {},
   "source": [
    "Checking unique and missing entries: "
   ]
  },
  {
   "cell_type": "code",
   "execution_count": 183,
   "id": "ce993cf7-354d-48f0-98dc-5a64b519c05f",
   "metadata": {},
   "outputs": [
    {
     "name": "stdout",
     "output_type": "stream",
     "text": [
      "Number of null values: 1030\n"
     ]
    }
   ],
   "source": [
    "print(\"Number of null values: \" +str(Dataframe['Production companies'].isna().sum()))"
   ]
  },
  {
   "cell_type": "code",
   "execution_count": 184,
   "id": "6e138e18-240d-43cf-b691-186d61554f7f",
   "metadata": {},
   "outputs": [
    {
     "name": "stdout",
     "output_type": "stream",
     "text": [
      "Unique entries count: 7446\n"
     ]
    }
   ],
   "source": [
    "print(\"Unique entries count: \" + str(len(Dataframe['Production companies'].unique())))"
   ]
  },
  {
   "cell_type": "code",
   "execution_count": 185,
   "id": "feb7e075-783b-48be-8f57-cac5a1cb882b",
   "metadata": {},
   "outputs": [],
   "source": [
    "Dataframe['Production companies'] = Dataframe['Production companies'].astype('str')"
   ]
  },
  {
   "cell_type": "markdown",
   "id": "38fea363-3b61-49e2-b4c8-b6d8aa5e0d73",
   "metadata": {},
   "source": [
    "### release_date column: "
   ]
  },
  {
   "cell_type": "markdown",
   "id": "0b2196e5-bd41-40a4-8f23-1f74e4e544a1",
   "metadata": {},
   "source": [
    "Starting with renaming the column."
   ]
  },
  {
   "cell_type": "code",
   "execution_count": 188,
   "id": "a791fbe1-2c9b-4871-a829-5fb57dba7911",
   "metadata": {},
   "outputs": [],
   "source": [
    "Dataframe.rename(columns={'release_date': 'Release date'}, inplace=True)"
   ]
  },
  {
   "cell_type": "markdown",
   "id": "b9311bc3-9954-4f9b-af4f-3209a7571757",
   "metadata": {},
   "source": [
    "Inspecting the first five rows of the column:"
   ]
  },
  {
   "cell_type": "code",
   "execution_count": 190,
   "id": "d77ff138-5b69-4e4b-b6dd-de38e3595079",
   "metadata": {},
   "outputs": [
    {
     "data": {
      "text/plain": [
       "0      6/9/15\n",
       "1     5/13/15\n",
       "2     3/18/15\n",
       "3    12/15/15\n",
       "4      4/1/15\n",
       "Name: Release date, dtype: object"
      ]
     },
     "execution_count": 190,
     "metadata": {},
     "output_type": "execute_result"
    }
   ],
   "source": [
    "Dataframe['Release date'].head(5)"
   ]
  },
  {
   "cell_type": "markdown",
   "id": "9267be73-f9fe-467c-83f9-369baeaefd26",
   "metadata": {},
   "source": [
    "Creating descriptive statistics about the feature:"
   ]
  },
  {
   "cell_type": "code",
   "execution_count": 192,
   "id": "1c55b366-68a6-4526-9b8b-cd34a04f1e02",
   "metadata": {},
   "outputs": [
    {
     "data": {
      "text/plain": [
       "count      10866\n",
       "unique      5909\n",
       "top       1/1/09\n",
       "freq          28\n",
       "Name: Release date, dtype: object"
      ]
     },
     "execution_count": 192,
     "metadata": {},
     "output_type": "execute_result"
    }
   ],
   "source": [
    "Dataframe['Release date'].describe()"
   ]
  },
  {
   "cell_type": "markdown",
   "id": "5be76d39-2a97-461e-8346-4b547b8081b8",
   "metadata": {},
   "source": [
    "Checking unique and missing entries: "
   ]
  },
  {
   "cell_type": "code",
   "execution_count": 194,
   "id": "60011cf9-7536-4441-855a-86f146a42de6",
   "metadata": {},
   "outputs": [
    {
     "name": "stdout",
     "output_type": "stream",
     "text": [
      "Number of null values: 0\n"
     ]
    }
   ],
   "source": [
    "print(\"Number of null values: \" +str(Dataframe['Release date'].isna().sum()))"
   ]
  },
  {
   "cell_type": "code",
   "execution_count": 195,
   "id": "3d755cc5-f43c-45d6-b93b-6edecec8e948",
   "metadata": {},
   "outputs": [
    {
     "name": "stdout",
     "output_type": "stream",
     "text": [
      "Unique entries count: 5909\n"
     ]
    }
   ],
   "source": [
    "print(\"Unique entries count: \" + str(len(Dataframe['Release date'].unique())))"
   ]
  },
  {
   "cell_type": "code",
   "execution_count": 196,
   "id": "5b6cb041-ac2a-4a85-8c89-b2b4d2fc125f",
   "metadata": {},
   "outputs": [
    {
     "name": "stderr",
     "output_type": "stream",
     "text": [
      "C:\\Users\\Admin\\AppData\\Local\\Temp\\ipykernel_17364\\3652967642.py:1: UserWarning: Could not infer format, so each element will be parsed individually, falling back to `dateutil`. To ensure parsing is consistent and as-expected, please specify a format.\n",
      "  Dataframe['Release date'] = pd.to_datetime(Dataframe['Release date'])\n"
     ]
    }
   ],
   "source": [
    "Dataframe['Release date'] = pd.to_datetime(Dataframe['Release date'])"
   ]
  },
  {
   "cell_type": "markdown",
   "id": "5f341a80-f143-4eae-9f6d-a50ddf43149f",
   "metadata": {},
   "source": [
    "### vote_count column: "
   ]
  },
  {
   "cell_type": "markdown",
   "id": "7112e9e6-9a90-4dd7-9cfa-60bcac56567c",
   "metadata": {},
   "source": [
    "Starting with renaming the column."
   ]
  },
  {
   "cell_type": "code",
   "execution_count": 199,
   "id": "609216c7-deb7-4222-9ed9-ab579d3277e8",
   "metadata": {},
   "outputs": [],
   "source": [
    "Dataframe.rename(columns={'vote_count': 'Vote count'}, inplace=True)"
   ]
  },
  {
   "cell_type": "markdown",
   "id": "a08d3c13-acdd-479a-ba44-dcc850fb0a57",
   "metadata": {},
   "source": [
    "Inspecting the first five rows of the column:"
   ]
  },
  {
   "cell_type": "code",
   "execution_count": 201,
   "id": "e0eea7fa-c76e-4c43-adad-6cf550f2b9d7",
   "metadata": {},
   "outputs": [
    {
     "data": {
      "text/plain": [
       "0    5562\n",
       "1    6185\n",
       "2    2480\n",
       "3    5292\n",
       "4    2947\n",
       "Name: Vote count, dtype: int64"
      ]
     },
     "execution_count": 201,
     "metadata": {},
     "output_type": "execute_result"
    }
   ],
   "source": [
    "Dataframe['Vote count'].head(5)"
   ]
  },
  {
   "cell_type": "markdown",
   "id": "6ddae728-8d95-4a39-9063-4df8c2a16daf",
   "metadata": {},
   "source": [
    "Creating descriptive statistics about the feature:"
   ]
  },
  {
   "cell_type": "code",
   "execution_count": 203,
   "id": "dd89f172-085e-4fed-8c33-6e5ff93626ec",
   "metadata": {},
   "outputs": [
    {
     "data": {
      "text/plain": [
       "count    10866.000000\n",
       "mean       217.389748\n",
       "std        575.619058\n",
       "min         10.000000\n",
       "25%         17.000000\n",
       "50%         38.000000\n",
       "75%        145.750000\n",
       "max       9767.000000\n",
       "Name: Vote count, dtype: float64"
      ]
     },
     "execution_count": 203,
     "metadata": {},
     "output_type": "execute_result"
    }
   ],
   "source": [
    "Dataframe['Vote count'].describe()"
   ]
  },
  {
   "cell_type": "markdown",
   "id": "c5e56d95-f920-406b-b9d8-732902d756e9",
   "metadata": {},
   "source": [
    "Checking unique and missing entries:"
   ]
  },
  {
   "cell_type": "code",
   "execution_count": 205,
   "id": "231fa71f-f744-46de-a4c2-8b9cdcf07813",
   "metadata": {},
   "outputs": [
    {
     "name": "stdout",
     "output_type": "stream",
     "text": [
      "Number of null values: 0\n"
     ]
    }
   ],
   "source": [
    "print(\"Number of null values: \" +str(Dataframe['Vote count'].isna().sum()))"
   ]
  },
  {
   "cell_type": "code",
   "execution_count": 206,
   "id": "220699e7-2f78-477b-9fef-5744730b1cf0",
   "metadata": {},
   "outputs": [
    {
     "name": "stdout",
     "output_type": "stream",
     "text": [
      "Unique entries count: 1289\n"
     ]
    }
   ],
   "source": [
    "print(\"Unique entries count: \" + str(len(Dataframe['Vote count'].unique())))"
   ]
  },
  {
   "cell_type": "markdown",
   "id": "9879eafd-beb5-42b9-a160-f0289a8bec36",
   "metadata": {},
   "source": [
    "The maximum value of Vote count column is **9767** which is smaller than 2^32 **429 4967 296**, so instead of using the float64 for storing we can use float16 minimizing the memory storage."
   ]
  },
  {
   "cell_type": "code",
   "execution_count": 208,
   "id": "d400a10c-ef19-4873-a440-342b2ed8ced8",
   "metadata": {},
   "outputs": [],
   "source": [
    "Dataframe['Vote count'] = Dataframe['Vote count'].astype('float16')"
   ]
  },
  {
   "cell_type": "markdown",
   "id": "cf4bd748-07b8-4908-9c3d-4c7ab40ff7cf",
   "metadata": {},
   "source": [
    "Plotting the data as histogram to observe the distribution: "
   ]
  },
  {
   "cell_type": "code",
   "execution_count": 210,
   "id": "042c4ec4-7d50-4add-a01f-b1f62630371a",
   "metadata": {},
   "outputs": [
    {
     "data": {
      "image/png": "[encoded data removed]",
      "text/plain": [
       "<Figure size 1000x700 with 1 Axes>"
      ]
     },
     "metadata": {},
     "output_type": "display_data"
    }
   ],
   "source": [
    "plt.figure(figsize=(10, 7))\n",
    "plt.hist(Dataframe['Vote count'], color = '#01394c')\n",
    "plt.title('Histogram of Vote count Data')\n",
    "plt.xlabel('Vote count')  \n",
    "plt.ylabel('Frequency')  \n",
    "plt.show()"
   ]
  },
  {
   "cell_type": "markdown",
   "id": "3c50c28c-d781-477a-a530-0a533ee817d7",
   "metadata": {},
   "source": [
    "### vote_average column"
   ]
  },
  {
   "cell_type": "markdown",
   "id": "80359877-a47e-460a-bf39-c06d491def30",
   "metadata": {},
   "source": [
    "Starting with renaming the column."
   ]
  },
  {
   "cell_type": "code",
   "execution_count": 213,
   "id": "b50ace08-6ead-4bf1-8a02-3ba6c0bf6aba",
   "metadata": {},
   "outputs": [],
   "source": [
    "Dataframe.rename(columns={'vote_average': 'Vote average'}, inplace=True)"
   ]
  },
  {
   "cell_type": "markdown",
   "id": "49b6971b-9fbf-46b5-b17d-534fd061c8b1",
   "metadata": {},
   "source": [
    "Inspecting the first five rows of the column:"
   ]
  },
  {
   "cell_type": "code",
   "execution_count": 215,
   "id": "b72ab01e-0e35-448e-abc0-5ac86c0eddb1",
   "metadata": {},
   "outputs": [
    {
     "data": {
      "text/plain": [
       "0    6.5\n",
       "1    7.1\n",
       "2    6.3\n",
       "3    7.5\n",
       "4    7.3\n",
       "Name: Vote average, dtype: float64"
      ]
     },
     "execution_count": 215,
     "metadata": {},
     "output_type": "execute_result"
    }
   ],
   "source": [
    "Dataframe['Vote average'].head(5)"
   ]
  },
  {
   "cell_type": "markdown",
   "id": "1b4d4352-a963-4346-bc02-565d4dc32a65",
   "metadata": {},
   "source": [
    "Creating descriptive statistics about the feature:"
   ]
  },
  {
   "cell_type": "code",
   "execution_count": 217,
   "id": "6f381e5d-914d-49f2-af72-000b3549c76a",
   "metadata": {},
   "outputs": [
    {
     "data": {
      "text/plain": [
       "count    10866.000000\n",
       "mean         5.974922\n",
       "std          0.935142\n",
       "min          1.500000\n",
       "25%          5.400000\n",
       "50%          6.000000\n",
       "75%          6.600000\n",
       "max          9.200000\n",
       "Name: Vote average, dtype: float64"
      ]
     },
     "execution_count": 217,
     "metadata": {},
     "output_type": "execute_result"
    }
   ],
   "source": [
    "Dataframe['Vote average'].describe() "
   ]
  },
  {
   "cell_type": "markdown",
   "id": "1c47a19d-785f-4184-97f6-c9845a52ce6d",
   "metadata": {},
   "source": [
    "Checking unique and missing entries: "
   ]
  },
  {
   "cell_type": "code",
   "execution_count": 219,
   "id": "3a309334-5e7f-4fdd-8ba3-9881832738b5",
   "metadata": {},
   "outputs": [
    {
     "name": "stdout",
     "output_type": "stream",
     "text": [
      "Number of null values: 0\n"
     ]
    }
   ],
   "source": [
    "print(\"Number of null values: \" +str(Dataframe['Vote average'].isna().sum()))"
   ]
  },
  {
   "cell_type": "code",
   "execution_count": 220,
   "id": "fdfad19b-fc6c-41be-8405-3424d7e0a5f5",
   "metadata": {},
   "outputs": [
    {
     "name": "stdout",
     "output_type": "stream",
     "text": [
      "Unique entries count: 72\n"
     ]
    }
   ],
   "source": [
    "print(\"Unique entries count: \" + str(len(Dataframe['Vote average'].unique())))"
   ]
  },
  {
   "cell_type": "markdown",
   "id": "76f6dc5f-aefd-4784-8fd7-7bc9c8661af4",
   "metadata": {},
   "source": [
    "The maximum value of Vote average column is **9.200000** which is smaller than 2^16 **65536**, so instead of using the float64 for storing we can use float32 minimizing the memory storage.\r\n"
   ]
  },
  {
   "cell_type": "code",
   "execution_count": 222,
   "id": "bd9d18e1-ee22-4f3e-9f8a-c3848df7edf1",
   "metadata": {},
   "outputs": [],
   "source": [
    "Dataframe['Vote average'] = Dataframe['Vote average'].astype('float16')"
   ]
  },
  {
   "cell_type": "markdown",
   "id": "8085b851-87cb-4704-9676-fa94bc11f145",
   "metadata": {},
   "source": [
    "Plotting the data as histogram to observe the distribution: "
   ]
  },
  {
   "cell_type": "code",
   "execution_count": 224,
   "id": "f7737d7e-12f0-4e96-8274-2c89f520686d",
   "metadata": {},
   "outputs": [
    {
     "data": {
      "image/png": "[encoded data removed]",
      "text/plain": [
       "<Figure size 1000x700 with 1 Axes>"
      ]
     },
     "metadata": {},
     "output_type": "display_data"
    }
   ],
   "source": [
    "plt.figure(figsize=(10, 7))\n",
    "plt.hist(Dataframe['Vote average'], color = '#01394c')\n",
    "plt.title('Histogram of Vote average Data')\n",
    "plt.xlabel('Vote average')  \n",
    "plt.ylabel('Frequency')  \n",
    "plt.show()"
   ]
  },
  {
   "cell_type": "markdown",
   "id": "5e79d727-bc29-413d-9db9-93502d630b97",
   "metadata": {},
   "source": [
    "### release_year column: "
   ]
  },
  {
   "cell_type": "markdown",
   "id": "0a5e80d2-a7ce-486d-8938-b38239b7c493",
   "metadata": {},
   "source": [
    "Starting with renaming the column."
   ]
  },
  {
   "cell_type": "code",
   "execution_count": 227,
   "id": "904a241c-ba8b-43f8-90c2-895136c2e789",
   "metadata": {},
   "outputs": [],
   "source": [
    "Dataframe.rename(columns={'release_year': 'Release year'}, inplace=True)"
   ]
  },
  {
   "cell_type": "markdown",
   "id": "638638c0-54c0-459d-be73-6f288d191dbd",
   "metadata": {},
   "source": [
    "Inspecting the first five rows of the column:"
   ]
  },
  {
   "cell_type": "code",
   "execution_count": 229,
   "id": "8594bb2a-7bd6-43a0-b66d-cf1639748292",
   "metadata": {},
   "outputs": [
    {
     "data": {
      "text/plain": [
       "0    2015\n",
       "1    2015\n",
       "2    2015\n",
       "3    2015\n",
       "4    2015\n",
       "Name: Release year, dtype: int64"
      ]
     },
     "execution_count": 229,
     "metadata": {},
     "output_type": "execute_result"
    }
   ],
   "source": [
    "Dataframe['Release year'].head(5)"
   ]
  },
  {
   "cell_type": "markdown",
   "id": "cb75d3a7-67a1-49e7-a569-2eb3bcdd0cf7",
   "metadata": {},
   "source": [
    "Creating descriptive statistics about the feature:"
   ]
  },
  {
   "cell_type": "code",
   "execution_count": 231,
   "id": "1443f1c7-b6c6-4d54-842a-64e845e097d5",
   "metadata": {},
   "outputs": [
    {
     "data": {
      "text/plain": [
       "count    10866.000000\n",
       "mean      2001.322658\n",
       "std         12.812941\n",
       "min       1960.000000\n",
       "25%       1995.000000\n",
       "50%       2006.000000\n",
       "75%       2011.000000\n",
       "max       2015.000000\n",
       "Name: Release year, dtype: float64"
      ]
     },
     "execution_count": 231,
     "metadata": {},
     "output_type": "execute_result"
    }
   ],
   "source": [
    "Dataframe['Release year'].describe()"
   ]
  },
  {
   "cell_type": "markdown",
   "id": "4c9e844c-321b-4390-8bf6-863be1a99dd0",
   "metadata": {},
   "source": [
    "Checking unique and missing entries:"
   ]
  },
  {
   "cell_type": "code",
   "execution_count": 233,
   "id": "397b15b8-5d6f-4b21-8b06-b6c7f125c060",
   "metadata": {},
   "outputs": [
    {
     "name": "stdout",
     "output_type": "stream",
     "text": [
      "Number of null values: 0\n"
     ]
    }
   ],
   "source": [
    "print(\"Number of null values: \" +str(Dataframe['Release year'].isna().sum()))"
   ]
  },
  {
   "cell_type": "code",
   "execution_count": 234,
   "id": "72636670-03eb-472e-86ce-7b998cef3cf7",
   "metadata": {},
   "outputs": [
    {
     "name": "stdout",
     "output_type": "stream",
     "text": [
      "Unique entries count: 56\n"
     ]
    }
   ],
   "source": [
    "print(\"Unique entries count: \" + str(len(Dataframe['Release year'].unique())))"
   ]
  },
  {
   "cell_type": "markdown",
   "id": "dadb12f8-5f91-40ef-8011-1ad12cd1ee3f",
   "metadata": {},
   "source": [
    "The maximum value of Release year column is **2015** which is smaller than 2^16 **65536**, so instead of using the float64 for storing we can use int16 minimizing the memory storage."
   ]
  },
  {
   "cell_type": "code",
   "execution_count": 236,
   "id": "55b2ff6d-6642-4286-baa2-1b185bd1aede",
   "metadata": {},
   "outputs": [],
   "source": [
    "Dataframe['Release year'] = Dataframe['Release year'].astype('int16')"
   ]
  },
  {
   "cell_type": "code",
   "execution_count": 237,
   "id": "f637f861-d95a-4ec1-b7e7-92d3ec3a778b",
   "metadata": {},
   "outputs": [
    {
     "data": {
      "text/plain": [
       "0        2015\n",
       "1        2015\n",
       "2        2015\n",
       "3        2015\n",
       "4        2015\n",
       "         ... \n",
       "10861    1966\n",
       "10862    1966\n",
       "10863    1966\n",
       "10864    1966\n",
       "10865    1966\n",
       "Name: Release year, Length: 10866, dtype: int16"
      ]
     },
     "execution_count": 237,
     "metadata": {},
     "output_type": "execute_result"
    }
   ],
   "source": [
    "Dataframe['Release year']"
   ]
  },
  {
   "cell_type": "markdown",
   "id": "a8e4ab79-b678-430a-95db-364e16877fbe",
   "metadata": {},
   "source": [
    "Plotting the data as histogram to observe the distribution: "
   ]
  },
  {
   "cell_type": "code",
   "execution_count": 239,
   "id": "e9ad42e8-357d-4004-9070-a3f13676f706",
   "metadata": {},
   "outputs": [
    {
     "data": {
      "image/png": "[encoded data removed]",
      "text/plain": [
       "<Figure size 1000x700 with 1 Axes>"
      ]
     },
     "metadata": {},
     "output_type": "display_data"
    }
   ],
   "source": [
    "plt.figure(figsize=(10, 7))\n",
    "plt.hist(Dataframe['Release year'], color = '#01394c')\n",
    "plt.title('Histogram of Release year Data')\n",
    "plt.xlabel('Release year')  \n",
    "plt.ylabel('Frequency')  \n",
    "plt.show()"
   ]
  },
  {
   "cell_type": "markdown",
   "id": "4f8f8f44-a8e1-47b6-b73e-99a478f32f66",
   "metadata": {},
   "source": [
    "### budget_adj column:"
   ]
  },
  {
   "cell_type": "markdown",
   "id": "9ac36544-9434-4a49-a9da-cdf1547e261a",
   "metadata": {},
   "source": [
    "Starting with renaming the column."
   ]
  },
  {
   "cell_type": "code",
   "execution_count": 242,
   "id": "28227df5-e5e9-457f-88cc-62e79279de73",
   "metadata": {},
   "outputs": [],
   "source": [
    "Dataframe.rename(columns={'budget_adj': 'Budget adjusted'}, inplace=True)"
   ]
  },
  {
   "cell_type": "markdown",
   "id": "a64cf972-07b4-4e05-ac63-b8aac657be4b",
   "metadata": {},
   "source": [
    "Inspecting the first five rows of the column:"
   ]
  },
  {
   "cell_type": "code",
   "execution_count": 244,
   "id": "104c19cd-60e7-4790-a7a4-29e06729eea3",
   "metadata": {},
   "outputs": [
    {
     "data": {
      "text/plain": [
       "0    1.379999e+08\n",
       "1    1.379999e+08\n",
       "2    1.012000e+08\n",
       "3    1.839999e+08\n",
       "4    1.747999e+08\n",
       "Name: Budget adjusted, dtype: float64"
      ]
     },
     "execution_count": 244,
     "metadata": {},
     "output_type": "execute_result"
    }
   ],
   "source": [
    "Dataframe['Budget adjusted'].head(5)"
   ]
  },
  {
   "cell_type": "markdown",
   "id": "5e55a369-f935-4d5b-8e58-164164b492dd",
   "metadata": {},
   "source": [
    "Creating descriptive statistics about the feature:"
   ]
  },
  {
   "cell_type": "code",
   "execution_count": 246,
   "id": "08d7e3a9-b1d8-40dd-bcd8-3216ddc37676",
   "metadata": {},
   "outputs": [
    {
     "data": {
      "text/plain": [
       "count    1.086600e+04\n",
       "mean     1.755104e+07\n",
       "std      3.430616e+07\n",
       "min      0.000000e+00\n",
       "25%      0.000000e+00\n",
       "50%      0.000000e+00\n",
       "75%      2.085325e+07\n",
       "max      4.250000e+08\n",
       "Name: Budget adjusted, dtype: float64"
      ]
     },
     "execution_count": 246,
     "metadata": {},
     "output_type": "execute_result"
    }
   ],
   "source": [
    "Dataframe['Budget adjusted'].describe()"
   ]
  },
  {
   "cell_type": "markdown",
   "id": "e12f5421-8fa2-4669-a42f-65ab9dc14184",
   "metadata": {},
   "source": [
    "Checking unique and missing entries:"
   ]
  },
  {
   "cell_type": "code",
   "execution_count": 248,
   "id": "70d77c13-5e5d-4daa-8765-2dbc9af3cc8d",
   "metadata": {},
   "outputs": [
    {
     "name": "stdout",
     "output_type": "stream",
     "text": [
      "Number of null values: 0\n"
     ]
    }
   ],
   "source": [
    "print(\"Number of null values: \" +str(Dataframe['Budget adjusted'].isna().sum()))"
   ]
  },
  {
   "cell_type": "code",
   "execution_count": 249,
   "id": "fa20fe22-644b-47cf-a76e-d3d51e008dfa",
   "metadata": {},
   "outputs": [
    {
     "name": "stdout",
     "output_type": "stream",
     "text": [
      "Unique entries count: 2614\n"
     ]
    }
   ],
   "source": [
    "print(\"Unique entries count: \" + str(len(Dataframe['Budget adjusted'].unique())))"
   ]
  },
  {
   "cell_type": "markdown",
   "id": "8aab4f56-e04d-49c6-899e-e7469b7fdf13",
   "metadata": {},
   "source": [
    "The maximum value of Budget adjusted column is **278 1506 000** which is smaller than 2^32 **429 4967 296**, so instead of using the float64 for storing we can use float32 minimizing the memory storage."
   ]
  },
  {
   "cell_type": "code",
   "execution_count": 251,
   "id": "f8bf20da-80d9-499b-a05c-e6b425785a5b",
   "metadata": {},
   "outputs": [],
   "source": [
    "Dataframe['Budget adj'] = Dataframe['Budget adjusted'].astype('float32')"
   ]
  },
  {
   "cell_type": "markdown",
   "id": "4876d40d-4760-4b9f-b1b5-f5fe7c12f7a2",
   "metadata": {},
   "source": [
    "Plotting the data as histogram to observe the distribution: "
   ]
  },
  {
   "cell_type": "code",
   "execution_count": 253,
   "id": "f851ec4a-f769-472b-b93c-2809fc49b969",
   "metadata": {},
   "outputs": [
    {
     "data": {
      "image/png": "[encoded data removed]",
      "text/plain": [
       "<Figure size 1000x700 with 1 Axes>"
      ]
     },
     "metadata": {},
     "output_type": "display_data"
    }
   ],
   "source": [
    "plt.figure(figsize=(10, 7))\n",
    "plt.hist(Dataframe['Budget adjusted'], color = '#01394c')\n",
    "plt.title('Histogram of Budget adjusted Data')\n",
    "plt.xlabel('Budget adjusted')  \n",
    "plt.ylabel('Frequency')  \n",
    "plt.show()"
   ]
  },
  {
   "cell_type": "markdown",
   "id": "038a2518-b60c-46ad-95ab-caa2a3704bca",
   "metadata": {},
   "source": [
    "### revenue_adj column: "
   ]
  },
  {
   "cell_type": "markdown",
   "id": "d54f7fed-cb27-4b92-ad02-65d62d46074a",
   "metadata": {},
   "source": [
    "Starting with renaming the column."
   ]
  },
  {
   "cell_type": "code",
   "execution_count": 256,
   "id": "ff3c054d-7337-491b-a068-b7126ef2f601",
   "metadata": {},
   "outputs": [],
   "source": [
    "Dataframe.rename(columns={'revenue_adj': 'Revenue adjusted'}, inplace=True)"
   ]
  },
  {
   "cell_type": "markdown",
   "id": "880349a2-5130-4064-ab69-a7d8195b0bbb",
   "metadata": {},
   "source": [
    "Inspecting the first five rows of the column:"
   ]
  },
  {
   "cell_type": "code",
   "execution_count": 258,
   "id": "17dd01ad-b2cf-4d45-8e6b-ac3ff5a119e5",
   "metadata": {},
   "outputs": [
    {
     "data": {
      "text/plain": [
       "0    1.392446e+09\n",
       "1    3.481613e+08\n",
       "2    2.716190e+08\n",
       "3    1.902723e+09\n",
       "4    1.385749e+09\n",
       "Name: Revenue adjusted, dtype: float64"
      ]
     },
     "execution_count": 258,
     "metadata": {},
     "output_type": "execute_result"
    }
   ],
   "source": [
    "Dataframe['Revenue adjusted'].head(5)"
   ]
  },
  {
   "cell_type": "markdown",
   "id": "d98623af-d1ac-4f91-8910-3d4cb5e1e5be",
   "metadata": {},
   "source": [
    "Creating descriptive statistics about the feature:"
   ]
  },
  {
   "cell_type": "code",
   "execution_count": 260,
   "id": "ac60da8e-46e2-472a-9b1b-7b28109e92ef",
   "metadata": {},
   "outputs": [
    {
     "data": {
      "text/plain": [
       "count    1.086600e+04\n",
       "mean     5.136436e+07\n",
       "std      1.446325e+08\n",
       "min      0.000000e+00\n",
       "25%      0.000000e+00\n",
       "50%      0.000000e+00\n",
       "75%      3.369710e+07\n",
       "max      2.827124e+09\n",
       "Name: Revenue adjusted, dtype: float64"
      ]
     },
     "execution_count": 260,
     "metadata": {},
     "output_type": "execute_result"
    }
   ],
   "source": [
    "Dataframe['Revenue adjusted'].describe()"
   ]
  },
  {
   "cell_type": "markdown",
   "id": "997e897a-81fc-4888-b21a-d4cd891ce212",
   "metadata": {},
   "source": [
    "Checking unique and missing entries: "
   ]
  },
  {
   "cell_type": "code",
   "execution_count": 262,
   "id": "da2bd6d4-edd5-467f-b595-963f7600e6f7",
   "metadata": {},
   "outputs": [
    {
     "name": "stdout",
     "output_type": "stream",
     "text": [
      "Number of null values: 0\n"
     ]
    }
   ],
   "source": [
    "print(\"Number of null values: \" +str(Dataframe['Revenue adjusted'].isna().sum()))"
   ]
  },
  {
   "cell_type": "code",
   "execution_count": 263,
   "id": "da5f612e-674d-4071-9e0d-1517d0cb6f37",
   "metadata": {},
   "outputs": [
    {
     "name": "stdout",
     "output_type": "stream",
     "text": [
      "Unique entries count: 4840\n"
     ]
    }
   ],
   "source": [
    "print(\"Unique entries count: \" + str(len(Dataframe['Revenue adjusted'].unique())))"
   ]
  },
  {
   "cell_type": "markdown",
   "id": "008ebb6b-a76e-4d53-b9ab-004563d0b811",
   "metadata": {},
   "source": [
    "Plotting the data as histogram to observe the distribution: "
   ]
  },
  {
   "cell_type": "code",
   "execution_count": 265,
   "id": "0b99be09-1bdd-41e8-b84f-3e6c09faf512",
   "metadata": {},
   "outputs": [
    {
     "data": {
      "image/png": "[encoded data removed]",
      "text/plain": [
       "<Figure size 1000x700 with 1 Axes>"
      ]
     },
     "metadata": {},
     "output_type": "display_data"
    }
   ],
   "source": [
    "plt.figure(figsize=(10, 7))\n",
    "plt.hist(Dataframe['Revenue adjusted'], color = '#01394c')\n",
    "plt.title('Histogram of Revenue adjusted Data')\n",
    "plt.xlabel('Revenue adjusted')  \n",
    "plt.ylabel('Frequency')  \n",
    "plt.show()"
   ]
  },
  {
   "cell_type": "markdown",
   "id": "184c740b-fb06-49a6-878a-e852fbf98f1f",
   "metadata": {},
   "source": [
    "### IMDB Number column:"
   ]
  },
  {
   "cell_type": "markdown",
   "id": "4e0b66d6-cb02-455e-a7f7-f3fb14678dcc",
   "metadata": {},
   "source": [
    "Inspecting the first five rows of the column:"
   ]
  },
  {
   "cell_type": "code",
   "execution_count": 268,
   "id": "82a11ce2-4622-4c13-a2aa-eb9cd5d0b490",
   "metadata": {},
   "outputs": [
    {
     "name": "stdout",
     "output_type": "stream",
     "text": [
      "<class 'pandas.core.frame.DataFrame'>\n",
      "RangeIndex: 10866 entries, 0 to 10865\n",
      "Data columns (total 22 columns):\n",
      " #   Column                Non-Null Count  Dtype         \n",
      "---  ------                --------------  -----         \n",
      " 0   ID                    10866 non-null  float32       \n",
      " 1   IMDB ID               10856 non-null  float32       \n",
      " 2   Popularity            10866 non-null  float16       \n",
      " 3   Budget                10866 non-null  uint32        \n",
      " 4   Revenue               10866 non-null  float32       \n",
      " 5   Original title        10866 non-null  object        \n",
      " 6   Cast                  10866 non-null  object        \n",
      " 7   Homepage URL          10866 non-null  object        \n",
      " 8   Director              10866 non-null  object        \n",
      " 9   Tag line              10866 non-null  object        \n",
      " 10  Keywords              10866 non-null  object        \n",
      " 11  Overview              10866 non-null  object        \n",
      " 12  Run time              10866 non-null  float16       \n",
      " 13  Genres                10843 non-null  object        \n",
      " 14  Production companies  10866 non-null  object        \n",
      " 15  Release date          10866 non-null  datetime64[ns]\n",
      " 16  Vote count            10866 non-null  float16       \n",
      " 17  Vote average          10866 non-null  float16       \n",
      " 18  Release year          10866 non-null  int16         \n",
      " 19  Budget adjusted       10866 non-null  float64       \n",
      " 20  Revenue adjusted      10866 non-null  float64       \n",
      " 21  Budget adj            10866 non-null  float32       \n",
      "dtypes: datetime64[ns](1), float16(4), float32(4), float64(2), int16(1), object(9), uint32(1)\n",
      "memory usage: 1.3+ MB\n"
     ]
    }
   ],
   "source": [
    "Dataframe.info()"
   ]
  },
  {
   "cell_type": "code",
   "execution_count": 269,
   "id": "81c55b03-b6b5-4245-aa87-18a0f0be8f62",
   "metadata": {},
   "outputs": [
    {
     "data": {
      "text/html": [
       "<div>\n",
       "<style scoped>\n",
       "    .dataframe tbody tr th:only-of-type {\n",
       "        vertical-align: middle;\n",
       "    }\n",
       "\n",
       "    .dataframe tbody tr th {\n",
       "        vertical-align: top;\n",
       "    }\n",
       "\n",
       "    .dataframe thead th {\n",
       "        text-align: right;\n",
       "    }\n",
       "</style>\n",
       "<table border=\"1\" class=\"dataframe\">\n",
       "  <thead>\n",
       "    <tr style=\"text-align: right;\">\n",
       "      <th></th>\n",
       "      <th>ID</th>\n",
       "      <th>IMDB ID</th>\n",
       "      <th>Popularity</th>\n",
       "      <th>Budget</th>\n",
       "      <th>Revenue</th>\n",
       "      <th>Original title</th>\n",
       "      <th>Cast</th>\n",
       "      <th>Homepage URL</th>\n",
       "      <th>Director</th>\n",
       "      <th>Tag line</th>\n",
       "      <th>...</th>\n",
       "      <th>Run time</th>\n",
       "      <th>Genres</th>\n",
       "      <th>Production companies</th>\n",
       "      <th>Release date</th>\n",
       "      <th>Vote count</th>\n",
       "      <th>Vote average</th>\n",
       "      <th>Release year</th>\n",
       "      <th>Budget adjusted</th>\n",
       "      <th>Revenue adjusted</th>\n",
       "      <th>Budget adj</th>\n",
       "    </tr>\n",
       "  </thead>\n",
       "  <tbody>\n",
       "    <tr>\n",
       "      <th>0</th>\n",
       "      <td>135397.0</td>\n",
       "      <td>369610.0</td>\n",
       "      <td>33.000000</td>\n",
       "      <td>150000000</td>\n",
       "      <td>1.513529e+09</td>\n",
       "      <td>Jurassic World</td>\n",
       "      <td>Chris Pratt|Bryce Dallas Howard|Irrfan Khan|Vi...</td>\n",
       "      <td>http://www.jurassicworld.com/</td>\n",
       "      <td>Colin Trevorrow</td>\n",
       "      <td>The park is open.</td>\n",
       "      <td>...</td>\n",
       "      <td>124.0</td>\n",
       "      <td>Action|Adventure|Science Fiction|Thriller</td>\n",
       "      <td>Universal Studios|Amblin Entertainment|Legenda...</td>\n",
       "      <td>2015-06-09</td>\n",
       "      <td>5560.0</td>\n",
       "      <td>6.500000</td>\n",
       "      <td>2015</td>\n",
       "      <td>1.379999e+08</td>\n",
       "      <td>1.392446e+09</td>\n",
       "      <td>137999936.0</td>\n",
       "    </tr>\n",
       "    <tr>\n",
       "      <th>1</th>\n",
       "      <td>76341.0</td>\n",
       "      <td>1392190.0</td>\n",
       "      <td>28.421875</td>\n",
       "      <td>150000000</td>\n",
       "      <td>3.784364e+08</td>\n",
       "      <td>Mad Max: Fury Road</td>\n",
       "      <td>Tom Hardy|Charlize Theron|Hugh Keays-Byrne|Nic...</td>\n",
       "      <td>http://www.madmaxmovie.com/</td>\n",
       "      <td>George Miller</td>\n",
       "      <td>What a Lovely Day.</td>\n",
       "      <td>...</td>\n",
       "      <td>120.0</td>\n",
       "      <td>Action|Adventure|Science Fiction|Thriller</td>\n",
       "      <td>Village Roadshow Pictures|Kennedy Miller Produ...</td>\n",
       "      <td>2015-05-13</td>\n",
       "      <td>6184.0</td>\n",
       "      <td>7.101562</td>\n",
       "      <td>2015</td>\n",
       "      <td>1.379999e+08</td>\n",
       "      <td>3.481613e+08</td>\n",
       "      <td>137999936.0</td>\n",
       "    </tr>\n",
       "    <tr>\n",
       "      <th>2</th>\n",
       "      <td>262500.0</td>\n",
       "      <td>2908446.0</td>\n",
       "      <td>13.109375</td>\n",
       "      <td>110000000</td>\n",
       "      <td>2.952382e+08</td>\n",
       "      <td>Insurgent</td>\n",
       "      <td>Shailene Woodley|Theo James|Kate Winslet|Ansel...</td>\n",
       "      <td>http://www.thedivergentseries.movie/#insurgent</td>\n",
       "      <td>Robert Schwentke</td>\n",
       "      <td>One Choice Can Destroy You</td>\n",
       "      <td>...</td>\n",
       "      <td>119.0</td>\n",
       "      <td>Adventure|Science Fiction|Thriller</td>\n",
       "      <td>Summit Entertainment|Mandeville Films|Red Wago...</td>\n",
       "      <td>2015-03-18</td>\n",
       "      <td>2480.0</td>\n",
       "      <td>6.300781</td>\n",
       "      <td>2015</td>\n",
       "      <td>1.012000e+08</td>\n",
       "      <td>2.716190e+08</td>\n",
       "      <td>101199952.0</td>\n",
       "    </tr>\n",
       "    <tr>\n",
       "      <th>3</th>\n",
       "      <td>140607.0</td>\n",
       "      <td>2488496.0</td>\n",
       "      <td>11.171875</td>\n",
       "      <td>200000000</td>\n",
       "      <td>2.068178e+09</td>\n",
       "      <td>Star Wars: The Force Awakens</td>\n",
       "      <td>Harrison Ford|Mark Hamill|Carrie Fisher|Adam D...</td>\n",
       "      <td>http://www.starwars.com/films/star-wars-episod...</td>\n",
       "      <td>J.J. Abrams</td>\n",
       "      <td>Every generation has a story.</td>\n",
       "      <td>...</td>\n",
       "      <td>136.0</td>\n",
       "      <td>Action|Adventure|Science Fiction|Fantasy</td>\n",
       "      <td>Lucasfilm|Truenorth Productions|Bad Robot</td>\n",
       "      <td>2015-12-15</td>\n",
       "      <td>5292.0</td>\n",
       "      <td>7.500000</td>\n",
       "      <td>2015</td>\n",
       "      <td>1.839999e+08</td>\n",
       "      <td>1.902723e+09</td>\n",
       "      <td>183999920.0</td>\n",
       "    </tr>\n",
       "    <tr>\n",
       "      <th>4</th>\n",
       "      <td>168259.0</td>\n",
       "      <td>2820852.0</td>\n",
       "      <td>9.335938</td>\n",
       "      <td>190000000</td>\n",
       "      <td>1.506249e+09</td>\n",
       "      <td>Furious 7</td>\n",
       "      <td>Vin Diesel|Paul Walker|Jason Statham|Michelle ...</td>\n",
       "      <td>http://www.furious7.com/</td>\n",
       "      <td>James Wan</td>\n",
       "      <td>Vengeance Hits Home</td>\n",
       "      <td>...</td>\n",
       "      <td>137.0</td>\n",
       "      <td>Action|Crime|Thriller</td>\n",
       "      <td>Universal Pictures|Original Film|Media Rights ...</td>\n",
       "      <td>2015-04-01</td>\n",
       "      <td>2948.0</td>\n",
       "      <td>7.300781</td>\n",
       "      <td>2015</td>\n",
       "      <td>1.747999e+08</td>\n",
       "      <td>1.385749e+09</td>\n",
       "      <td>174799920.0</td>\n",
       "    </tr>\n",
       "  </tbody>\n",
       "</table>\n",
       "<p>5 rows × 22 columns</p>\n",
       "</div>"
      ],
      "text/plain": [
       "         ID    IMDB ID  Popularity     Budget       Revenue  \\\n",
       "0  135397.0   369610.0   33.000000  150000000  1.513529e+09   \n",
       "1   76341.0  1392190.0   28.421875  150000000  3.784364e+08   \n",
       "2  262500.0  2908446.0   13.109375  110000000  2.952382e+08   \n",
       "3  140607.0  2488496.0   11.171875  200000000  2.068178e+09   \n",
       "4  168259.0  2820852.0    9.335938  190000000  1.506249e+09   \n",
       "\n",
       "                 Original title  \\\n",
       "0                Jurassic World   \n",
       "1            Mad Max: Fury Road   \n",
       "2                     Insurgent   \n",
       "3  Star Wars: The Force Awakens   \n",
       "4                     Furious 7   \n",
       "\n",
       "                                                Cast  \\\n",
       "0  Chris Pratt|Bryce Dallas Howard|Irrfan Khan|Vi...   \n",
       "1  Tom Hardy|Charlize Theron|Hugh Keays-Byrne|Nic...   \n",
       "2  Shailene Woodley|Theo James|Kate Winslet|Ansel...   \n",
       "3  Harrison Ford|Mark Hamill|Carrie Fisher|Adam D...   \n",
       "4  Vin Diesel|Paul Walker|Jason Statham|Michelle ...   \n",
       "\n",
       "                                        Homepage URL          Director  \\\n",
       "0                      http://www.jurassicworld.com/   Colin Trevorrow   \n",
       "1                        http://www.madmaxmovie.com/     George Miller   \n",
       "2     http://www.thedivergentseries.movie/#insurgent  Robert Schwentke   \n",
       "3  http://www.starwars.com/films/star-wars-episod...       J.J. Abrams   \n",
       "4                           http://www.furious7.com/         James Wan   \n",
       "\n",
       "                        Tag line  ... Run time  \\\n",
       "0              The park is open.  ...    124.0   \n",
       "1             What a Lovely Day.  ...    120.0   \n",
       "2     One Choice Can Destroy You  ...    119.0   \n",
       "3  Every generation has a story.  ...    136.0   \n",
       "4            Vengeance Hits Home  ...    137.0   \n",
       "\n",
       "                                      Genres  \\\n",
       "0  Action|Adventure|Science Fiction|Thriller   \n",
       "1  Action|Adventure|Science Fiction|Thriller   \n",
       "2         Adventure|Science Fiction|Thriller   \n",
       "3   Action|Adventure|Science Fiction|Fantasy   \n",
       "4                      Action|Crime|Thriller   \n",
       "\n",
       "                                Production companies Release date Vote count  \\\n",
       "0  Universal Studios|Amblin Entertainment|Legenda...   2015-06-09     5560.0   \n",
       "1  Village Roadshow Pictures|Kennedy Miller Produ...   2015-05-13     6184.0   \n",
       "2  Summit Entertainment|Mandeville Films|Red Wago...   2015-03-18     2480.0   \n",
       "3          Lucasfilm|Truenorth Productions|Bad Robot   2015-12-15     5292.0   \n",
       "4  Universal Pictures|Original Film|Media Rights ...   2015-04-01     2948.0   \n",
       "\n",
       "  Vote average  Release year  Budget adjusted  Revenue adjusted   Budget adj  \n",
       "0     6.500000          2015     1.379999e+08      1.392446e+09  137999936.0  \n",
       "1     7.101562          2015     1.379999e+08      3.481613e+08  137999936.0  \n",
       "2     6.300781          2015     1.012000e+08      2.716190e+08  101199952.0  \n",
       "3     7.500000          2015     1.839999e+08      1.902723e+09  183999920.0  \n",
       "4     7.300781          2015     1.747999e+08      1.385749e+09  174799920.0  \n",
       "\n",
       "[5 rows x 22 columns]"
      ]
     },
     "execution_count": 269,
     "metadata": {},
     "output_type": "execute_result"
    }
   ],
   "source": [
    "Dataframe.head()"
   ]
  },
  {
   "cell_type": "code",
   "execution_count": 270,
   "id": "ec810355-2e94-4bb6-9f44-52d4d11903c7",
   "metadata": {},
   "outputs": [],
   "source": [
    "def valuechecker(value1, value2):\n",
    "    if value1 < value2:\n",
    "        return \"No\"\n",
    "    if value1 > value2:\n",
    "        return \"Yes\"\n",
    "    else:\n",
    "        return \"Edgecase\""
   ]
  },
  {
   "cell_type": "markdown",
   "id": "dd46e0b7-509a-4ab5-86cf-057941fdc41e",
   "metadata": {},
   "source": [
    "## Most popular movie? "
   ]
  },
  {
   "cell_type": "code",
   "execution_count": 272,
   "id": "bd5b12d3-0bca-4d5e-9e44-25c565f1a548",
   "metadata": {},
   "outputs": [
    {
     "name": "stdout",
     "output_type": "stream",
     "text": [
      "ID                                                               135397.0\n",
      "IMDB ID                                                          369610.0\n",
      "Popularity                                                           33.0\n",
      "Budget                                                          150000000\n",
      "Revenue                                                      1513528832.0\n",
      "Original title                                             Jurassic World\n",
      "Cast                    Chris Pratt|Bryce Dallas Howard|Irrfan Khan|Vi...\n",
      "Homepage URL                                http://www.jurassicworld.com/\n",
      "Director                                                  Colin Trevorrow\n",
      "Tag line                                                The park is open.\n",
      "Keywords                monster|dna|tyrannosaurus rex|velociraptor|island\n",
      "Overview                Twenty-two years after the events of Jurassic ...\n",
      "Run time                                                            124.0\n",
      "Genres                          Action|Adventure|Science Fiction|Thriller\n",
      "Production companies    Universal Studios|Amblin Entertainment|Legenda...\n",
      "Release date                                          2015-06-09 00:00:00\n",
      "Vote count                                                         5560.0\n",
      "Vote average                                                          6.5\n",
      "Release year                                                         2015\n",
      "Budget adjusted                                          137999939.280026\n",
      "Revenue adjusted                                          1392445892.5238\n",
      "Budget adj                                                    137999936.0\n",
      "Name: 0, dtype: object\n"
     ]
    }
   ],
   "source": [
    "popular_column = Dataframe.loc[Dataframe['Popularity'].idxmax()]\n",
    "print(popular_column)"
   ]
  },
  {
   "cell_type": "code",
   "execution_count": 273,
   "id": "9eac0035-a925-4d42-b0e0-4d41240c3e3b",
   "metadata": {},
   "outputs": [],
   "source": [
    "Mostpopular_cost = popular_column['Budget']"
   ]
  },
  {
   "cell_type": "markdown",
   "id": "df8f8134-ff61-4c39-88da-0248884c4859",
   "metadata": {},
   "source": [
    "## Is the most popular film the most expensive? "
   ]
  },
  {
   "cell_type": "code",
   "execution_count": 275,
   "id": "8c105dfb-707b-4824-9d6f-ce09a5f3a98f",
   "metadata": {},
   "outputs": [
    {
     "name": "stdout",
     "output_type": "stream",
     "text": [
      "ID                                                                46528.0\n",
      "IMDB ID                                                         1032751.0\n",
      "Popularity                                                       0.250488\n",
      "Budget                                                          425000000\n",
      "Revenue                                                        11087569.0\n",
      "Original title                                          The Warrior's Way\n",
      "Cast                    Kate Bosworth|Jang Dong-gun|Geoffrey Rush|Dann...\n",
      "Homepage URL                       http://www.iamrogue.com/thewarriorsway\n",
      "Director                                                       Sngmoo Lee\n",
      "Tag line                                          Assassin. Hero. Legend.\n",
      "Keywords                assassin|small town|revenge|deception|super speed\n",
      "Overview                An Asian assassin (Dong-gun Jang) is forced to...\n",
      "Run time                                                            100.0\n",
      "Genres                          Adventure|Fantasy|Action|Western|Thriller\n",
      "Production companies                             Boram Entertainment Inc.\n",
      "Release date                                          2010-12-02 00:00:00\n",
      "Vote count                                                           74.0\n",
      "Vote average                                                     6.398438\n",
      "Release year                                                         2010\n",
      "Budget adjusted                                               425000000.0\n",
      "Revenue adjusted                                               11087569.0\n",
      "Budget adj                                                    425000000.0\n",
      "Name: 2244, dtype: object\n"
     ]
    }
   ],
   "source": [
    "Max = Dataframe.loc[Dataframe['Budget'].idxmax()]\n",
    "print(Max) "
   ]
  },
  {
   "cell_type": "code",
   "execution_count": 276,
   "id": "d285316e-d2ee-4acf-bb51-755a7f15237e",
   "metadata": {},
   "outputs": [],
   "source": [
    "Highestfilm_cost = Max['Budget']"
   ]
  },
  {
   "cell_type": "code",
   "execution_count": 277,
   "id": "d1a0f09c-db4b-4f16-b241-5c1356e08b77",
   "metadata": {},
   "outputs": [
    {
     "name": "stdout",
     "output_type": "stream",
     "text": [
      "Result: No\n"
     ]
    }
   ],
   "source": [
    "print(\"Result: \" + str(valuechecker(Mostpopular_cost, Highestfilm_cost)))"
   ]
  },
  {
   "cell_type": "code",
   "execution_count": 278,
   "id": "c6f2060b-a8ab-4979-856e-a37ad8bee014",
   "metadata": {},
   "outputs": [],
   "source": [
    "Mostpopular_Revenue = popular_column['Revenue']\n",
    "Highestfilm_Revenue= Max['Budget']"
   ]
  },
  {
   "cell_type": "code",
   "execution_count": 279,
   "id": "e6ed0a82-6765-410c-990d-00c47671c104",
   "metadata": {},
   "outputs": [
    {
     "name": "stdout",
     "output_type": "stream",
     "text": [
      "Result: Yes\n"
     ]
    }
   ],
   "source": [
    "print(\"Result: \" + str(valuechecker( Mostpopular_Revenue, Highestfilm_Revenue)))"
   ]
  },
  {
   "cell_type": "code",
   "execution_count": 280,
   "id": "c050bf34-2a9a-4a4c-9564-103b10689b3f",
   "metadata": {},
   "outputs": [
    {
     "name": "stdout",
     "output_type": "stream",
     "text": [
      "<class 'pandas.core.frame.DataFrame'>\n",
      "RangeIndex: 10866 entries, 0 to 10865\n",
      "Data columns (total 22 columns):\n",
      " #   Column                Non-Null Count  Dtype         \n",
      "---  ------                --------------  -----         \n",
      " 0   ID                    10866 non-null  float32       \n",
      " 1   IMDB ID               10856 non-null  float32       \n",
      " 2   Popularity            10866 non-null  float16       \n",
      " 3   Budget                10866 non-null  uint32        \n",
      " 4   Revenue               10866 non-null  float32       \n",
      " 5   Original title        10866 non-null  object        \n",
      " 6   Cast                  10866 non-null  object        \n",
      " 7   Homepage URL          10866 non-null  object        \n",
      " 8   Director              10866 non-null  object        \n",
      " 9   Tag line              10866 non-null  object        \n",
      " 10  Keywords              10866 non-null  object        \n",
      " 11  Overview              10866 non-null  object        \n",
      " 12  Run time              10866 non-null  float16       \n",
      " 13  Genres                10843 non-null  object        \n",
      " 14  Production companies  10866 non-null  object        \n",
      " 15  Release date          10866 non-null  datetime64[ns]\n",
      " 16  Vote count            10866 non-null  float16       \n",
      " 17  Vote average          10866 non-null  float16       \n",
      " 18  Release year          10866 non-null  int16         \n",
      " 19  Budget adjusted       10866 non-null  float64       \n",
      " 20  Revenue adjusted      10866 non-null  float64       \n",
      " 21  Budget adj            10866 non-null  float32       \n",
      "dtypes: datetime64[ns](1), float16(4), float32(4), float64(2), int16(1), object(9), uint32(1)\n",
      "memory usage: 1.3+ MB\n"
     ]
    }
   ],
   "source": [
    "Dataframe.info()"
   ]
  },
  {
   "cell_type": "code",
   "execution_count": 281,
   "id": "50d6f1ea-4252-434c-b578-29bf6575d9df",
   "metadata": {},
   "outputs": [
    {
     "name": "stdout",
     "output_type": "stream",
     "text": [
      "Director name: Colin Trevorrow\n"
     ]
    }
   ],
   "source": [
    "Mostpopular_Director = popular_column['Director']\n",
    "print(\"Director name: \" + str(Mostpopular_Director))"
   ]
  },
  {
   "cell_type": "code",
   "execution_count": 282,
   "id": "0e257767-3d26-419e-bafb-37277788276c",
   "metadata": {},
   "outputs": [
    {
     "data": {
      "text/html": [
       "<div>\n",
       "<style scoped>\n",
       "    .dataframe tbody tr th:only-of-type {\n",
       "        vertical-align: middle;\n",
       "    }\n",
       "\n",
       "    .dataframe tbody tr th {\n",
       "        vertical-align: top;\n",
       "    }\n",
       "\n",
       "    .dataframe thead th {\n",
       "        text-align: right;\n",
       "    }\n",
       "</style>\n",
       "<table border=\"1\" class=\"dataframe\">\n",
       "  <thead>\n",
       "    <tr style=\"text-align: right;\">\n",
       "      <th></th>\n",
       "      <th>ID</th>\n",
       "      <th>IMDB ID</th>\n",
       "      <th>Popularity</th>\n",
       "      <th>Budget</th>\n",
       "      <th>Revenue</th>\n",
       "      <th>Original title</th>\n",
       "      <th>Cast</th>\n",
       "      <th>Homepage URL</th>\n",
       "      <th>Director</th>\n",
       "      <th>Tag line</th>\n",
       "      <th>...</th>\n",
       "      <th>Run time</th>\n",
       "      <th>Genres</th>\n",
       "      <th>Production companies</th>\n",
       "      <th>Release date</th>\n",
       "      <th>Vote count</th>\n",
       "      <th>Vote average</th>\n",
       "      <th>Release year</th>\n",
       "      <th>Budget adjusted</th>\n",
       "      <th>Revenue adjusted</th>\n",
       "      <th>Budget adj</th>\n",
       "    </tr>\n",
       "  </thead>\n",
       "  <tbody>\n",
       "    <tr>\n",
       "      <th>0</th>\n",
       "      <td>135397.0</td>\n",
       "      <td>369610.0</td>\n",
       "      <td>33.000000</td>\n",
       "      <td>150000000</td>\n",
       "      <td>1.513529e+09</td>\n",
       "      <td>Jurassic World</td>\n",
       "      <td>Chris Pratt|Bryce Dallas Howard|Irrfan Khan|Vi...</td>\n",
       "      <td>http://www.jurassicworld.com/</td>\n",
       "      <td>Colin Trevorrow</td>\n",
       "      <td>The park is open.</td>\n",
       "      <td>...</td>\n",
       "      <td>124.0</td>\n",
       "      <td>Action|Adventure|Science Fiction|Thriller</td>\n",
       "      <td>Universal Studios|Amblin Entertainment|Legenda...</td>\n",
       "      <td>2015-06-09</td>\n",
       "      <td>5560.0</td>\n",
       "      <td>6.500000</td>\n",
       "      <td>2015</td>\n",
       "      <td>1.379999e+08</td>\n",
       "      <td>1.392446e+09</td>\n",
       "      <td>1.379999e+08</td>\n",
       "    </tr>\n",
       "    <tr>\n",
       "      <th>4604</th>\n",
       "      <td>84332.0</td>\n",
       "      <td>1862079.0</td>\n",
       "      <td>0.407959</td>\n",
       "      <td>750000</td>\n",
       "      <td>4.007792e+06</td>\n",
       "      <td>Safety Not Guaranteed</td>\n",
       "      <td>Aubrey Plaza|Mark Duplass|Jake Johnson|Karan S...</td>\n",
       "      <td>nan</td>\n",
       "      <td>Colin Trevorrow</td>\n",
       "      <td>What would you go back for?</td>\n",
       "      <td>...</td>\n",
       "      <td>85.0</td>\n",
       "      <td>Comedy|Romance|Science Fiction|Drama</td>\n",
       "      <td>Duplass Brothers Productions|Big Beach Films</td>\n",
       "      <td>2012-06-08</td>\n",
       "      <td>341.0</td>\n",
       "      <td>6.699219</td>\n",
       "      <td>2012</td>\n",
       "      <td>7.123082e+05</td>\n",
       "      <td>3.806378e+06</td>\n",
       "      <td>7.123082e+05</td>\n",
       "    </tr>\n",
       "  </tbody>\n",
       "</table>\n",
       "<p>2 rows × 22 columns</p>\n",
       "</div>"
      ],
      "text/plain": [
       "            ID    IMDB ID  Popularity     Budget       Revenue  \\\n",
       "0     135397.0   369610.0   33.000000  150000000  1.513529e+09   \n",
       "4604   84332.0  1862079.0    0.407959     750000  4.007792e+06   \n",
       "\n",
       "             Original title  \\\n",
       "0            Jurassic World   \n",
       "4604  Safety Not Guaranteed   \n",
       "\n",
       "                                                   Cast  \\\n",
       "0     Chris Pratt|Bryce Dallas Howard|Irrfan Khan|Vi...   \n",
       "4604  Aubrey Plaza|Mark Duplass|Jake Johnson|Karan S...   \n",
       "\n",
       "                       Homepage URL         Director  \\\n",
       "0     http://www.jurassicworld.com/  Colin Trevorrow   \n",
       "4604                            nan  Colin Trevorrow   \n",
       "\n",
       "                         Tag line  ... Run time  \\\n",
       "0               The park is open.  ...    124.0   \n",
       "4604  What would you go back for?  ...     85.0   \n",
       "\n",
       "                                         Genres  \\\n",
       "0     Action|Adventure|Science Fiction|Thriller   \n",
       "4604       Comedy|Romance|Science Fiction|Drama   \n",
       "\n",
       "                                   Production companies Release date  \\\n",
       "0     Universal Studios|Amblin Entertainment|Legenda...   2015-06-09   \n",
       "4604       Duplass Brothers Productions|Big Beach Films   2012-06-08   \n",
       "\n",
       "     Vote count Vote average  Release year  Budget adjusted  Revenue adjusted  \\\n",
       "0        5560.0     6.500000          2015     1.379999e+08      1.392446e+09   \n",
       "4604      341.0     6.699219          2012     7.123082e+05      3.806378e+06   \n",
       "\n",
       "        Budget adj  \n",
       "0     1.379999e+08  \n",
       "4604  7.123082e+05  \n",
       "\n",
       "[2 rows x 22 columns]"
      ]
     },
     "execution_count": 282,
     "metadata": {},
     "output_type": "execute_result"
    }
   ],
   "source": [
    "Dataframe_Colin_Trevorrow = Dataframe[Dataframe['Director'] == 'Colin Trevorrow']\n",
    "Dataframe_Colin_Trevorrow"
   ]
  },
  {
   "cell_type": "markdown",
   "id": "0d9ae560-24d9-4fdf-81ab-bf375dd233f1",
   "metadata": {},
   "source": [
    "## Is there a relation between Time and Revenue?"
   ]
  },
  {
   "cell_type": "markdown",
   "id": "4e6480ce-363c-4b13-8b1d-5dbf86548c5f",
   "metadata": {},
   "source": [
    "### I am an AI master student in the Arabic American University (^_^)"
   ]
  },
  {
   "cell_type": "code",
   "execution_count": 285,
   "id": "1d2acc77-7ac3-481c-82d8-5944119d99ba",
   "metadata": {},
   "outputs": [
    {
     "name": "stdout",
     "output_type": "stream",
     "text": [
      "Correlation ratio: 0.16283788977127206\n"
     ]
    }
   ],
   "source": [
    "Correlation_checking = Dataframe['Run time'].corr(Dataframe['Revenue'])\n",
    "print(\"Correlation ratio: \" + str(Correlation_checking))"
   ]
  },
  {
   "cell_type": "markdown",
   "id": "41da79cd-84ed-43de-a3b1-d4c299e872a3",
   "metadata": {},
   "source": [
    "The corolation is positive but week"
   ]
  },
  {
   "cell_type": "code",
   "execution_count": 287,
   "id": "c251b557-3d6e-48cb-a5ff-55fb545af1dc",
   "metadata": {},
   "outputs": [
    {
     "data": {
      "image/png": "[encoded data removed]",
      "text/plain": [
       "<Figure size 800x600 with 2 Axes>"
      ]
     },
     "metadata": {},
     "output_type": "display_data"
    }
   ],
   "source": [
    "corr_matrix = Dataframe[['Run time', 'Revenue']].corr()\n",
    "plt.figure(figsize=(8, 6)) \n",
    "sns.heatmap(corr_matrix, annot=True, cmap='coolwarm', vmin=-1, vmax=1, center=0)\n",
    "\n",
    "plt.title('Correlation Heatmap')\n",
    "plt.show()"
   ]
  }
 ],
 "metadata": {
  "kernelspec": {
   "display_name": "Python 3 (ipykernel)",
   "language": "python",
   "name": "python3"
  },
  "language_info": {
   "codemirror_mode": {
    "name": "ipython",
    "version": 3
   },
   "file_extension": ".py",
   "mimetype": "text/x-python",
   "name": "python",
   "nbconvert_exporter": "python",
   "pygments_lexer": "ipython3",
   "version": "3.12.4"
  }
 },
 "nbformat": 4,
 "nbformat_minor": 5
}
